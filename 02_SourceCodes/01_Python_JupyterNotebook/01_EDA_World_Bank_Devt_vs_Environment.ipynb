{
 "cells": [
  {
   "cell_type": "markdown",
   "metadata": {},
   "source": [
    "# World Bank's World Development Indicators vs. Environment Analysis - EDA Notebook\n",
    "\n",
    "## Import initial packages"
   ]
  },
  {
   "cell_type": "code",
   "execution_count": 1,
   "metadata": {},
   "outputs": [],
   "source": [
    "import numpy as np\n",
    "import pandas as pd\n",
    "import seaborn as sns\n",
    "import matplotlib.pyplot as plt\n",
    "\n",
    "pd.set_option('display.max_colwidth', None)"
   ]
  },
  {
   "cell_type": "code",
   "execution_count": 2,
   "metadata": {},
   "outputs": [],
   "source": [
    "%run ./help_funcs.ipynb"
   ]
  },
  {
   "cell_type": "markdown",
   "metadata": {},
   "source": [
    "## Climate Change/Pollution Indicators\n",
    "\n",
    "We now check out the data from the World Banks that we know direcly impact the environment adversely"
   ]
  },
  {
   "cell_type": "markdown",
   "metadata": {},
   "source": [
    "### CO2 Emissions"
   ]
  },
  {
   "cell_type": "markdown",
   "metadata": {},
   "source": [
    "#### Loading and checking dataset"
   ]
  },
  {
   "cell_type": "code",
   "execution_count": 3,
   "metadata": {},
   "outputs": [],
   "source": [
    "co2_descdf, co2_df = world_bank_file_to_df('../../01_DataSources/01_Raw/World_Bank_CO2_World_Development_Indicators/World_Bank_CO2_World_Development_Indicators_Data.csv')"
   ]
  },
  {
   "cell_type": "code",
   "execution_count": 4,
   "metadata": {},
   "outputs": [
    {
     "data": {
      "text/html": [
       "<div>\n",
       "<style scoped>\n",
       "    .dataframe tbody tr th:only-of-type {\n",
       "        vertical-align: middle;\n",
       "    }\n",
       "\n",
       "    .dataframe tbody tr th {\n",
       "        vertical-align: top;\n",
       "    }\n",
       "\n",
       "    .dataframe thead th {\n",
       "        text-align: right;\n",
       "    }\n",
       "</style>\n",
       "<table border=\"1\" class=\"dataframe\">\n",
       "  <thead>\n",
       "    <tr style=\"text-align: right;\">\n",
       "      <th></th>\n",
       "      <th>Series Code</th>\n",
       "      <th>Series Name</th>\n",
       "    </tr>\n",
       "  </thead>\n",
       "  <tbody>\n",
       "    <tr>\n",
       "      <th>8</th>\n",
       "      <td>EN.ATM.CO2E.GF.ZS</td>\n",
       "      <td>CO2 emissions from gaseous fuel consumption (% of total)</td>\n",
       "    </tr>\n",
       "    <tr>\n",
       "      <th>0</th>\n",
       "      <td>EN.ATM.CO2E.KT</td>\n",
       "      <td>CO2 emissions (kt)</td>\n",
       "    </tr>\n",
       "    <tr>\n",
       "      <th>7</th>\n",
       "      <td>EN.ATM.CO2E.LF.ZS</td>\n",
       "      <td>CO2 emissions from liquid fuel consumption (% of total)</td>\n",
       "    </tr>\n",
       "    <tr>\n",
       "      <th>1</th>\n",
       "      <td>EN.ATM.CO2E.PC</td>\n",
       "      <td>CO2 emissions (metric tons per capita)</td>\n",
       "    </tr>\n",
       "    <tr>\n",
       "      <th>4</th>\n",
       "      <td>EN.ATM.CO2E.SF.ZS</td>\n",
       "      <td>CO2 emissions from solid fuel consumption (% of total)</td>\n",
       "    </tr>\n",
       "    <tr>\n",
       "      <th>5</th>\n",
       "      <td>EN.CO2.BLDG.ZS</td>\n",
       "      <td>CO2 emissions from residential buildings and commercial and public services (% of total fuel combustion)</td>\n",
       "    </tr>\n",
       "    <tr>\n",
       "      <th>2</th>\n",
       "      <td>EN.CO2.ETOT.ZS</td>\n",
       "      <td>CO2 emissions from electricity and heat production, total (% of total fuel combustion)</td>\n",
       "    </tr>\n",
       "    <tr>\n",
       "      <th>6</th>\n",
       "      <td>EN.CO2.MANF.ZS</td>\n",
       "      <td>CO2 emissions from manufacturing industries and construction (% of total fuel combustion)</td>\n",
       "    </tr>\n",
       "    <tr>\n",
       "      <th>3</th>\n",
       "      <td>EN.CO2.OTHX.ZS</td>\n",
       "      <td>CO2 emissions from other sectors, excluding residential buildings and commercial and public services (% of total fuel combustion)</td>\n",
       "    </tr>\n",
       "    <tr>\n",
       "      <th>9</th>\n",
       "      <td>EN.CO2.TRAN.ZS</td>\n",
       "      <td>CO2 emissions from transport (% of total fuel combustion)</td>\n",
       "    </tr>\n",
       "  </tbody>\n",
       "</table>\n",
       "</div>"
      ],
      "text/plain": [
       "         Series Code  \\\n",
       "8  EN.ATM.CO2E.GF.ZS   \n",
       "0     EN.ATM.CO2E.KT   \n",
       "7  EN.ATM.CO2E.LF.ZS   \n",
       "1     EN.ATM.CO2E.PC   \n",
       "4  EN.ATM.CO2E.SF.ZS   \n",
       "5     EN.CO2.BLDG.ZS   \n",
       "2     EN.CO2.ETOT.ZS   \n",
       "6     EN.CO2.MANF.ZS   \n",
       "3     EN.CO2.OTHX.ZS   \n",
       "9     EN.CO2.TRAN.ZS   \n",
       "\n",
       "                                                                                                                         Series Name  \n",
       "8                                                                           CO2 emissions from gaseous fuel consumption (% of total)  \n",
       "0                                                                                                                 CO2 emissions (kt)  \n",
       "7                                                                            CO2 emissions from liquid fuel consumption (% of total)  \n",
       "1                                                                                             CO2 emissions (metric tons per capita)  \n",
       "4                                                                             CO2 emissions from solid fuel consumption (% of total)  \n",
       "5                           CO2 emissions from residential buildings and commercial and public services (% of total fuel combustion)  \n",
       "2                                             CO2 emissions from electricity and heat production, total (% of total fuel combustion)  \n",
       "6                                          CO2 emissions from manufacturing industries and construction (% of total fuel combustion)  \n",
       "3  CO2 emissions from other sectors, excluding residential buildings and commercial and public services (% of total fuel combustion)  \n",
       "9                                                                          CO2 emissions from transport (% of total fuel combustion)  "
      ]
     },
     "metadata": {},
     "output_type": "display_data"
    }
   ],
   "source": [
    "display(co2_descdf.sort_values('Series Code'))"
   ]
  },
  {
   "cell_type": "code",
   "execution_count": 5,
   "metadata": {},
   "outputs": [
    {
     "data": {
      "image/png": "[encoded data removed]",
      "text/plain": [
       "<Figure size 864x720 with 1 Axes>"
      ]
     },
     "metadata": {
      "needs_background": "light"
     },
     "output_type": "display_data"
    },
    {
     "name": "stdout",
     "output_type": "stream",
     "text": [
      "Percentage of Null values in Dataset:\n"
     ]
    },
    {
     "data": {
      "text/plain": [
       "EN.ATM.CO2E.GF.ZS    41.597542\n",
       "EN.ATM.CO2E.KT       23.717358\n",
       "EN.ATM.CO2E.LF.ZS    41.597542\n",
       "EN.ATM.CO2E.PC       23.717358\n",
       "EN.ATM.CO2E.SF.ZS    41.597542\n",
       "EN.CO2.BLDG.ZS       65.253456\n",
       "EN.CO2.ETOT.ZS       65.253456\n",
       "EN.CO2.MANF.ZS       65.253456\n",
       "EN.CO2.OTHX.ZS       65.253456\n",
       "EN.CO2.TRAN.ZS       65.253456\n",
       "dtype: float64"
      ]
     },
     "metadata": {},
     "output_type": "display_data"
    },
    {
     "name": "stdout",
     "output_type": "stream",
     "text": [
      "Year = 2007\n"
     ]
    },
    {
     "data": {
      "text/plain": [
       "EN.ATM.CO2E.GF.ZS    12.442396\n",
       "EN.ATM.CO2E.KT       11.981567\n",
       "EN.ATM.CO2E.LF.ZS    12.442396\n",
       "EN.ATM.CO2E.PC       11.981567\n",
       "EN.ATM.CO2E.SF.ZS    12.442396\n",
       "EN.CO2.BLDG.ZS       35.023041\n",
       "EN.CO2.ETOT.ZS       35.023041\n",
       "EN.CO2.MANF.ZS       35.023041\n",
       "EN.CO2.OTHX.ZS       35.023041\n",
       "EN.CO2.TRAN.ZS       35.023041\n",
       "dtype: float64"
      ]
     },
     "metadata": {},
     "output_type": "display_data"
    },
    {
     "name": "stdout",
     "output_type": "stream",
     "text": [
      "Year = 2008\n"
     ]
    },
    {
     "data": {
      "text/plain": [
       "EN.ATM.CO2E.GF.ZS    12.442396\n",
       "EN.ATM.CO2E.KT       11.981567\n",
       "EN.ATM.CO2E.LF.ZS    12.442396\n",
       "EN.ATM.CO2E.PC       11.981567\n",
       "EN.ATM.CO2E.SF.ZS    12.442396\n",
       "EN.CO2.BLDG.ZS       35.023041\n",
       "EN.CO2.ETOT.ZS       35.023041\n",
       "EN.CO2.MANF.ZS       35.023041\n",
       "EN.CO2.OTHX.ZS       35.023041\n",
       "EN.CO2.TRAN.ZS       35.023041\n",
       "dtype: float64"
      ]
     },
     "metadata": {},
     "output_type": "display_data"
    },
    {
     "name": "stdout",
     "output_type": "stream",
     "text": [
      "Year = 2009\n"
     ]
    },
    {
     "data": {
      "text/plain": [
       "EN.ATM.CO2E.GF.ZS    12.442396\n",
       "EN.ATM.CO2E.KT       11.981567\n",
       "EN.ATM.CO2E.LF.ZS    12.442396\n",
       "EN.ATM.CO2E.PC       11.981567\n",
       "EN.ATM.CO2E.SF.ZS    12.442396\n",
       "EN.CO2.BLDG.ZS       35.023041\n",
       "EN.CO2.ETOT.ZS       35.023041\n",
       "EN.CO2.MANF.ZS       35.023041\n",
       "EN.CO2.OTHX.ZS       35.023041\n",
       "EN.CO2.TRAN.ZS       35.023041\n",
       "dtype: float64"
      ]
     },
     "metadata": {},
     "output_type": "display_data"
    },
    {
     "name": "stdout",
     "output_type": "stream",
     "text": [
      "Year = 2010\n"
     ]
    },
    {
     "data": {
      "text/plain": [
       "EN.ATM.CO2E.GF.ZS    12.442396\n",
       "EN.ATM.CO2E.KT       11.981567\n",
       "EN.ATM.CO2E.LF.ZS    12.442396\n",
       "EN.ATM.CO2E.PC       11.981567\n",
       "EN.ATM.CO2E.SF.ZS    12.442396\n",
       "EN.CO2.BLDG.ZS       35.023041\n",
       "EN.CO2.ETOT.ZS       35.023041\n",
       "EN.CO2.MANF.ZS       35.023041\n",
       "EN.CO2.OTHX.ZS       35.023041\n",
       "EN.CO2.TRAN.ZS       35.023041\n",
       "dtype: float64"
      ]
     },
     "metadata": {},
     "output_type": "display_data"
    },
    {
     "name": "stdout",
     "output_type": "stream",
     "text": [
      "Year = 2011\n"
     ]
    },
    {
     "data": {
      "text/plain": [
       "EN.ATM.CO2E.GF.ZS    12.442396\n",
       "EN.ATM.CO2E.KT       11.981567\n",
       "EN.ATM.CO2E.LF.ZS    12.442396\n",
       "EN.ATM.CO2E.PC       11.981567\n",
       "EN.ATM.CO2E.SF.ZS    12.442396\n",
       "EN.CO2.BLDG.ZS       35.023041\n",
       "EN.CO2.ETOT.ZS       35.023041\n",
       "EN.CO2.MANF.ZS       35.023041\n",
       "EN.CO2.OTHX.ZS       35.023041\n",
       "EN.CO2.TRAN.ZS       35.023041\n",
       "dtype: float64"
      ]
     },
     "metadata": {},
     "output_type": "display_data"
    },
    {
     "name": "stdout",
     "output_type": "stream",
     "text": [
      "Year = 2012\n"
     ]
    },
    {
     "data": {
      "text/plain": [
       "EN.ATM.CO2E.GF.ZS    11.981567\n",
       "EN.ATM.CO2E.KT       11.981567\n",
       "EN.ATM.CO2E.LF.ZS    11.981567\n",
       "EN.ATM.CO2E.PC       11.981567\n",
       "EN.ATM.CO2E.SF.ZS    11.981567\n",
       "EN.CO2.BLDG.ZS       34.562212\n",
       "EN.CO2.ETOT.ZS       34.562212\n",
       "EN.CO2.MANF.ZS       34.562212\n",
       "EN.CO2.OTHX.ZS       34.562212\n",
       "EN.CO2.TRAN.ZS       34.562212\n",
       "dtype: float64"
      ]
     },
     "metadata": {},
     "output_type": "display_data"
    },
    {
     "name": "stdout",
     "output_type": "stream",
     "text": [
      "Year = 2013\n"
     ]
    },
    {
     "data": {
      "text/plain": [
       "EN.ATM.CO2E.GF.ZS    11.981567\n",
       "EN.ATM.CO2E.KT       11.981567\n",
       "EN.ATM.CO2E.LF.ZS    11.981567\n",
       "EN.ATM.CO2E.PC       11.981567\n",
       "EN.ATM.CO2E.SF.ZS    11.981567\n",
       "EN.CO2.BLDG.ZS       34.562212\n",
       "EN.CO2.ETOT.ZS       34.562212\n",
       "EN.CO2.MANF.ZS       34.562212\n",
       "EN.CO2.OTHX.ZS       34.562212\n",
       "EN.CO2.TRAN.ZS       34.562212\n",
       "dtype: float64"
      ]
     },
     "metadata": {},
     "output_type": "display_data"
    },
    {
     "name": "stdout",
     "output_type": "stream",
     "text": [
      "Year = 2014\n"
     ]
    },
    {
     "data": {
      "text/plain": [
       "EN.ATM.CO2E.GF.ZS    11.981567\n",
       "EN.ATM.CO2E.KT       11.981567\n",
       "EN.ATM.CO2E.LF.ZS    11.981567\n",
       "EN.ATM.CO2E.PC       11.981567\n",
       "EN.ATM.CO2E.SF.ZS    11.981567\n",
       "EN.CO2.BLDG.ZS       34.562212\n",
       "EN.CO2.ETOT.ZS       34.562212\n",
       "EN.CO2.MANF.ZS       34.562212\n",
       "EN.CO2.OTHX.ZS       34.562212\n",
       "EN.CO2.TRAN.ZS       34.562212\n",
       "dtype: float64"
      ]
     },
     "metadata": {},
     "output_type": "display_data"
    },
    {
     "name": "stdout",
     "output_type": "stream",
     "text": [
      "Year = 2015\n"
     ]
    },
    {
     "data": {
      "text/plain": [
       "EN.ATM.CO2E.GF.ZS     12.903226\n",
       "EN.ATM.CO2E.KT        11.981567\n",
       "EN.ATM.CO2E.LF.ZS     12.903226\n",
       "EN.ATM.CO2E.PC        11.981567\n",
       "EN.ATM.CO2E.SF.ZS     12.903226\n",
       "EN.CO2.BLDG.ZS       100.000000\n",
       "EN.CO2.ETOT.ZS       100.000000\n",
       "EN.CO2.MANF.ZS       100.000000\n",
       "EN.CO2.OTHX.ZS       100.000000\n",
       "EN.CO2.TRAN.ZS       100.000000\n",
       "dtype: float64"
      ]
     },
     "metadata": {},
     "output_type": "display_data"
    },
    {
     "name": "stdout",
     "output_type": "stream",
     "text": [
      "Year = 2016\n"
     ]
    },
    {
     "data": {
      "text/plain": [
       "EN.ATM.CO2E.GF.ZS     12.903226\n",
       "EN.ATM.CO2E.KT        11.981567\n",
       "EN.ATM.CO2E.LF.ZS     12.903226\n",
       "EN.ATM.CO2E.PC        11.981567\n",
       "EN.ATM.CO2E.SF.ZS     12.903226\n",
       "EN.CO2.BLDG.ZS       100.000000\n",
       "EN.CO2.ETOT.ZS       100.000000\n",
       "EN.CO2.MANF.ZS       100.000000\n",
       "EN.CO2.OTHX.ZS       100.000000\n",
       "EN.CO2.TRAN.ZS       100.000000\n",
       "dtype: float64"
      ]
     },
     "metadata": {},
     "output_type": "display_data"
    },
    {
     "name": "stdout",
     "output_type": "stream",
     "text": [
      "Year = 2017\n"
     ]
    },
    {
     "data": {
      "text/plain": [
       "EN.ATM.CO2E.GF.ZS    100.000000\n",
       "EN.ATM.CO2E.KT        11.981567\n",
       "EN.ATM.CO2E.LF.ZS    100.000000\n",
       "EN.ATM.CO2E.PC        11.981567\n",
       "EN.ATM.CO2E.SF.ZS    100.000000\n",
       "EN.CO2.BLDG.ZS       100.000000\n",
       "EN.CO2.ETOT.ZS       100.000000\n",
       "EN.CO2.MANF.ZS       100.000000\n",
       "EN.CO2.OTHX.ZS       100.000000\n",
       "EN.CO2.TRAN.ZS       100.000000\n",
       "dtype: float64"
      ]
     },
     "metadata": {},
     "output_type": "display_data"
    },
    {
     "name": "stdout",
     "output_type": "stream",
     "text": [
      "Year = 2018\n"
     ]
    },
    {
     "data": {
      "text/plain": [
       "EN.ATM.CO2E.GF.ZS    100.000000\n",
       "EN.ATM.CO2E.KT        11.981567\n",
       "EN.ATM.CO2E.LF.ZS    100.000000\n",
       "EN.ATM.CO2E.PC        11.981567\n",
       "EN.ATM.CO2E.SF.ZS    100.000000\n",
       "EN.CO2.BLDG.ZS       100.000000\n",
       "EN.CO2.ETOT.ZS       100.000000\n",
       "EN.CO2.MANF.ZS       100.000000\n",
       "EN.CO2.OTHX.ZS       100.000000\n",
       "EN.CO2.TRAN.ZS       100.000000\n",
       "dtype: float64"
      ]
     },
     "metadata": {},
     "output_type": "display_data"
    },
    {
     "name": "stdout",
     "output_type": "stream",
     "text": [
      "Year = 2019\n"
     ]
    },
    {
     "data": {
      "text/plain": [
       "EN.ATM.CO2E.GF.ZS    100.000000\n",
       "EN.ATM.CO2E.KT        11.981567\n",
       "EN.ATM.CO2E.LF.ZS    100.000000\n",
       "EN.ATM.CO2E.PC        11.981567\n",
       "EN.ATM.CO2E.SF.ZS    100.000000\n",
       "EN.CO2.BLDG.ZS       100.000000\n",
       "EN.CO2.ETOT.ZS       100.000000\n",
       "EN.CO2.MANF.ZS       100.000000\n",
       "EN.CO2.OTHX.ZS       100.000000\n",
       "EN.CO2.TRAN.ZS       100.000000\n",
       "dtype: float64"
      ]
     },
     "metadata": {},
     "output_type": "display_data"
    },
    {
     "name": "stdout",
     "output_type": "stream",
     "text": [
      "Year = 2020\n"
     ]
    },
    {
     "data": {
      "text/plain": [
       "EN.ATM.CO2E.GF.ZS    100.0\n",
       "EN.ATM.CO2E.KT       100.0\n",
       "EN.ATM.CO2E.LF.ZS    100.0\n",
       "EN.ATM.CO2E.PC       100.0\n",
       "EN.ATM.CO2E.SF.ZS    100.0\n",
       "EN.CO2.BLDG.ZS       100.0\n",
       "EN.CO2.ETOT.ZS       100.0\n",
       "EN.CO2.MANF.ZS       100.0\n",
       "EN.CO2.OTHX.ZS       100.0\n",
       "EN.CO2.TRAN.ZS       100.0\n",
       "dtype: float64"
      ]
     },
     "metadata": {},
     "output_type": "display_data"
    },
    {
     "name": "stdout",
     "output_type": "stream",
     "text": [
      "Year = 2021\n"
     ]
    },
    {
     "data": {
      "text/plain": [
       "EN.ATM.CO2E.GF.ZS    100.0\n",
       "EN.ATM.CO2E.KT       100.0\n",
       "EN.ATM.CO2E.LF.ZS    100.0\n",
       "EN.ATM.CO2E.PC       100.0\n",
       "EN.ATM.CO2E.SF.ZS    100.0\n",
       "EN.CO2.BLDG.ZS       100.0\n",
       "EN.CO2.ETOT.ZS       100.0\n",
       "EN.CO2.MANF.ZS       100.0\n",
       "EN.CO2.OTHX.ZS       100.0\n",
       "EN.CO2.TRAN.ZS       100.0\n",
       "dtype: float64"
      ]
     },
     "metadata": {},
     "output_type": "display_data"
    }
   ],
   "source": [
    "visualize_nulls(co2_df)"
   ]
  },
  {
   "cell_type": "markdown",
   "metadata": {},
   "source": [
    "* World Bank data only has data up to 2019 for now\n",
    "* Only CO2 Emissions and CO2 Emissions per capita has enough data after 2014 while others have a large amount of null values"
   ]
  },
  {
   "cell_type": "markdown",
   "metadata": {},
   "source": [
    "#### CO2 Emissions for each country"
   ]
  },
  {
   "cell_type": "code",
   "execution_count": 6,
   "metadata": {},
   "outputs": [],
   "source": [
    "# remove records with year 2020 and 2021\n",
    "co2_df = co2_df[~co2_df['Year'].isin([2020, 2021])]"
   ]
  },
  {
   "cell_type": "code",
   "execution_count": 7,
   "metadata": {},
   "outputs": [
    {
     "name": "stdout",
     "output_type": "stream",
     "text": [
      "['China', 'United States', 'India', 'Russian Federation', 'Japan', 'Germany', 'Korea, Rep.', 'Iran, Islamic Rep.', 'Canada', 'Saudi Arabia']\n"
     ]
    }
   ],
   "source": [
    "# Get the the top 10 countries with the highest average C02 emissions 2007-2019\n",
    "co2_em_df = co2_df[['Country', 'Year', 'EN.ATM.CO2E.KT']].dropna()\n",
    "\n",
    "co2_em_df_top10_list = co2_em_df.groupby('Country')\\\n",
    "                                .mean()\\\n",
    "                                .reset_index()\\\n",
    "                                .sort_values('EN.ATM.CO2E.KT',ascending=False)\\\n",
    "                                .head(10)['Country']\\\n",
    "                                .tolist()\n",
    "\n",
    "co2_em_df_top10 = co2_em_df[co2_em_df['Country'].isin(co2_em_df_top10_list)]\n",
    "\n",
    "print(co2_em_df_top10_list)"
   ]
  },
  {
   "cell_type": "code",
   "execution_count": 8,
   "metadata": {},
   "outputs": [
    {
     "data": {
      "text/plain": [
       "<Figure size 432x288 with 0 Axes>"
      ]
     },
     "metadata": {},
     "output_type": "display_data"
    },
    {
     "data": {
      "image/png": "[encoded data removed]",
      "text/plain": [
       "<Figure size 864x720 with 1 Axes>"
      ]
     },
     "metadata": {
      "needs_background": "light"
     },
     "output_type": "display_data"
    }
   ],
   "source": [
    "plt.clf()\n",
    "plt.figure(figsize=(12,10))\n",
    "plt.title('Top 10 Countries on C02 emissions')\n",
    "plt.ylabel('kilotons')\n",
    "ax = sns.lineplot(x='Year', y='EN.ATM.CO2E.KT', data=co2_em_df_top10, hue='Country', hue_order=co2_em_df_top10_list)\n",
    "plt.show()"
   ]
  },
  {
   "cell_type": "markdown",
   "metadata": {},
   "source": [
    "China and the United States have the most CO2 emission contribution compared to the other 8 with China trending upwards."
   ]
  },
  {
   "cell_type": "markdown",
   "metadata": {},
   "source": [
    "#### CO2 Emissions per capita for each country"
   ]
  },
  {
   "cell_type": "code",
   "execution_count": 18,
   "metadata": {},
   "outputs": [
    {
     "name": "stdout",
     "output_type": "stream",
     "text": [
      "['Qatar', 'Kuwait', 'Bahrain', 'United Arab Emirates', 'Luxembourg', 'Brunei Darussalam', 'Australia', 'United States', 'Saudi Arabia', 'Oman']\n"
     ]
    }
   ],
   "source": [
    "# Get the the top 10 countries with the highest average C02 emissions per capita 2007-2019\n",
    "co2_em_pc_df = co2_df[['Country', 'Year', 'EN.ATM.CO2E.PC']].dropna()\n",
    "\n",
    "co2_em_pc_df_top10_list = co2_em_pc_df.groupby('Country')\\\n",
    "                                      .mean()\\\n",
    "                                      .reset_index()\\\n",
    "                                      .sort_values('EN.ATM.CO2E.PC',ascending=False)\\\n",
    "                                      .head(10)['Country']\\\n",
    "                                      .tolist()\n",
    "\n",
    "co2_em_pc_df_top10 = co2_em_pc_df[co2_em_pc_df['Country'].isin(co2_em_pc_df_top10_list)]\n",
    "\n",
    "print(co2_em_pc_df_top10_list)"
   ]
  },
  {
   "cell_type": "code",
   "execution_count": 19,
   "metadata": {},
   "outputs": [
    {
     "data": {
      "text/plain": [
       "<Figure size 432x288 with 0 Axes>"
      ]
     },
     "metadata": {},
     "output_type": "display_data"
    },
    {
     "data": {
      "image/png": "[encoded data removed]",
      "text/plain": [
       "<Figure size 864x720 with 1 Axes>"
      ]
     },
     "metadata": {
      "needs_background": "light"
     },
     "output_type": "display_data"
    }
   ],
   "source": [
    "plt.clf()\n",
    "plt.figure(figsize=(12,10))\n",
    "plt.title('Top 10 Countries on C02 emissions per capita')\n",
    "plt.ylabel('Metric Tons')\n",
    "ax = sns.lineplot(x='Year', y='EN.ATM.CO2E.PC', data=co2_em_pc_df_top10, hue='Country', hue_order=co2_em_pc_df_top10_list)\n",
    "plt.show()"
   ]
  },
  {
   "cell_type": "markdown",
   "metadata": {},
   "source": [
    "On the other hand, with regards to CO2 emissions per capita, Qatar has the most with significant margin against the other top countries.  Also, the top 2 countries, Qatar and Kuwait, have their CO2 emissions per capita trending downwards."
   ]
  },
  {
   "cell_type": "markdown",
   "metadata": {},
   "source": [
    "Overall, based the viable CO2 data obtained, we can take some of the top countries on CO2 emissions and analyze those closer compared to the other data we have."
   ]
  },
  {
   "cell_type": "markdown",
   "metadata": {},
   "source": [
    "### Air Pollution"
   ]
  },
  {
   "cell_type": "markdown",
   "metadata": {},
   "source": [
    "#### Loading and checking dataset"
   ]
  },
  {
   "cell_type": "code",
   "execution_count": 26,
   "metadata": {},
   "outputs": [],
   "source": [
    "pollution_descdf, pollution_df = world_bank_file_to_df('../../01_DataSources/01_Raw/World_Bank_Pollution_World_Development_Indicators/World_Bank_Pollution_World_Development_Indicators_Data.csv')"
   ]
  },
  {
   "cell_type": "code",
   "execution_count": 27,
   "metadata": {},
   "outputs": [
    {
     "data": {
      "text/html": [
       "<div>\n",
       "<style scoped>\n",
       "    .dataframe tbody tr th:only-of-type {\n",
       "        vertical-align: middle;\n",
       "    }\n",
       "\n",
       "    .dataframe tbody tr th {\n",
       "        vertical-align: top;\n",
       "    }\n",
       "\n",
       "    .dataframe thead th {\n",
       "        text-align: right;\n",
       "    }\n",
       "</style>\n",
       "<table border=\"1\" class=\"dataframe\">\n",
       "  <thead>\n",
       "    <tr style=\"text-align: right;\">\n",
       "      <th></th>\n",
       "      <th>Series Code</th>\n",
       "      <th>Series Name</th>\n",
       "    </tr>\n",
       "  </thead>\n",
       "  <tbody>\n",
       "    <tr>\n",
       "      <th>0</th>\n",
       "      <td>EN.ATM.PM25.MC.M3</td>\n",
       "      <td>PM2.5 air pollution, mean annual exposure (micrograms per cubic meter)</td>\n",
       "    </tr>\n",
       "    <tr>\n",
       "      <th>3</th>\n",
       "      <td>EN.ATM.PM25.MC.T1.ZS</td>\n",
       "      <td>PM2.5 pollution, population exposed to levels exceeding WHO Interim Target-1 value (% of total)</td>\n",
       "    </tr>\n",
       "    <tr>\n",
       "      <th>2</th>\n",
       "      <td>EN.ATM.PM25.MC.T2.ZS</td>\n",
       "      <td>PM2.5 pollution, population exposed to levels exceeding WHO Interim Target-2 value (% of total)</td>\n",
       "    </tr>\n",
       "    <tr>\n",
       "      <th>4</th>\n",
       "      <td>EN.ATM.PM25.MC.T3.ZS</td>\n",
       "      <td>PM2.5 pollution, population exposed to levels exceeding WHO Interim Target-3 value (% of total)</td>\n",
       "    </tr>\n",
       "    <tr>\n",
       "      <th>1</th>\n",
       "      <td>EN.ATM.PM25.MC.ZS</td>\n",
       "      <td>PM2.5 air pollution, population exposed to levels exceeding WHO guideline value (% of total)</td>\n",
       "    </tr>\n",
       "  </tbody>\n",
       "</table>\n",
       "</div>"
      ],
      "text/plain": [
       "            Series Code  \\\n",
       "0     EN.ATM.PM25.MC.M3   \n",
       "3  EN.ATM.PM25.MC.T1.ZS   \n",
       "2  EN.ATM.PM25.MC.T2.ZS   \n",
       "4  EN.ATM.PM25.MC.T3.ZS   \n",
       "1     EN.ATM.PM25.MC.ZS   \n",
       "\n",
       "                                                                                       Series Name  \n",
       "0                           PM2.5 air pollution, mean annual exposure (micrograms per cubic meter)  \n",
       "3  PM2.5 pollution, population exposed to levels exceeding WHO Interim Target-1 value (% of total)  \n",
       "2  PM2.5 pollution, population exposed to levels exceeding WHO Interim Target-2 value (% of total)  \n",
       "4  PM2.5 pollution, population exposed to levels exceeding WHO Interim Target-3 value (% of total)  \n",
       "1     PM2.5 air pollution, population exposed to levels exceeding WHO guideline value (% of total)  "
      ]
     },
     "metadata": {},
     "output_type": "display_data"
    }
   ],
   "source": [
    "display(pollution_descdf.sort_values('Series Code'))"
   ]
  },
  {
   "cell_type": "code",
   "execution_count": 28,
   "metadata": {},
   "outputs": [
    {
     "data": {
      "image/png": "[encoded data removed]",
      "text/plain": [
       "<Figure size 864x720 with 1 Axes>"
      ]
     },
     "metadata": {
      "needs_background": "light"
     },
     "output_type": "display_data"
    },
    {
     "name": "stdout",
     "output_type": "stream",
     "text": [
      "Percentage of Null values in Dataset:\n"
     ]
    },
    {
     "data": {
      "text/plain": [
       "EN.ATM.PM25.MC.M3       52.319508\n",
       "EN.ATM.PM25.MC.T1.ZS    52.319508\n",
       "EN.ATM.PM25.MC.T2.ZS    52.319508\n",
       "EN.ATM.PM25.MC.T3.ZS    52.319508\n",
       "EN.ATM.PM25.MC.ZS       52.319508\n",
       "dtype: float64"
      ]
     },
     "metadata": {},
     "output_type": "display_data"
    },
    {
     "name": "stdout",
     "output_type": "stream",
     "text": [
      "Year = 2007\n"
     ]
    },
    {
     "data": {
      "text/plain": [
       "EN.ATM.PM25.MC.M3       100.0\n",
       "EN.ATM.PM25.MC.T1.ZS    100.0\n",
       "EN.ATM.PM25.MC.T2.ZS    100.0\n",
       "EN.ATM.PM25.MC.T3.ZS    100.0\n",
       "EN.ATM.PM25.MC.ZS       100.0\n",
       "dtype: float64"
      ]
     },
     "metadata": {},
     "output_type": "display_data"
    },
    {
     "name": "stdout",
     "output_type": "stream",
     "text": [
      "Year = 2008\n"
     ]
    },
    {
     "data": {
      "text/plain": [
       "EN.ATM.PM25.MC.M3       100.0\n",
       "EN.ATM.PM25.MC.T1.ZS    100.0\n",
       "EN.ATM.PM25.MC.T2.ZS    100.0\n",
       "EN.ATM.PM25.MC.T3.ZS    100.0\n",
       "EN.ATM.PM25.MC.ZS       100.0\n",
       "dtype: float64"
      ]
     },
     "metadata": {},
     "output_type": "display_data"
    },
    {
     "name": "stdout",
     "output_type": "stream",
     "text": [
      "Year = 2009\n"
     ]
    },
    {
     "data": {
      "text/plain": [
       "EN.ATM.PM25.MC.M3       100.0\n",
       "EN.ATM.PM25.MC.T1.ZS    100.0\n",
       "EN.ATM.PM25.MC.T2.ZS    100.0\n",
       "EN.ATM.PM25.MC.T3.ZS    100.0\n",
       "EN.ATM.PM25.MC.ZS       100.0\n",
       "dtype: float64"
      ]
     },
     "metadata": {},
     "output_type": "display_data"
    },
    {
     "name": "stdout",
     "output_type": "stream",
     "text": [
      "Year = 2010\n"
     ]
    },
    {
     "data": {
      "text/plain": [
       "EN.ATM.PM25.MC.M3       10.599078\n",
       "EN.ATM.PM25.MC.T1.ZS    10.599078\n",
       "EN.ATM.PM25.MC.T2.ZS    10.599078\n",
       "EN.ATM.PM25.MC.T3.ZS    10.599078\n",
       "EN.ATM.PM25.MC.ZS       10.599078\n",
       "dtype: float64"
      ]
     },
     "metadata": {},
     "output_type": "display_data"
    },
    {
     "name": "stdout",
     "output_type": "stream",
     "text": [
      "Year = 2011\n"
     ]
    },
    {
     "data": {
      "text/plain": [
       "EN.ATM.PM25.MC.M3       10.599078\n",
       "EN.ATM.PM25.MC.T1.ZS    10.599078\n",
       "EN.ATM.PM25.MC.T2.ZS    10.599078\n",
       "EN.ATM.PM25.MC.T3.ZS    10.599078\n",
       "EN.ATM.PM25.MC.ZS       10.599078\n",
       "dtype: float64"
      ]
     },
     "metadata": {},
     "output_type": "display_data"
    },
    {
     "name": "stdout",
     "output_type": "stream",
     "text": [
      "Year = 2012\n"
     ]
    },
    {
     "data": {
      "text/plain": [
       "EN.ATM.PM25.MC.M3       10.599078\n",
       "EN.ATM.PM25.MC.T1.ZS    10.599078\n",
       "EN.ATM.PM25.MC.T2.ZS    10.599078\n",
       "EN.ATM.PM25.MC.T3.ZS    10.599078\n",
       "EN.ATM.PM25.MC.ZS       10.599078\n",
       "dtype: float64"
      ]
     },
     "metadata": {},
     "output_type": "display_data"
    },
    {
     "name": "stdout",
     "output_type": "stream",
     "text": [
      "Year = 2013\n"
     ]
    },
    {
     "data": {
      "text/plain": [
       "EN.ATM.PM25.MC.M3       10.599078\n",
       "EN.ATM.PM25.MC.T1.ZS    10.599078\n",
       "EN.ATM.PM25.MC.T2.ZS    10.599078\n",
       "EN.ATM.PM25.MC.T3.ZS    10.599078\n",
       "EN.ATM.PM25.MC.ZS       10.599078\n",
       "dtype: float64"
      ]
     },
     "metadata": {},
     "output_type": "display_data"
    },
    {
     "name": "stdout",
     "output_type": "stream",
     "text": [
      "Year = 2014\n"
     ]
    },
    {
     "data": {
      "text/plain": [
       "EN.ATM.PM25.MC.M3       10.599078\n",
       "EN.ATM.PM25.MC.T1.ZS    10.599078\n",
       "EN.ATM.PM25.MC.T2.ZS    10.599078\n",
       "EN.ATM.PM25.MC.T3.ZS    10.599078\n",
       "EN.ATM.PM25.MC.ZS       10.599078\n",
       "dtype: float64"
      ]
     },
     "metadata": {},
     "output_type": "display_data"
    },
    {
     "name": "stdout",
     "output_type": "stream",
     "text": [
      "Year = 2015\n"
     ]
    },
    {
     "data": {
      "text/plain": [
       "EN.ATM.PM25.MC.M3       10.599078\n",
       "EN.ATM.PM25.MC.T1.ZS    10.599078\n",
       "EN.ATM.PM25.MC.T2.ZS    10.599078\n",
       "EN.ATM.PM25.MC.T3.ZS    10.599078\n",
       "EN.ATM.PM25.MC.ZS       10.599078\n",
       "dtype: float64"
      ]
     },
     "metadata": {},
     "output_type": "display_data"
    },
    {
     "name": "stdout",
     "output_type": "stream",
     "text": [
      "Year = 2016\n"
     ]
    },
    {
     "data": {
      "text/plain": [
       "EN.ATM.PM25.MC.M3       10.599078\n",
       "EN.ATM.PM25.MC.T1.ZS    10.599078\n",
       "EN.ATM.PM25.MC.T2.ZS    10.599078\n",
       "EN.ATM.PM25.MC.T3.ZS    10.599078\n",
       "EN.ATM.PM25.MC.ZS       10.599078\n",
       "dtype: float64"
      ]
     },
     "metadata": {},
     "output_type": "display_data"
    },
    {
     "name": "stdout",
     "output_type": "stream",
     "text": [
      "Year = 2017\n"
     ]
    },
    {
     "data": {
      "text/plain": [
       "EN.ATM.PM25.MC.M3       10.599078\n",
       "EN.ATM.PM25.MC.T1.ZS    10.599078\n",
       "EN.ATM.PM25.MC.T2.ZS    10.599078\n",
       "EN.ATM.PM25.MC.T3.ZS    10.599078\n",
       "EN.ATM.PM25.MC.ZS       10.599078\n",
       "dtype: float64"
      ]
     },
     "metadata": {},
     "output_type": "display_data"
    },
    {
     "name": "stdout",
     "output_type": "stream",
     "text": [
      "Year = 2018\n"
     ]
    },
    {
     "data": {
      "text/plain": [
       "EN.ATM.PM25.MC.M3       100.0\n",
       "EN.ATM.PM25.MC.T1.ZS    100.0\n",
       "EN.ATM.PM25.MC.T2.ZS    100.0\n",
       "EN.ATM.PM25.MC.T3.ZS    100.0\n",
       "EN.ATM.PM25.MC.ZS       100.0\n",
       "dtype: float64"
      ]
     },
     "metadata": {},
     "output_type": "display_data"
    },
    {
     "name": "stdout",
     "output_type": "stream",
     "text": [
      "Year = 2019\n"
     ]
    },
    {
     "data": {
      "text/plain": [
       "EN.ATM.PM25.MC.M3       100.0\n",
       "EN.ATM.PM25.MC.T1.ZS    100.0\n",
       "EN.ATM.PM25.MC.T2.ZS    100.0\n",
       "EN.ATM.PM25.MC.T3.ZS    100.0\n",
       "EN.ATM.PM25.MC.ZS       100.0\n",
       "dtype: float64"
      ]
     },
     "metadata": {},
     "output_type": "display_data"
    },
    {
     "name": "stdout",
     "output_type": "stream",
     "text": [
      "Year = 2020\n"
     ]
    },
    {
     "data": {
      "text/plain": [
       "EN.ATM.PM25.MC.M3       100.0\n",
       "EN.ATM.PM25.MC.T1.ZS    100.0\n",
       "EN.ATM.PM25.MC.T2.ZS    100.0\n",
       "EN.ATM.PM25.MC.T3.ZS    100.0\n",
       "EN.ATM.PM25.MC.ZS       100.0\n",
       "dtype: float64"
      ]
     },
     "metadata": {},
     "output_type": "display_data"
    },
    {
     "name": "stdout",
     "output_type": "stream",
     "text": [
      "Year = 2021\n"
     ]
    },
    {
     "data": {
      "text/plain": [
       "EN.ATM.PM25.MC.M3       100.0\n",
       "EN.ATM.PM25.MC.T1.ZS    100.0\n",
       "EN.ATM.PM25.MC.T2.ZS    100.0\n",
       "EN.ATM.PM25.MC.T3.ZS    100.0\n",
       "EN.ATM.PM25.MC.ZS       100.0\n",
       "dtype: float64"
      ]
     },
     "metadata": {},
     "output_type": "display_data"
    }
   ],
   "source": [
    "visualize_nulls(pollution_df)"
   ]
  },
  {
   "cell_type": "markdown",
   "metadata": {},
   "source": [
    "Unfortunately, this air pollution data is only available from 2010 to 2017"
   ]
  },
  {
   "cell_type": "markdown",
   "metadata": {},
   "source": [
    "#### Mean Annual Exposure to Air Pollution\n",
    "\n",
    "We check this metric out as others are more subjective as they are measured aganist WHO level."
   ]
  },
  {
   "cell_type": "code",
   "execution_count": 29,
   "metadata": {},
   "outputs": [],
   "source": [
    "pollution_df = pollution_df[pollution_df['Year'].isin(range(2010,2018))]"
   ]
  },
  {
   "cell_type": "code",
   "execution_count": 31,
   "metadata": {},
   "outputs": [
    {
     "name": "stdout",
     "output_type": "stream",
     "text": [
      "['Nepal', 'India', 'Qatar', 'Saudi Arabia', 'Egypt, Arab Rep.', 'Niger', 'Bahrain', 'Bangladesh', 'Cameroon', 'Iraq']\n"
     ]
    }
   ],
   "source": [
    "# Get the the top 10 countries with the highest average C02 emissions 2007-2019\n",
    "pollution_tot_df = pollution_df[['Country', 'Year', 'EN.ATM.PM25.MC.M3']].dropna()\n",
    "\n",
    "pollution_tot_df_top10_list = pollution_tot_df.groupby('Country')\\\n",
    "                                .mean()\\\n",
    "                                .reset_index()\\\n",
    "                                .sort_values('EN.ATM.PM25.MC.M3',ascending=False)\\\n",
    "                                .head(10)['Country']\\\n",
    "                                .tolist()\n",
    "\n",
    "pollution_tot_df_top10 = pollution_tot_df[pollution_tot_df['Country'].isin(pollution_tot_df_top10_list)]\n",
    "\n",
    "print(pollution_tot_df_top10_list)"
   ]
  },
  {
   "cell_type": "markdown",
   "metadata": {},
   "source": [
    "Aside from India, we can't compare this to the top countries in terms of CO2 emissions.  We may need to exclude this set on what drivers/indicators of climate change we will check."
   ]
  },
  {
   "cell_type": "markdown",
   "metadata": {},
   "source": [
    "### Other Gas Emissions"
   ]
  },
  {
   "cell_type": "markdown",
   "metadata": {},
   "source": [
    "#### Loading and checking dataset"
   ]
  },
  {
   "cell_type": "code",
   "execution_count": 37,
   "metadata": {},
   "outputs": [],
   "source": [
    "othergas_descdf, othergas_df = world_bank_file_to_df('../../01_DataSources/01_Raw/World_Bank_Othergas_World_Development_Indicators/World_Bank_Othergas_World_Development_Indicators_Data.csv')"
   ]
  },
  {
   "cell_type": "code",
   "execution_count": 34,
   "metadata": {},
   "outputs": [
    {
     "data": {
      "text/html": [
       "<div>\n",
       "<style scoped>\n",
       "    .dataframe tbody tr th:only-of-type {\n",
       "        vertical-align: middle;\n",
       "    }\n",
       "\n",
       "    .dataframe tbody tr th {\n",
       "        vertical-align: top;\n",
       "    }\n",
       "\n",
       "    .dataframe thead th {\n",
       "        text-align: right;\n",
       "    }\n",
       "</style>\n",
       "<table border=\"1\" class=\"dataframe\">\n",
       "  <thead>\n",
       "    <tr style=\"text-align: right;\">\n",
       "      <th></th>\n",
       "      <th>Series Code</th>\n",
       "      <th>Series Name</th>\n",
       "    </tr>\n",
       "  </thead>\n",
       "  <tbody>\n",
       "    <tr>\n",
       "      <th>1</th>\n",
       "      <td>EN.ATM.GHGO.KT.CE</td>\n",
       "      <td>Other greenhouse gas emissions, HFC, PFC and SF6 (thousand metric tons of CO2 equivalent)</td>\n",
       "    </tr>\n",
       "    <tr>\n",
       "      <th>4</th>\n",
       "      <td>EN.ATM.GHGT.KT.CE</td>\n",
       "      <td>Total greenhouse gas emissions (kt of CO2 equivalent)</td>\n",
       "    </tr>\n",
       "    <tr>\n",
       "      <th>2</th>\n",
       "      <td>EN.ATM.HFCG.KT.CE</td>\n",
       "      <td>HFC gas emissions (thousand metric tons of CO2 equivalent)</td>\n",
       "    </tr>\n",
       "    <tr>\n",
       "      <th>3</th>\n",
       "      <td>EN.ATM.METH.KT.CE</td>\n",
       "      <td>Methane emissions (kt of CO2 equivalent)</td>\n",
       "    </tr>\n",
       "    <tr>\n",
       "      <th>0</th>\n",
       "      <td>EN.ATM.NOXE.KT.CE</td>\n",
       "      <td>Nitrous oxide emissions (thousand metric tons of CO2 equivalent)</td>\n",
       "    </tr>\n",
       "    <tr>\n",
       "      <th>5</th>\n",
       "      <td>EN.ATM.SF6G.KT.CE</td>\n",
       "      <td>SF6 gas emissions (thousand metric tons of CO2 equivalent)</td>\n",
       "    </tr>\n",
       "  </tbody>\n",
       "</table>\n",
       "</div>"
      ],
      "text/plain": [
       "         Series Code  \\\n",
       "1  EN.ATM.GHGO.KT.CE   \n",
       "4  EN.ATM.GHGT.KT.CE   \n",
       "2  EN.ATM.HFCG.KT.CE   \n",
       "3  EN.ATM.METH.KT.CE   \n",
       "0  EN.ATM.NOXE.KT.CE   \n",
       "5  EN.ATM.SF6G.KT.CE   \n",
       "\n",
       "                                                                                 Series Name  \n",
       "1  Other greenhouse gas emissions, HFC, PFC and SF6 (thousand metric tons of CO2 equivalent)  \n",
       "4                                      Total greenhouse gas emissions (kt of CO2 equivalent)  \n",
       "2                                 HFC gas emissions (thousand metric tons of CO2 equivalent)  \n",
       "3                                                   Methane emissions (kt of CO2 equivalent)  \n",
       "0                           Nitrous oxide emissions (thousand metric tons of CO2 equivalent)  \n",
       "5                                 SF6 gas emissions (thousand metric tons of CO2 equivalent)  "
      ]
     },
     "metadata": {},
     "output_type": "display_data"
    }
   ],
   "source": [
    "display(othergas_descdf.sort_values('Series Code'))"
   ]
  },
  {
   "cell_type": "code",
   "execution_count": 35,
   "metadata": {},
   "outputs": [
    {
     "data": {
      "image/png": "[encoded data removed]",
      "text/plain": [
       "<Figure size 864x720 with 1 Axes>"
      ]
     },
     "metadata": {
      "needs_background": "light"
     },
     "output_type": "display_data"
    },
    {
     "name": "stdout",
     "output_type": "stream",
     "text": [
      "Percentage of Null values in Dataset:\n"
     ]
    },
    {
     "data": {
      "text/plain": [
       "EN.ATM.GHGO.KT.CE    44.086022\n",
       "EN.ATM.GHGT.KT.CE    23.717358\n",
       "EN.ATM.HFCG.KT.CE    91.643625\n",
       "EN.ATM.METH.KT.CE    23.717358\n",
       "EN.ATM.NOXE.KT.CE    24.116743\n",
       "EN.ATM.SF6G.KT.CE    91.643625\n",
       "dtype: float64"
      ]
     },
     "metadata": {},
     "output_type": "display_data"
    },
    {
     "name": "stdout",
     "output_type": "stream",
     "text": [
      "Year = 2007\n"
     ]
    },
    {
     "data": {
      "text/plain": [
       "EN.ATM.GHGO.KT.CE     15.668203\n",
       "EN.ATM.GHGT.KT.CE     11.981567\n",
       "EN.ATM.HFCG.KT.CE    100.000000\n",
       "EN.ATM.METH.KT.CE     11.981567\n",
       "EN.ATM.NOXE.KT.CE     12.442396\n",
       "EN.ATM.SF6G.KT.CE    100.000000\n",
       "dtype: float64"
      ]
     },
     "metadata": {},
     "output_type": "display_data"
    },
    {
     "name": "stdout",
     "output_type": "stream",
     "text": [
      "Year = 2008\n"
     ]
    },
    {
     "data": {
      "text/plain": [
       "EN.ATM.GHGO.KT.CE    15.668203\n",
       "EN.ATM.GHGT.KT.CE    11.981567\n",
       "EN.ATM.HFCG.KT.CE    37.788018\n",
       "EN.ATM.METH.KT.CE    11.981567\n",
       "EN.ATM.NOXE.KT.CE    12.442396\n",
       "EN.ATM.SF6G.KT.CE    37.788018\n",
       "dtype: float64"
      ]
     },
     "metadata": {},
     "output_type": "display_data"
    },
    {
     "name": "stdout",
     "output_type": "stream",
     "text": [
      "Year = 2009\n"
     ]
    },
    {
     "data": {
      "text/plain": [
       "EN.ATM.GHGO.KT.CE     15.668203\n",
       "EN.ATM.GHGT.KT.CE     11.981567\n",
       "EN.ATM.HFCG.KT.CE    100.000000\n",
       "EN.ATM.METH.KT.CE     11.981567\n",
       "EN.ATM.NOXE.KT.CE     12.442396\n",
       "EN.ATM.SF6G.KT.CE    100.000000\n",
       "dtype: float64"
      ]
     },
     "metadata": {},
     "output_type": "display_data"
    },
    {
     "name": "stdout",
     "output_type": "stream",
     "text": [
      "Year = 2010\n"
     ]
    },
    {
     "data": {
      "text/plain": [
       "EN.ATM.GHGO.KT.CE    15.668203\n",
       "EN.ATM.GHGT.KT.CE    11.981567\n",
       "EN.ATM.HFCG.KT.CE    36.866359\n",
       "EN.ATM.METH.KT.CE    11.981567\n",
       "EN.ATM.NOXE.KT.CE    12.442396\n",
       "EN.ATM.SF6G.KT.CE    36.866359\n",
       "dtype: float64"
      ]
     },
     "metadata": {},
     "output_type": "display_data"
    },
    {
     "name": "stdout",
     "output_type": "stream",
     "text": [
      "Year = 2011\n"
     ]
    },
    {
     "data": {
      "text/plain": [
       "EN.ATM.GHGO.KT.CE     15.207373\n",
       "EN.ATM.GHGT.KT.CE     11.981567\n",
       "EN.ATM.HFCG.KT.CE    100.000000\n",
       "EN.ATM.METH.KT.CE     11.981567\n",
       "EN.ATM.NOXE.KT.CE     12.442396\n",
       "EN.ATM.SF6G.KT.CE    100.000000\n",
       "dtype: float64"
      ]
     },
     "metadata": {},
     "output_type": "display_data"
    },
    {
     "name": "stdout",
     "output_type": "stream",
     "text": [
      "Year = 2012\n"
     ]
    },
    {
     "data": {
      "text/plain": [
       "EN.ATM.GHGO.KT.CE     15.207373\n",
       "EN.ATM.GHGT.KT.CE     11.981567\n",
       "EN.ATM.HFCG.KT.CE    100.000000\n",
       "EN.ATM.METH.KT.CE     11.981567\n",
       "EN.ATM.NOXE.KT.CE     12.442396\n",
       "EN.ATM.SF6G.KT.CE    100.000000\n",
       "dtype: float64"
      ]
     },
     "metadata": {},
     "output_type": "display_data"
    },
    {
     "name": "stdout",
     "output_type": "stream",
     "text": [
      "Year = 2013\n"
     ]
    },
    {
     "data": {
      "text/plain": [
       "EN.ATM.GHGO.KT.CE     17.050691\n",
       "EN.ATM.GHGT.KT.CE     11.981567\n",
       "EN.ATM.HFCG.KT.CE    100.000000\n",
       "EN.ATM.METH.KT.CE     11.981567\n",
       "EN.ATM.NOXE.KT.CE     12.442396\n",
       "EN.ATM.SF6G.KT.CE    100.000000\n",
       "dtype: float64"
      ]
     },
     "metadata": {},
     "output_type": "display_data"
    },
    {
     "name": "stdout",
     "output_type": "stream",
     "text": [
      "Year = 2014\n"
     ]
    },
    {
     "data": {
      "text/plain": [
       "EN.ATM.GHGO.KT.CE     17.050691\n",
       "EN.ATM.GHGT.KT.CE     11.981567\n",
       "EN.ATM.HFCG.KT.CE    100.000000\n",
       "EN.ATM.METH.KT.CE     11.981567\n",
       "EN.ATM.NOXE.KT.CE     12.442396\n",
       "EN.ATM.SF6G.KT.CE    100.000000\n",
       "dtype: float64"
      ]
     },
     "metadata": {},
     "output_type": "display_data"
    },
    {
     "name": "stdout",
     "output_type": "stream",
     "text": [
      "Year = 2015\n"
     ]
    },
    {
     "data": {
      "text/plain": [
       "EN.ATM.GHGO.KT.CE     17.050691\n",
       "EN.ATM.GHGT.KT.CE     11.981567\n",
       "EN.ATM.HFCG.KT.CE    100.000000\n",
       "EN.ATM.METH.KT.CE     11.981567\n",
       "EN.ATM.NOXE.KT.CE     12.442396\n",
       "EN.ATM.SF6G.KT.CE    100.000000\n",
       "dtype: float64"
      ]
     },
     "metadata": {},
     "output_type": "display_data"
    },
    {
     "name": "stdout",
     "output_type": "stream",
     "text": [
      "Year = 2016\n"
     ]
    },
    {
     "data": {
      "text/plain": [
       "EN.ATM.GHGO.KT.CE     17.050691\n",
       "EN.ATM.GHGT.KT.CE     11.981567\n",
       "EN.ATM.HFCG.KT.CE    100.000000\n",
       "EN.ATM.METH.KT.CE     11.981567\n",
       "EN.ATM.NOXE.KT.CE     12.442396\n",
       "EN.ATM.SF6G.KT.CE    100.000000\n",
       "dtype: float64"
      ]
     },
     "metadata": {},
     "output_type": "display_data"
    },
    {
     "name": "stdout",
     "output_type": "stream",
     "text": [
      "Year = 2017\n"
     ]
    },
    {
     "data": {
      "text/plain": [
       "EN.ATM.GHGO.KT.CE    100.000000\n",
       "EN.ATM.GHGT.KT.CE     11.981567\n",
       "EN.ATM.HFCG.KT.CE    100.000000\n",
       "EN.ATM.METH.KT.CE     11.981567\n",
       "EN.ATM.NOXE.KT.CE     12.442396\n",
       "EN.ATM.SF6G.KT.CE    100.000000\n",
       "dtype: float64"
      ]
     },
     "metadata": {},
     "output_type": "display_data"
    },
    {
     "name": "stdout",
     "output_type": "stream",
     "text": [
      "Year = 2018\n"
     ]
    },
    {
     "data": {
      "text/plain": [
       "EN.ATM.GHGO.KT.CE    100.000000\n",
       "EN.ATM.GHGT.KT.CE     11.981567\n",
       "EN.ATM.HFCG.KT.CE    100.000000\n",
       "EN.ATM.METH.KT.CE     11.981567\n",
       "EN.ATM.NOXE.KT.CE     12.442396\n",
       "EN.ATM.SF6G.KT.CE    100.000000\n",
       "dtype: float64"
      ]
     },
     "metadata": {},
     "output_type": "display_data"
    },
    {
     "name": "stdout",
     "output_type": "stream",
     "text": [
      "Year = 2019\n"
     ]
    },
    {
     "data": {
      "text/plain": [
       "EN.ATM.GHGO.KT.CE    100.000000\n",
       "EN.ATM.GHGT.KT.CE     11.981567\n",
       "EN.ATM.HFCG.KT.CE    100.000000\n",
       "EN.ATM.METH.KT.CE     11.981567\n",
       "EN.ATM.NOXE.KT.CE     12.442396\n",
       "EN.ATM.SF6G.KT.CE    100.000000\n",
       "dtype: float64"
      ]
     },
     "metadata": {},
     "output_type": "display_data"
    },
    {
     "name": "stdout",
     "output_type": "stream",
     "text": [
      "Year = 2020\n"
     ]
    },
    {
     "data": {
      "text/plain": [
       "EN.ATM.GHGO.KT.CE    100.0\n",
       "EN.ATM.GHGT.KT.CE    100.0\n",
       "EN.ATM.HFCG.KT.CE    100.0\n",
       "EN.ATM.METH.KT.CE    100.0\n",
       "EN.ATM.NOXE.KT.CE    100.0\n",
       "EN.ATM.SF6G.KT.CE    100.0\n",
       "dtype: float64"
      ]
     },
     "metadata": {},
     "output_type": "display_data"
    },
    {
     "name": "stdout",
     "output_type": "stream",
     "text": [
      "Year = 2021\n"
     ]
    },
    {
     "data": {
      "text/plain": [
       "EN.ATM.GHGO.KT.CE    100.0\n",
       "EN.ATM.GHGT.KT.CE    100.0\n",
       "EN.ATM.HFCG.KT.CE    100.0\n",
       "EN.ATM.METH.KT.CE    100.0\n",
       "EN.ATM.NOXE.KT.CE    100.0\n",
       "EN.ATM.SF6G.KT.CE    100.0\n",
       "dtype: float64"
      ]
     },
     "metadata": {},
     "output_type": "display_data"
    }
   ],
   "source": [
    "visualize_nulls(othergas_df)"
   ]
  },
  {
   "cell_type": "markdown",
   "metadata": {},
   "source": [
    "* Data is only up to 2019\n",
    "* Only Green house gases, Methane and Nitrous Oxide have significant amount of data on this set"
   ]
  },
  {
   "cell_type": "markdown",
   "metadata": {},
   "source": [
    "#### Green house gases\n",
    "\n",
    "We check green house gases further as these do have some impact on global warming."
   ]
  },
  {
   "cell_type": "code",
   "execution_count": 4,
   "metadata": {},
   "outputs": [
    {
     "ename": "NameError",
     "evalue": "name 'othergas_df' is not defined",
     "output_type": "error",
     "traceback": [
      "\u001b[1;31m---------------------------------------------------------------------------\u001b[0m",
      "\u001b[1;31mNameError\u001b[0m                                 Traceback (most recent call last)",
      "\u001b[1;32mc:\\Users\\jords\\Documents\\GitHub\\humans_are_pollutants\\02_SourceCodes\\01_Python_JupyterNotebook\\01_EDA_World_Bank_Devt_vs_Environment.ipynb Cell 38\u001b[0m in \u001b[0;36m<cell line: 2>\u001b[1;34m()\u001b[0m\n\u001b[0;32m      <a href='vscode-notebook-cell:/c%3A/Users/jords/Documents/GitHub/humans_are_pollutants/02_SourceCodes/01_Python_JupyterNotebook/01_EDA_World_Bank_Devt_vs_Environment.ipynb#X61sZmlsZQ%3D%3D?line=0'>1</a>\u001b[0m \u001b[39m# remove records with year 2020 and 2021\u001b[39;00m\n\u001b[1;32m----> <a href='vscode-notebook-cell:/c%3A/Users/jords/Documents/GitHub/humans_are_pollutants/02_SourceCodes/01_Python_JupyterNotebook/01_EDA_World_Bank_Devt_vs_Environment.ipynb#X61sZmlsZQ%3D%3D?line=1'>2</a>\u001b[0m othergas_df \u001b[39m=\u001b[39m othergas_df[\u001b[39m~\u001b[39mothergas_df[\u001b[39m'\u001b[39m\u001b[39mYear\u001b[39m\u001b[39m'\u001b[39m]\u001b[39m.\u001b[39misin([\u001b[39m2020\u001b[39m,\u001b[39m2021\u001b[39m])]\n",
      "\u001b[1;31mNameError\u001b[0m: name 'othergas_df' is not defined"
     ]
    }
   ],
   "source": [
    "# remove records with year 2020 and 2021\n",
    "othergas_df = othergas_df[~othergas_df['Year'].isin([2020,2021])]"
   ]
  },
  {
   "cell_type": "code",
   "execution_count": 40,
   "metadata": {},
   "outputs": [
    {
     "name": "stdout",
     "output_type": "stream",
     "text": [
      "['China', 'United States', 'India', 'Russian Federation', 'Japan', 'Brazil', 'Germany', 'Indonesia', 'Iran, Islamic Rep.', 'Canada']\n"
     ]
    }
   ],
   "source": [
    "# Get the the top 10 countries with the highest average C02 emissions 2007-2019\n",
    "ghg_df = othergas_df[['Country', 'Year', 'EN.ATM.GHGT.KT.CE']].dropna()\n",
    "\n",
    "ghg_df_top10_list = ghg_df.groupby('Country')\\\n",
    "                                .mean()\\\n",
    "                                .reset_index()\\\n",
    "                                .sort_values('EN.ATM.GHGT.KT.CE',ascending=False)\\\n",
    "                                .head(10)['Country']\\\n",
    "                                .tolist()\n",
    "\n",
    "ghg_df_top10 = ghg_df[ghg_df['Country'].isin(ghg_df_top10_list)]\n",
    "\n",
    "print(ghg_df_top10_list)"
   ]
  },
  {
   "cell_type": "markdown",
   "metadata": {},
   "source": [
    "#### Methane"
   ]
  },
  {
   "cell_type": "markdown",
   "metadata": {},
   "source": [
    "These countries do have a lot in common with the CO2 emissions data so we can use these together."
   ]
  },
  {
   "cell_type": "markdown",
   "metadata": {},
   "source": [
    "### Energy Access and Renewable Energy Consumption"
   ]
  },
  {
   "cell_type": "code",
   "execution_count": null,
   "metadata": {},
   "outputs": [],
   "source": [
    "energy_descdf, energy_df = world_bank_file_to_df('../../01_DataSources/01_Raw/World_Bank_Energy_World_Development_Indicators/World_Bank_Energy_World_Development_Indicators_Data.csv')"
   ]
  },
  {
   "cell_type": "code",
   "execution_count": null,
   "metadata": {},
   "outputs": [
    {
     "data": {
      "text/html": [
       "<div>\n",
       "<style scoped>\n",
       "    .dataframe tbody tr th:only-of-type {\n",
       "        vertical-align: middle;\n",
       "    }\n",
       "\n",
       "    .dataframe tbody tr th {\n",
       "        vertical-align: top;\n",
       "    }\n",
       "\n",
       "    .dataframe thead th {\n",
       "        text-align: right;\n",
       "    }\n",
       "</style>\n",
       "<table border=\"1\" class=\"dataframe\">\n",
       "  <thead>\n",
       "    <tr style=\"text-align: right;\">\n",
       "      <th></th>\n",
       "      <th>Series Code</th>\n",
       "      <th>Series Name</th>\n",
       "    </tr>\n",
       "  </thead>\n",
       "  <tbody>\n",
       "    <tr>\n",
       "      <th>4</th>\n",
       "      <td>EG.CFT.ACCS.RU.ZS</td>\n",
       "      <td>Access to clean fuels and technologies for cooking, rural (% of rural population)</td>\n",
       "    </tr>\n",
       "    <tr>\n",
       "      <th>3</th>\n",
       "      <td>EG.CFT.ACCS.UR.ZS</td>\n",
       "      <td>Access to clean fuels and technologies for cooking, urban (% of urban population)</td>\n",
       "    </tr>\n",
       "    <tr>\n",
       "      <th>5</th>\n",
       "      <td>EG.CFT.ACCS.ZS</td>\n",
       "      <td>Access to clean fuels and technologies for cooking (% of population)</td>\n",
       "    </tr>\n",
       "    <tr>\n",
       "      <th>0</th>\n",
       "      <td>EG.ELC.ACCS.RU.ZS</td>\n",
       "      <td>Access to electricity, rural (% of rural population)</td>\n",
       "    </tr>\n",
       "    <tr>\n",
       "      <th>1</th>\n",
       "      <td>EG.ELC.ACCS.UR.ZS</td>\n",
       "      <td>Access to electricity, urban (% of urban population)</td>\n",
       "    </tr>\n",
       "    <tr>\n",
       "      <th>2</th>\n",
       "      <td>EG.ELC.ACCS.ZS</td>\n",
       "      <td>Access to electricity (% of population)</td>\n",
       "    </tr>\n",
       "    <tr>\n",
       "      <th>6</th>\n",
       "      <td>EG.ELC.RNWX.ZS</td>\n",
       "      <td>Electricity production from renewable sources, excluding hydroelectric (% of total)</td>\n",
       "    </tr>\n",
       "    <tr>\n",
       "      <th>7</th>\n",
       "      <td>EG.FEC.RNEW.ZS</td>\n",
       "      <td>Renewable energy consumption (% of total final energy consumption)</td>\n",
       "    </tr>\n",
       "    <tr>\n",
       "      <th>8</th>\n",
       "      <td>EG.USE.COMM.FO.ZS</td>\n",
       "      <td>Fossil fuel energy consumption (% of total)</td>\n",
       "    </tr>\n",
       "  </tbody>\n",
       "</table>\n",
       "</div>"
      ],
      "text/plain": [
       "         Series Code  \\\n",
       "4  EG.CFT.ACCS.RU.ZS   \n",
       "3  EG.CFT.ACCS.UR.ZS   \n",
       "5     EG.CFT.ACCS.ZS   \n",
       "0  EG.ELC.ACCS.RU.ZS   \n",
       "1  EG.ELC.ACCS.UR.ZS   \n",
       "2     EG.ELC.ACCS.ZS   \n",
       "6     EG.ELC.RNWX.ZS   \n",
       "7     EG.FEC.RNEW.ZS   \n",
       "8  EG.USE.COMM.FO.ZS   \n",
       "\n",
       "                                                                           Series Name  \n",
       "4    Access to clean fuels and technologies for cooking, rural (% of rural population)  \n",
       "3    Access to clean fuels and technologies for cooking, urban (% of urban population)  \n",
       "5                 Access to clean fuels and technologies for cooking (% of population)  \n",
       "0                                 Access to electricity, rural (% of rural population)  \n",
       "1                                 Access to electricity, urban (% of urban population)  \n",
       "2                                              Access to electricity (% of population)  \n",
       "6  Electricity production from renewable sources, excluding hydroelectric (% of total)  \n",
       "7                   Renewable energy consumption (% of total final energy consumption)  \n",
       "8                                          Fossil fuel energy consumption (% of total)  "
      ]
     },
     "metadata": {},
     "output_type": "display_data"
    }
   ],
   "source": [
    "display(energy_descdf.sort_values('Series Code'))"
   ]
  },
  {
   "cell_type": "code",
   "execution_count": null,
   "metadata": {},
   "outputs": [
    {
     "data": {
      "image/png": "[encoded data removed]",
      "text/plain": [
       "<Figure size 864x720 with 1 Axes>"
      ]
     },
     "metadata": {
      "needs_background": "light"
     },
     "output_type": "display_data"
    },
    {
     "name": "stdout",
     "output_type": "stream",
     "text": [
      "Percentage of Null values in Dataset:\n"
     ]
    },
    {
     "data": {
      "text/plain": [
       "EG.CFT.ACCS.RU.ZS    18.709677\n",
       "EG.CFT.ACCS.UR.ZS    18.709677\n",
       "EG.CFT.ACCS.ZS       18.402458\n",
       "EG.ELC.ACCS.RU.ZS    11.612903\n",
       "EG.ELC.ACCS.UR.ZS     8.632873\n",
       "EG.ELC.ACCS.ZS        7.342550\n",
       "EG.ELC.RNWX.ZS       61.167435\n",
       "EG.FEC.RNEW.ZS       15.084485\n",
       "EG.USE.COMM.FO.ZS    64.485407\n",
       "dtype: float64"
      ]
     },
     "metadata": {},
     "output_type": "display_data"
    },
    {
     "name": "stdout",
     "output_type": "stream",
     "text": [
      "Year = 2007\n"
     ]
    },
    {
     "data": {
      "text/plain": [
       "EG.CFT.ACCS.RU.ZS    12.903226\n",
       "EG.CFT.ACCS.UR.ZS    12.903226\n",
       "EG.CFT.ACCS.ZS       12.442396\n",
       "EG.ELC.ACCS.RU.ZS     6.451613\n",
       "EG.ELC.ACCS.UR.ZS     2.304147\n",
       "EG.ELC.ACCS.ZS        1.382488\n",
       "EG.ELC.RNWX.ZS       35.483871\n",
       "EG.FEC.RNEW.ZS        2.304147\n",
       "EG.USE.COMM.FO.ZS    22.119816\n",
       "dtype: float64"
      ]
     },
     "metadata": {},
     "output_type": "display_data"
    },
    {
     "name": "stdout",
     "output_type": "stream",
     "text": [
      "Year = 2008\n"
     ]
    },
    {
     "data": {
      "text/plain": [
       "EG.CFT.ACCS.RU.ZS    12.903226\n",
       "EG.CFT.ACCS.UR.ZS    12.903226\n",
       "EG.CFT.ACCS.ZS       12.442396\n",
       "EG.ELC.ACCS.RU.ZS     5.990783\n",
       "EG.ELC.ACCS.UR.ZS     2.304147\n",
       "EG.ELC.ACCS.ZS        1.382488\n",
       "EG.ELC.RNWX.ZS       35.483871\n",
       "EG.FEC.RNEW.ZS        2.304147\n",
       "EG.USE.COMM.FO.ZS    36.866359\n",
       "dtype: float64"
      ]
     },
     "metadata": {},
     "output_type": "display_data"
    },
    {
     "name": "stdout",
     "output_type": "stream",
     "text": [
      "Year = 2009\n"
     ]
    },
    {
     "data": {
      "text/plain": [
       "EG.CFT.ACCS.RU.ZS    12.903226\n",
       "EG.CFT.ACCS.UR.ZS    12.903226\n",
       "EG.CFT.ACCS.ZS       12.442396\n",
       "EG.ELC.ACCS.RU.ZS     6.912442\n",
       "EG.ELC.ACCS.UR.ZS     1.843318\n",
       "EG.ELC.ACCS.ZS        0.921659\n",
       "EG.ELC.RNWX.ZS       35.483871\n",
       "EG.FEC.RNEW.ZS        2.304147\n",
       "EG.USE.COMM.FO.ZS    36.405530\n",
       "dtype: float64"
      ]
     },
     "metadata": {},
     "output_type": "display_data"
    },
    {
     "name": "stdout",
     "output_type": "stream",
     "text": [
      "Year = 2010\n"
     ]
    },
    {
     "data": {
      "text/plain": [
       "EG.CFT.ACCS.RU.ZS    12.903226\n",
       "EG.CFT.ACCS.UR.ZS    12.903226\n",
       "EG.CFT.ACCS.ZS       12.442396\n",
       "EG.ELC.ACCS.RU.ZS     5.990783\n",
       "EG.ELC.ACCS.UR.ZS     1.843318\n",
       "EG.ELC.ACCS.ZS        0.460829\n",
       "EG.ELC.RNWX.ZS       35.483871\n",
       "EG.FEC.RNEW.ZS        2.304147\n",
       "EG.USE.COMM.FO.ZS    38.709677\n",
       "dtype: float64"
      ]
     },
     "metadata": {},
     "output_type": "display_data"
    },
    {
     "name": "stdout",
     "output_type": "stream",
     "text": [
      "Year = 2011\n"
     ]
    },
    {
     "data": {
      "text/plain": [
       "EG.CFT.ACCS.RU.ZS    12.903226\n",
       "EG.CFT.ACCS.UR.ZS    12.903226\n",
       "EG.CFT.ACCS.ZS       12.442396\n",
       "EG.ELC.ACCS.RU.ZS     5.529954\n",
       "EG.ELC.ACCS.UR.ZS     1.843318\n",
       "EG.ELC.ACCS.ZS        0.921659\n",
       "EG.ELC.RNWX.ZS       35.483871\n",
       "EG.FEC.RNEW.ZS        2.304147\n",
       "EG.USE.COMM.FO.ZS    36.866359\n",
       "dtype: float64"
      ]
     },
     "metadata": {},
     "output_type": "display_data"
    },
    {
     "name": "stdout",
     "output_type": "stream",
     "text": [
      "Year = 2012\n"
     ]
    },
    {
     "data": {
      "text/plain": [
       "EG.CFT.ACCS.RU.ZS    12.903226\n",
       "EG.CFT.ACCS.UR.ZS    12.903226\n",
       "EG.CFT.ACCS.ZS       12.442396\n",
       "EG.ELC.ACCS.RU.ZS     5.529954\n",
       "EG.ELC.ACCS.UR.ZS     1.382488\n",
       "EG.ELC.ACCS.ZS        0.460829\n",
       "EG.ELC.RNWX.ZS       35.023041\n",
       "EG.FEC.RNEW.ZS        1.843318\n",
       "EG.USE.COMM.FO.ZS    37.788018\n",
       "dtype: float64"
      ]
     },
     "metadata": {},
     "output_type": "display_data"
    },
    {
     "name": "stdout",
     "output_type": "stream",
     "text": [
      "Year = 2013\n"
     ]
    },
    {
     "data": {
      "text/plain": [
       "EG.CFT.ACCS.RU.ZS    12.903226\n",
       "EG.CFT.ACCS.UR.ZS    12.903226\n",
       "EG.CFT.ACCS.ZS       12.442396\n",
       "EG.ELC.ACCS.RU.ZS     4.608295\n",
       "EG.ELC.ACCS.UR.ZS     1.382488\n",
       "EG.ELC.ACCS.ZS        0.460829\n",
       "EG.ELC.RNWX.ZS       35.023041\n",
       "EG.FEC.RNEW.ZS        1.843318\n",
       "EG.USE.COMM.FO.ZS    35.944700\n",
       "dtype: float64"
      ]
     },
     "metadata": {},
     "output_type": "display_data"
    },
    {
     "name": "stdout",
     "output_type": "stream",
     "text": [
      "Year = 2014\n"
     ]
    },
    {
     "data": {
      "text/plain": [
       "EG.CFT.ACCS.RU.ZS    12.903226\n",
       "EG.CFT.ACCS.UR.ZS    12.903226\n",
       "EG.CFT.ACCS.ZS       12.442396\n",
       "EG.ELC.ACCS.RU.ZS     3.686636\n",
       "EG.ELC.ACCS.UR.ZS     1.382488\n",
       "EG.ELC.ACCS.ZS        0.460829\n",
       "EG.ELC.RNWX.ZS       35.023041\n",
       "EG.FEC.RNEW.ZS        1.843318\n",
       "EG.USE.COMM.FO.ZS    38.248848\n",
       "dtype: float64"
      ]
     },
     "metadata": {},
     "output_type": "display_data"
    },
    {
     "name": "stdout",
     "output_type": "stream",
     "text": [
      "Year = 2015\n"
     ]
    },
    {
     "data": {
      "text/plain": [
       "EG.CFT.ACCS.RU.ZS    12.903226\n",
       "EG.CFT.ACCS.UR.ZS    12.903226\n",
       "EG.CFT.ACCS.ZS       12.442396\n",
       "EG.ELC.ACCS.RU.ZS     2.764977\n",
       "EG.ELC.ACCS.UR.ZS     1.382488\n",
       "EG.ELC.ACCS.ZS        0.460829\n",
       "EG.ELC.RNWX.ZS       35.023041\n",
       "EG.FEC.RNEW.ZS        1.843318\n",
       "EG.USE.COMM.FO.ZS    84.331797\n",
       "dtype: float64"
      ]
     },
     "metadata": {},
     "output_type": "display_data"
    },
    {
     "name": "stdout",
     "output_type": "stream",
     "text": [
      "Year = 2016\n"
     ]
    },
    {
     "data": {
      "text/plain": [
       "EG.CFT.ACCS.RU.ZS     12.903226\n",
       "EG.CFT.ACCS.UR.ZS     12.903226\n",
       "EG.CFT.ACCS.ZS        12.442396\n",
       "EG.ELC.ACCS.RU.ZS      4.608295\n",
       "EG.ELC.ACCS.UR.ZS      1.382488\n",
       "EG.ELC.ACCS.ZS         0.460829\n",
       "EG.ELC.RNWX.ZS       100.000000\n",
       "EG.FEC.RNEW.ZS         1.843318\n",
       "EG.USE.COMM.FO.ZS    100.000000\n",
       "dtype: float64"
      ]
     },
     "metadata": {},
     "output_type": "display_data"
    },
    {
     "name": "stdout",
     "output_type": "stream",
     "text": [
      "Year = 2017\n"
     ]
    },
    {
     "data": {
      "text/plain": [
       "EG.CFT.ACCS.RU.ZS     12.903226\n",
       "EG.CFT.ACCS.UR.ZS     12.903226\n",
       "EG.CFT.ACCS.ZS        12.903226\n",
       "EG.ELC.ACCS.RU.ZS      5.990783\n",
       "EG.ELC.ACCS.UR.ZS      2.304147\n",
       "EG.ELC.ACCS.ZS         0.460829\n",
       "EG.ELC.RNWX.ZS       100.000000\n",
       "EG.FEC.RNEW.ZS         1.843318\n",
       "EG.USE.COMM.FO.ZS    100.000000\n",
       "dtype: float64"
      ]
     },
     "metadata": {},
     "output_type": "display_data"
    },
    {
     "name": "stdout",
     "output_type": "stream",
     "text": [
      "Year = 2018\n"
     ]
    },
    {
     "data": {
      "text/plain": [
       "EG.CFT.ACCS.RU.ZS     12.903226\n",
       "EG.CFT.ACCS.UR.ZS     12.903226\n",
       "EG.CFT.ACCS.ZS        12.903226\n",
       "EG.ELC.ACCS.RU.ZS      6.451613\n",
       "EG.ELC.ACCS.UR.ZS      4.608295\n",
       "EG.ELC.ACCS.ZS         0.921659\n",
       "EG.ELC.RNWX.ZS       100.000000\n",
       "EG.FEC.RNEW.ZS         1.843318\n",
       "EG.USE.COMM.FO.ZS    100.000000\n",
       "dtype: float64"
      ]
     },
     "metadata": {},
     "output_type": "display_data"
    },
    {
     "name": "stdout",
     "output_type": "stream",
     "text": [
      "Year = 2019\n"
     ]
    },
    {
     "data": {
      "text/plain": [
       "EG.CFT.ACCS.RU.ZS     12.903226\n",
       "EG.CFT.ACCS.UR.ZS     12.903226\n",
       "EG.CFT.ACCS.ZS        12.903226\n",
       "EG.ELC.ACCS.RU.ZS      5.990783\n",
       "EG.ELC.ACCS.UR.ZS      3.686636\n",
       "EG.ELC.ACCS.ZS         0.460829\n",
       "EG.ELC.RNWX.ZS       100.000000\n",
       "EG.FEC.RNEW.ZS         1.843318\n",
       "EG.USE.COMM.FO.ZS    100.000000\n",
       "dtype: float64"
      ]
     },
     "metadata": {},
     "output_type": "display_data"
    },
    {
     "name": "stdout",
     "output_type": "stream",
     "text": [
      "Year = 2020\n"
     ]
    },
    {
     "data": {
      "text/plain": [
       "EG.CFT.ACCS.RU.ZS     12.903226\n",
       "EG.CFT.ACCS.UR.ZS     12.903226\n",
       "EG.CFT.ACCS.ZS        12.903226\n",
       "EG.ELC.ACCS.RU.ZS      3.686636\n",
       "EG.ELC.ACCS.UR.ZS      1.843318\n",
       "EG.ELC.ACCS.ZS         0.921659\n",
       "EG.ELC.RNWX.ZS       100.000000\n",
       "EG.FEC.RNEW.ZS       100.000000\n",
       "EG.USE.COMM.FO.ZS    100.000000\n",
       "dtype: float64"
      ]
     },
     "metadata": {},
     "output_type": "display_data"
    },
    {
     "name": "stdout",
     "output_type": "stream",
     "text": [
      "Year = 2021\n"
     ]
    },
    {
     "data": {
      "text/plain": [
       "EG.CFT.ACCS.RU.ZS    100.0\n",
       "EG.CFT.ACCS.UR.ZS    100.0\n",
       "EG.CFT.ACCS.ZS       100.0\n",
       "EG.ELC.ACCS.RU.ZS    100.0\n",
       "EG.ELC.ACCS.UR.ZS    100.0\n",
       "EG.ELC.ACCS.ZS       100.0\n",
       "EG.ELC.RNWX.ZS       100.0\n",
       "EG.FEC.RNEW.ZS       100.0\n",
       "EG.USE.COMM.FO.ZS    100.0\n",
       "dtype: float64"
      ]
     },
     "metadata": {},
     "output_type": "display_data"
    }
   ],
   "source": [
    "visualize_nulls(energy_df)"
   ]
  },
  {
   "cell_type": "markdown",
   "metadata": {},
   "source": [
    "Takeaways:\n",
    "* Energy Access data is available up to 2020 \n",
    "* Renewable energy consumption is up to 2019"
   ]
  },
  {
   "cell_type": "markdown",
   "metadata": {},
   "source": [
    "Access to clean fuels on cooking"
   ]
  },
  {
   "cell_type": "code",
   "execution_count": 84,
   "metadata": {},
   "outputs": [],
   "source": [
    "energy_accs_clean_fuel_df = energy_df[['Year', 'EG.CFT.ACCS.RU.ZS', 'EG.CFT.ACCS.UR.ZS', 'EG.CFT.ACCS.ZS']].dropna()\n",
    "\n",
    "energy_accs_clean_fuel_df_yoy_mean = energy_accs_clean_fuel_df.groupby('Year')\\\n",
    "                                      .mean()\\\n",
    "                                      .reset_index()"
   ]
  },
  {
   "cell_type": "code",
   "execution_count": 106,
   "metadata": {},
   "outputs": [
    {
     "data": {
      "text/plain": [
       "Text(0.5, 0.98, 'Access to clean fuels and technology for Cooking')"
      ]
     },
     "execution_count": 106,
     "metadata": {},
     "output_type": "execute_result"
    },
    {
     "data": {
      "text/plain": [
       "<Figure size 432x288 with 0 Axes>"
      ]
     },
     "metadata": {},
     "output_type": "display_data"
    },
    {
     "data": {
      "image/png": "[encoded data removed]",
      "text/plain": [
       "<Figure size 1440x864 with 3 Axes>"
      ]
     },
     "metadata": {
      "needs_background": "light"
     },
     "output_type": "display_data"
    }
   ],
   "source": [
    "plt.clf()\n",
    "\n",
    "fig, ax = plt.subplots(1,3, figsize=(20,12))\n",
    "\n",
    "ax[0].set_title('Rural')\n",
    "ax[0].set_xlabel('Year')\n",
    "ax[0].set_ylabel('% Rural Population')\n",
    "ax[0].set_ylim(0,100)\n",
    "ax[0].bar(energy_accs_clean_fuel_df_yoy_mean['Year'], energy_accs_clean_fuel_df_yoy_mean['EG.CFT.ACCS.RU.ZS'],color='b')\n",
    "\n",
    "ax[1].set_title('Urban')\n",
    "ax[1].set_xlabel('Year')\n",
    "ax[1].set_ylabel('% Urban Population')\n",
    "ax[1].set_ylim(0,100)\n",
    "ax[1].bar(energy_accs_clean_fuel_df_yoy_mean['Year'], energy_accs_clean_fuel_df_yoy_mean['EG.CFT.ACCS.UR.ZS'], color='g')\n",
    "\n",
    "ax[2].set_title('Total')\n",
    "ax[2].set_xlabel('Year')\n",
    "ax[2].set_ylabel('% Total Population')\n",
    "ax[2].set_ylim(0,100)\n",
    "ax[2].bar(energy_accs_clean_fuel_df_yoy_mean['Year'], energy_accs_clean_fuel_df_yoy_mean['EG.CFT.ACCS.ZS'], color='r')\n",
    "\n",
    "fig.suptitle('Access to clean fuels and technology for Cooking')"
   ]
  },
  {
   "cell_type": "markdown",
   "metadata": {},
   "source": [
    "Access to electricity"
   ]
  },
  {
   "cell_type": "code",
   "execution_count": 107,
   "metadata": {},
   "outputs": [],
   "source": [
    "energy_accs_elec_df = energy_df[['Year', 'EG.ELC.ACCS.RU.ZS', 'EG.ELC.ACCS.UR.ZS', 'EG.ELC.ACCS.ZS']].dropna()\n",
    "\n",
    "energy_accs_elec_df_yoy_mean = energy_accs_elec_df.groupby('Year')\\\n",
    "                                      .mean()\\\n",
    "                                      .reset_index()"
   ]
  },
  {
   "cell_type": "code",
   "execution_count": 108,
   "metadata": {},
   "outputs": [
    {
     "data": {
      "text/plain": [
       "Text(0.5, 0.98, 'Access to clean fuels and technology for Cooking')"
      ]
     },
     "execution_count": 108,
     "metadata": {},
     "output_type": "execute_result"
    },
    {
     "data": {
      "text/plain": [
       "<Figure size 432x288 with 0 Axes>"
      ]
     },
     "metadata": {},
     "output_type": "display_data"
    },
    {
     "data": {
      "image/png": "[encoded data removed]",
      "text/plain": [
       "<Figure size 1440x864 with 3 Axes>"
      ]
     },
     "metadata": {
      "needs_background": "light"
     },
     "output_type": "display_data"
    }
   ],
   "source": [
    "plt.clf()\n",
    "\n",
    "fig, ax = plt.subplots(1,3, figsize=(20,12))\n",
    "\n",
    "ax[0].set_title('Rural')\n",
    "ax[0].set_xlabel('Year')\n",
    "ax[0].set_ylabel('% Rural Population')\n",
    "ax[0].set_ylim(0,100)\n",
    "ax[0].bar(energy_accs_elec_df_yoy_mean['Year'], energy_accs_elec_df_yoy_mean['EG.ELC.ACCS.RU.ZS'],color='b')\n",
    "\n",
    "ax[1].set_title('Urban')\n",
    "ax[1].set_xlabel('Year')\n",
    "ax[1].set_ylabel('% Urban Population')\n",
    "ax[1].set_ylim(0,100)\n",
    "ax[1].bar(energy_accs_elec_df_yoy_mean['Year'], energy_accs_elec_df_yoy_mean['EG.ELC.ACCS.UR.ZS'], color='g')\n",
    "\n",
    "ax[2].set_title('Total')\n",
    "ax[2].set_xlabel('Year')\n",
    "ax[2].set_ylabel('% Total Population')\n",
    "ax[2].set_ylim(0,100)\n",
    "ax[2].bar(energy_accs_elec_df_yoy_mean['Year'], energy_accs_elec_df_yoy_mean['EG.ELC.ACCS.ZS'], color='r')\n",
    "\n",
    "fig.suptitle('Access to Electricity')"
   ]
  }
 ],
 "metadata": {
  "kernelspec": {
   "display_name": "Python 3.9.12 ('google_analytics_cert')",
   "language": "python",
   "name": "python3"
  },
  "language_info": {
   "codemirror_mode": {
    "name": "ipython",
    "version": 3
   },
   "file_extension": ".py",
   "mimetype": "text/x-python",
   "name": "python",
   "nbconvert_exporter": "python",
   "pygments_lexer": "ipython3",
   "version": "3.9.12"
  },
  "vscode": {
   "interpreter": {
    "hash": "ed7670ed09755f587c04ad1d640d15a134edbfe4ad5359d9b1d26866f39a2661"
   }
  }
 },
 "nbformat": 4,
 "nbformat_minor": 4
}
