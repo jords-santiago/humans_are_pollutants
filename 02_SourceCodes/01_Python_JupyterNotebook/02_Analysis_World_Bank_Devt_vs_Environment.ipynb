{
 "cells": [
  {
   "cell_type": "markdown",
   "metadata": {},
   "source": [
    "# World Bank's World Development Indicators vs. Environment Analysis - Analysis Notebook"
   ]
  },
  {
   "cell_type": "code",
   "execution_count": 5,
   "metadata": {},
   "outputs": [],
   "source": [
    "import numpy as np\n",
    "import pandas as pd\n",
    "import seaborn as sns\n",
    "import matplotlib.pyplot as plt\n",
    "\n",
    "pd.set_option('display.max_colwidth', None)"
   ]
  },
  {
   "cell_type": "code",
   "execution_count": 6,
   "metadata": {},
   "outputs": [],
   "source": [
    "%run ./help_funcs.ipynb"
   ]
  },
  {
   "cell_type": "markdown",
   "metadata": {},
   "source": [
    "## Load the datasets\n",
    "\n",
    "Climate Change/Pollution Indicators\n",
    "\n",
    "| Dataset | Series Code | Series Description/Name |\n",
    "| --- | --- | --- |\n",
    "|CO2| EN.ATM.CO2E.KT | CO2 emissions (kt)|\n",
    "|Other Gas | EN.ATM.GHGT.KT.CE | Total greenhouse gas emissions (kt of CO2 equivalent) |\n",
    "|Other Gas | EN.ATM.METH.KT.CE | Methane emissions (kt of CO2 equivalent)|\n",
    "|Other Gas | EN.ATM.NOXE.KT.CE | Nitrous oxide emissions (thousand metric tons of CO2 equivalent)|\n",
    "\n",
    "\n",
    "World Development Indicators\n",
    "\n",
    "| Dataset | Series Code | Series Description/Name |\n",
    "| --- | --- | --- |\n",
    "| GDP | NY.GDP.MKTP.KD.ZG | GDP growth (annual %) |\n",
    "| GDP | NY.GDP.PCAP.KD.ZG | GDP per capita growth (annual %) |\n",
    "| Land Use | AG.LND.FRST.K2 | Forest area (sq. km) |\n",
    "| Land Use | AG.LND.FRST.ZS | Forest area (% of land area) |\n",
    "| Urbanization | SP.POP.GROW | Population growth (annual %) |\n",
    "| Urbanization | SP.RUR.TOTL.ZG | Rural population growth (annual %) |\n",
    "| Urbanization | SP.URB.GROW | Urban population growth (annual %) |"
   ]
  },
  {
   "cell_type": "code",
   "execution_count": 7,
   "metadata": {},
   "outputs": [],
   "source": [
    "countries_list = ['China', 'United States', 'India', 'Russian Federation', 'Japan']"
   ]
  },
  {
   "cell_type": "code",
   "execution_count": 8,
   "metadata": {},
   "outputs": [
    {
     "name": "stdout",
     "output_type": "stream",
     "text": [
      "CO2 df shape (65, 3)\n",
      "Other Gas df shape (65, 5)\n",
      "GDP df shape (65, 4)\n",
      "Land Use df shape (65, 4)\n",
      "Urbanization df shape (65, 5)\n"
     ]
    }
   ],
   "source": [
    "co2_descdf, co2_df = world_bank_file_to_df('../../01_DataSources/01_Raw/World_Bank_CO2_World_Development_Indicators/World_Bank_CO2_World_Development_Indicators_Data.csv')\n",
    "co2_df = co2_df[co2_df['Country'].isin(countries_list)]\n",
    "co2_df = co2_df[~co2_df['Year'].isin([2020, 2021])]\n",
    "co2_df = co2_df[['Country', 'Year', 'EN.ATM.CO2E.KT']]\n",
    "print('CO2 df shape', co2_df.shape)\n",
    "\n",
    "othergas_descdf, othergas_df = world_bank_file_to_df('../../01_DataSources/01_Raw/World_Bank_Othergas_World_Development_Indicators/World_Bank_Othergas_World_Development_Indicators_Data.csv')\n",
    "othergas_df = othergas_df[othergas_df['Country'].isin(countries_list)]\n",
    "othergas_df = othergas_df[~othergas_df['Year'].isin([2020, 2021])]\n",
    "othergas_df = othergas_df[['Country', 'Year', 'EN.ATM.GHGT.KT.CE', 'EN.ATM.METH.KT.CE', 'EN.ATM.NOXE.KT.CE']]\n",
    "print('Other Gas df shape', othergas_df.shape)\n",
    "\n",
    "gdp_descdf, gdp_df = world_bank_file_to_df('../../01_DataSources/01_Raw/World_Bank_GDP_World_Development_Indicators/World_Bank_GDP_World_Development_Indicators_Data.csv')\n",
    "gdp_df = gdp_df[gdp_df['Country'].isin(countries_list)]\n",
    "gdp_df = gdp_df[~gdp_df['Year'].isin([2020, 2021])]\n",
    "gdp_df = gdp_df[['Country', 'Year', 'NY.GDP.MKTP.KD.ZG', 'NY.GDP.PCAP.KD.ZG']]\n",
    "print('GDP df shape', gdp_df.shape)\n",
    "\n",
    "landuse_descdf, landuse_df = world_bank_file_to_df('../../01_DataSources/01_Raw/World_Bank_LandUse_World_Development_Indicators/World_Bank_LandUse_World_Development_Indicators_Data.csv')\n",
    "landuse_df = landuse_df[landuse_df['Country'].isin(countries_list)]\n",
    "landuse_df = landuse_df[~landuse_df['Year'].isin([2020, 2021])]\n",
    "landuse_df = landuse_df[['Country', 'Year', 'AG.LND.FRST.K2', 'AG.LND.FRST.ZS']]\n",
    "print('Land Use df shape', landuse_df.shape)\n",
    "\n",
    "urb_descdf, urb_df = world_bank_file_to_df('../../01_DataSources/01_Raw/World_Bank_Urbanization_World_Development_Indicators/World_Bank_Urbanization_World_Development_Indicators_Data.csv')\n",
    "urb_df = urb_df[urb_df['Country'].isin(countries_list)]\n",
    "urb_df = urb_df[~urb_df['Year'].isin([2020, 2021])]\n",
    "urb_df = urb_df[['Country', 'Year', 'SP.POP.GROW', 'SP.RUR.TOTL.ZG', 'SP.URB.GROW']]\n",
    "print('Urbanization df shape', urb_df.shape)"
   ]
  },
  {
   "cell_type": "code",
   "execution_count": 9,
   "metadata": {},
   "outputs": [
    {
     "name": "stdout",
     "output_type": "stream",
     "text": [
      "Result df shape = (65, 13)\n"
     ]
    }
   ],
   "source": [
    "resdf = co2_df.merge(othergas_df, how='left', on=['Country', 'Year'])\\\n",
    "        .merge(gdp_df, how='left', on=['Country', 'Year'])\\\n",
    "        .merge(landuse_df, how='left', on=['Country', 'Year'])\\\n",
    "        .merge(urb_df, how='left', on=['Country', 'Year'])\n",
    "\n",
    "print('Result df shape =', resdf.shape)"
   ]
  }
 ],
 "metadata": {
  "kernelspec": {
   "display_name": "Python 3.9.12 ('google_analytics_cert')",
   "language": "python",
   "name": "python3"
  },
  "language_info": {
   "codemirror_mode": {
    "name": "ipython",
    "version": 3
   },
   "file_extension": ".py",
   "mimetype": "text/x-python",
   "name": "python",
   "nbconvert_exporter": "python",
   "pygments_lexer": "ipython3",
   "version": "3.9.12"
  },
  "vscode": {
   "interpreter": {
    "hash": "ed7670ed09755f587c04ad1d640d15a134edbfe4ad5359d9b1d26866f39a2661"
   }
  }
 },
 "nbformat": 4,
 "nbformat_minor": 4
}
