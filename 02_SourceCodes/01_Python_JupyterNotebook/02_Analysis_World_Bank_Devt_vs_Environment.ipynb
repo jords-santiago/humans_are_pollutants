{
 "cells": [
  {
   "cell_type": "markdown",
   "metadata": {},
   "source": [
    "# World Bank's World Development Indicators vs. Environment Analysis - Analysis Notebook"
   ]
  },
  {
   "cell_type": "code",
   "execution_count": 137,
   "metadata": {},
   "outputs": [],
   "source": [
    "import numpy as np\n",
    "import pandas as pd\n",
    "import seaborn as sns\n",
    "import matplotlib.pyplot as plt\n",
    "\n",
    "pd.set_option('display.max_colwidth', None)"
   ]
  },
  {
   "cell_type": "code",
   "execution_count": 138,
   "metadata": {},
   "outputs": [],
   "source": [
    "%run ./help_funcs.ipynb"
   ]
  },
  {
   "cell_type": "markdown",
   "metadata": {},
   "source": [
    "## Load the datasets\n",
    "\n",
    "| Dataset | Series Code | Series Description/Name |\n",
    "| --- | --- | --- |\n",
    "|CO2| EN.ATM.CO2E.KT | CO2 emissions (kt)|\n",
    "|Other Gas | EN.ATM.GHGT.KT.CE | Total greenhouse gas emissions (kt of CO2 equivalent) |\n",
    "|Other Gas | EN.ATM.METH.KT.CE | Methane emissions (kt of CO2 equivalent)|\n",
    "|Other Gas | EN.ATM.NOXE.KT.CE | Nitrous oxide emissions (thousand metric tons of CO2 equivalent)|\n",
    "\n"
   ]
  }
 ],
 "metadata": {
  "kernelspec": {
   "display_name": "Python 3.9.12 ('google_analytics_cert')",
   "language": "python",
   "name": "python3"
  },
  "language_info": {
   "codemirror_mode": {
    "name": "ipython",
    "version": 3
   },
   "file_extension": ".py",
   "mimetype": "text/x-python",
   "name": "python",
   "nbconvert_exporter": "python",
   "pygments_lexer": "ipython3",
   "version": "3.9.12"
  },
  "vscode": {
   "interpreter": {
    "hash": "ed7670ed09755f587c04ad1d640d15a134edbfe4ad5359d9b1d26866f39a2661"
   }
  }
 },
 "nbformat": 4,
 "nbformat_minor": 4
}
