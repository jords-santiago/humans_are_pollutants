{
 "cells": [
  {
   "cell_type": "markdown",
   "metadata": {},
   "source": [
    "# World Bank's World Development Indicators vs. Environment Analysis - Analysis Notebook"
   ]
  },
  {
   "cell_type": "code",
   "execution_count": 137,
   "metadata": {},
   "outputs": [],
   "source": [
    "import numpy as np\n",
    "import pandas as pd\n",
    "import seaborn as sns\n",
    "import matplotlib.pyplot as plt\n",
    "\n",
    "pd.set_option('display.max_colwidth', None)"
   ]
  },
  {
   "cell_type": "code",
   "execution_count": 138,
   "metadata": {},
   "outputs": [],
   "source": [
    "%run ./help_funcs.ipynb"
   ]
  },
  {
   "cell_type": "markdown",
   "metadata": {},
   "source": [
    "## Climate Change/Pollution Indicators\n",
    "\n",
    "We now check out the data from the World Banks that we know direcly impact the environment adversely"
   ]
  },
  {
   "cell_type": "markdown",
   "metadata": {},
   "source": [
    "### CO2 Emissions"
   ]
  },
  {
   "cell_type": "markdown",
   "metadata": {},
   "source": [
    "#### Loading and checking dataset"
   ]
  },
  {
   "cell_type": "code",
   "execution_count": 139,
   "metadata": {},
   "outputs": [],
   "source": [
    "co2_descdf, co2_df = world_bank_file_to_df('../../01_DataSources/01_Raw/World_Bank_CO2_World_Development_Indicators/World_Bank_CO2_World_Development_Indicators_Data.csv')"
   ]
  },
  {
   "cell_type": "code",
   "execution_count": 140,
   "metadata": {},
   "outputs": [
    {
     "data": {
      "text/html": [
       "<div>\n",
       "<style scoped>\n",
       "    .dataframe tbody tr th:only-of-type {\n",
       "        vertical-align: middle;\n",
       "    }\n",
       "\n",
       "    .dataframe tbody tr th {\n",
       "        vertical-align: top;\n",
       "    }\n",
       "\n",
       "    .dataframe thead th {\n",
       "        text-align: right;\n",
       "    }\n",
       "</style>\n",
       "<table border=\"1\" class=\"dataframe\">\n",
       "  <thead>\n",
       "    <tr style=\"text-align: right;\">\n",
       "      <th></th>\n",
       "      <th>Series Code</th>\n",
       "      <th>Series Name</th>\n",
       "    </tr>\n",
       "  </thead>\n",
       "  <tbody>\n",
       "    <tr>\n",
       "      <th>8</th>\n",
       "      <td>EN.ATM.CO2E.GF.ZS</td>\n",
       "      <td>CO2 emissions from gaseous fuel consumption (% of total)</td>\n",
       "    </tr>\n",
       "    <tr>\n",
       "      <th>0</th>\n",
       "      <td>EN.ATM.CO2E.KT</td>\n",
       "      <td>CO2 emissions (kt)</td>\n",
       "    </tr>\n",
       "    <tr>\n",
       "      <th>7</th>\n",
       "      <td>EN.ATM.CO2E.LF.ZS</td>\n",
       "      <td>CO2 emissions from liquid fuel consumption (% of total)</td>\n",
       "    </tr>\n",
       "    <tr>\n",
       "      <th>1</th>\n",
       "      <td>EN.ATM.CO2E.PC</td>\n",
       "      <td>CO2 emissions (metric tons per capita)</td>\n",
       "    </tr>\n",
       "    <tr>\n",
       "      <th>4</th>\n",
       "      <td>EN.ATM.CO2E.SF.ZS</td>\n",
       "      <td>CO2 emissions from solid fuel consumption (% of total)</td>\n",
       "    </tr>\n",
       "    <tr>\n",
       "      <th>5</th>\n",
       "      <td>EN.CO2.BLDG.ZS</td>\n",
       "      <td>CO2 emissions from residential buildings and commercial and public services (% of total fuel combustion)</td>\n",
       "    </tr>\n",
       "    <tr>\n",
       "      <th>2</th>\n",
       "      <td>EN.CO2.ETOT.ZS</td>\n",
       "      <td>CO2 emissions from electricity and heat production, total (% of total fuel combustion)</td>\n",
       "    </tr>\n",
       "    <tr>\n",
       "      <th>6</th>\n",
       "      <td>EN.CO2.MANF.ZS</td>\n",
       "      <td>CO2 emissions from manufacturing industries and construction (% of total fuel combustion)</td>\n",
       "    </tr>\n",
       "    <tr>\n",
       "      <th>3</th>\n",
       "      <td>EN.CO2.OTHX.ZS</td>\n",
       "      <td>CO2 emissions from other sectors, excluding residential buildings and commercial and public services (% of total fuel combustion)</td>\n",
       "    </tr>\n",
       "    <tr>\n",
       "      <th>9</th>\n",
       "      <td>EN.CO2.TRAN.ZS</td>\n",
       "      <td>CO2 emissions from transport (% of total fuel combustion)</td>\n",
       "    </tr>\n",
       "  </tbody>\n",
       "</table>\n",
       "</div>"
      ],
      "text/plain": [
       "         Series Code  \\\n",
       "8  EN.ATM.CO2E.GF.ZS   \n",
       "0     EN.ATM.CO2E.KT   \n",
       "7  EN.ATM.CO2E.LF.ZS   \n",
       "1     EN.ATM.CO2E.PC   \n",
       "4  EN.ATM.CO2E.SF.ZS   \n",
       "5     EN.CO2.BLDG.ZS   \n",
       "2     EN.CO2.ETOT.ZS   \n",
       "6     EN.CO2.MANF.ZS   \n",
       "3     EN.CO2.OTHX.ZS   \n",
       "9     EN.CO2.TRAN.ZS   \n",
       "\n",
       "                                                                                                                         Series Name  \n",
       "8                                                                           CO2 emissions from gaseous fuel consumption (% of total)  \n",
       "0                                                                                                                 CO2 emissions (kt)  \n",
       "7                                                                            CO2 emissions from liquid fuel consumption (% of total)  \n",
       "1                                                                                             CO2 emissions (metric tons per capita)  \n",
       "4                                                                             CO2 emissions from solid fuel consumption (% of total)  \n",
       "5                           CO2 emissions from residential buildings and commercial and public services (% of total fuel combustion)  \n",
       "2                                             CO2 emissions from electricity and heat production, total (% of total fuel combustion)  \n",
       "6                                          CO2 emissions from manufacturing industries and construction (% of total fuel combustion)  \n",
       "3  CO2 emissions from other sectors, excluding residential buildings and commercial and public services (% of total fuel combustion)  \n",
       "9                                                                          CO2 emissions from transport (% of total fuel combustion)  "
      ]
     },
     "metadata": {},
     "output_type": "display_data"
    }
   ],
   "source": [
    "display(co2_descdf.sort_values('Series Code'))"
   ]
  },
  {
   "cell_type": "code",
   "execution_count": 141,
   "metadata": {},
   "outputs": [
    {
     "data": {
      "image/png": "[encoded data removed]",
      "text/plain": [
       "<Figure size 864x720 with 1 Axes>"
      ]
     },
     "metadata": {
      "needs_background": "light"
     },
     "output_type": "display_data"
    },
    {
     "name": "stdout",
     "output_type": "stream",
     "text": [
      "Percentage of Null values in Dataset:\n"
     ]
    },
    {
     "data": {
      "text/plain": [
       "EN.ATM.CO2E.GF.ZS    41.597542\n",
       "EN.ATM.CO2E.KT       23.717358\n",
       "EN.ATM.CO2E.LF.ZS    41.597542\n",
       "EN.ATM.CO2E.PC       23.717358\n",
       "EN.ATM.CO2E.SF.ZS    41.597542\n",
       "EN.CO2.BLDG.ZS       65.253456\n",
       "EN.CO2.ETOT.ZS       65.253456\n",
       "EN.CO2.MANF.ZS       65.253456\n",
       "EN.CO2.OTHX.ZS       65.253456\n",
       "EN.CO2.TRAN.ZS       65.253456\n",
       "dtype: float64"
      ]
     },
     "metadata": {},
     "output_type": "display_data"
    },
    {
     "name": "stdout",
     "output_type": "stream",
     "text": [
      "Year = 2007\n"
     ]
    },
    {
     "data": {
      "text/plain": [
       "EN.ATM.CO2E.GF.ZS    12.442396\n",
       "EN.ATM.CO2E.KT       11.981567\n",
       "EN.ATM.CO2E.LF.ZS    12.442396\n",
       "EN.ATM.CO2E.PC       11.981567\n",
       "EN.ATM.CO2E.SF.ZS    12.442396\n",
       "EN.CO2.BLDG.ZS       35.023041\n",
       "EN.CO2.ETOT.ZS       35.023041\n",
       "EN.CO2.MANF.ZS       35.023041\n",
       "EN.CO2.OTHX.ZS       35.023041\n",
       "EN.CO2.TRAN.ZS       35.023041\n",
       "dtype: float64"
      ]
     },
     "metadata": {},
     "output_type": "display_data"
    },
    {
     "name": "stdout",
     "output_type": "stream",
     "text": [
      "Year = 2008\n"
     ]
    },
    {
     "data": {
      "text/plain": [
       "EN.ATM.CO2E.GF.ZS    12.442396\n",
       "EN.ATM.CO2E.KT       11.981567\n",
       "EN.ATM.CO2E.LF.ZS    12.442396\n",
       "EN.ATM.CO2E.PC       11.981567\n",
       "EN.ATM.CO2E.SF.ZS    12.442396\n",
       "EN.CO2.BLDG.ZS       35.023041\n",
       "EN.CO2.ETOT.ZS       35.023041\n",
       "EN.CO2.MANF.ZS       35.023041\n",
       "EN.CO2.OTHX.ZS       35.023041\n",
       "EN.CO2.TRAN.ZS       35.023041\n",
       "dtype: float64"
      ]
     },
     "metadata": {},
     "output_type": "display_data"
    },
    {
     "name": "stdout",
     "output_type": "stream",
     "text": [
      "Year = 2009\n"
     ]
    },
    {
     "data": {
      "text/plain": [
       "EN.ATM.CO2E.GF.ZS    12.442396\n",
       "EN.ATM.CO2E.KT       11.981567\n",
       "EN.ATM.CO2E.LF.ZS    12.442396\n",
       "EN.ATM.CO2E.PC       11.981567\n",
       "EN.ATM.CO2E.SF.ZS    12.442396\n",
       "EN.CO2.BLDG.ZS       35.023041\n",
       "EN.CO2.ETOT.ZS       35.023041\n",
       "EN.CO2.MANF.ZS       35.023041\n",
       "EN.CO2.OTHX.ZS       35.023041\n",
       "EN.CO2.TRAN.ZS       35.023041\n",
       "dtype: float64"
      ]
     },
     "metadata": {},
     "output_type": "display_data"
    },
    {
     "name": "stdout",
     "output_type": "stream",
     "text": [
      "Year = 2010\n"
     ]
    },
    {
     "data": {
      "text/plain": [
       "EN.ATM.CO2E.GF.ZS    12.442396\n",
       "EN.ATM.CO2E.KT       11.981567\n",
       "EN.ATM.CO2E.LF.ZS    12.442396\n",
       "EN.ATM.CO2E.PC       11.981567\n",
       "EN.ATM.CO2E.SF.ZS    12.442396\n",
       "EN.CO2.BLDG.ZS       35.023041\n",
       "EN.CO2.ETOT.ZS       35.023041\n",
       "EN.CO2.MANF.ZS       35.023041\n",
       "EN.CO2.OTHX.ZS       35.023041\n",
       "EN.CO2.TRAN.ZS       35.023041\n",
       "dtype: float64"
      ]
     },
     "metadata": {},
     "output_type": "display_data"
    },
    {
     "name": "stdout",
     "output_type": "stream",
     "text": [
      "Year = 2011\n"
     ]
    },
    {
     "data": {
      "text/plain": [
       "EN.ATM.CO2E.GF.ZS    12.442396\n",
       "EN.ATM.CO2E.KT       11.981567\n",
       "EN.ATM.CO2E.LF.ZS    12.442396\n",
       "EN.ATM.CO2E.PC       11.981567\n",
       "EN.ATM.CO2E.SF.ZS    12.442396\n",
       "EN.CO2.BLDG.ZS       35.023041\n",
       "EN.CO2.ETOT.ZS       35.023041\n",
       "EN.CO2.MANF.ZS       35.023041\n",
       "EN.CO2.OTHX.ZS       35.023041\n",
       "EN.CO2.TRAN.ZS       35.023041\n",
       "dtype: float64"
      ]
     },
     "metadata": {},
     "output_type": "display_data"
    },
    {
     "name": "stdout",
     "output_type": "stream",
     "text": [
      "Year = 2012\n"
     ]
    },
    {
     "data": {
      "text/plain": [
       "EN.ATM.CO2E.GF.ZS    11.981567\n",
       "EN.ATM.CO2E.KT       11.981567\n",
       "EN.ATM.CO2E.LF.ZS    11.981567\n",
       "EN.ATM.CO2E.PC       11.981567\n",
       "EN.ATM.CO2E.SF.ZS    11.981567\n",
       "EN.CO2.BLDG.ZS       34.562212\n",
       "EN.CO2.ETOT.ZS       34.562212\n",
       "EN.CO2.MANF.ZS       34.562212\n",
       "EN.CO2.OTHX.ZS       34.562212\n",
       "EN.CO2.TRAN.ZS       34.562212\n",
       "dtype: float64"
      ]
     },
     "metadata": {},
     "output_type": "display_data"
    },
    {
     "name": "stdout",
     "output_type": "stream",
     "text": [
      "Year = 2013\n"
     ]
    },
    {
     "data": {
      "text/plain": [
       "EN.ATM.CO2E.GF.ZS    11.981567\n",
       "EN.ATM.CO2E.KT       11.981567\n",
       "EN.ATM.CO2E.LF.ZS    11.981567\n",
       "EN.ATM.CO2E.PC       11.981567\n",
       "EN.ATM.CO2E.SF.ZS    11.981567\n",
       "EN.CO2.BLDG.ZS       34.562212\n",
       "EN.CO2.ETOT.ZS       34.562212\n",
       "EN.CO2.MANF.ZS       34.562212\n",
       "EN.CO2.OTHX.ZS       34.562212\n",
       "EN.CO2.TRAN.ZS       34.562212\n",
       "dtype: float64"
      ]
     },
     "metadata": {},
     "output_type": "display_data"
    },
    {
     "name": "stdout",
     "output_type": "stream",
     "text": [
      "Year = 2014\n"
     ]
    },
    {
     "data": {
      "text/plain": [
       "EN.ATM.CO2E.GF.ZS    11.981567\n",
       "EN.ATM.CO2E.KT       11.981567\n",
       "EN.ATM.CO2E.LF.ZS    11.981567\n",
       "EN.ATM.CO2E.PC       11.981567\n",
       "EN.ATM.CO2E.SF.ZS    11.981567\n",
       "EN.CO2.BLDG.ZS       34.562212\n",
       "EN.CO2.ETOT.ZS       34.562212\n",
       "EN.CO2.MANF.ZS       34.562212\n",
       "EN.CO2.OTHX.ZS       34.562212\n",
       "EN.CO2.TRAN.ZS       34.562212\n",
       "dtype: float64"
      ]
     },
     "metadata": {},
     "output_type": "display_data"
    },
    {
     "name": "stdout",
     "output_type": "stream",
     "text": [
      "Year = 2015\n"
     ]
    },
    {
     "data": {
      "text/plain": [
       "EN.ATM.CO2E.GF.ZS     12.903226\n",
       "EN.ATM.CO2E.KT        11.981567\n",
       "EN.ATM.CO2E.LF.ZS     12.903226\n",
       "EN.ATM.CO2E.PC        11.981567\n",
       "EN.ATM.CO2E.SF.ZS     12.903226\n",
       "EN.CO2.BLDG.ZS       100.000000\n",
       "EN.CO2.ETOT.ZS       100.000000\n",
       "EN.CO2.MANF.ZS       100.000000\n",
       "EN.CO2.OTHX.ZS       100.000000\n",
       "EN.CO2.TRAN.ZS       100.000000\n",
       "dtype: float64"
      ]
     },
     "metadata": {},
     "output_type": "display_data"
    },
    {
     "name": "stdout",
     "output_type": "stream",
     "text": [
      "Year = 2016\n"
     ]
    },
    {
     "data": {
      "text/plain": [
       "EN.ATM.CO2E.GF.ZS     12.903226\n",
       "EN.ATM.CO2E.KT        11.981567\n",
       "EN.ATM.CO2E.LF.ZS     12.903226\n",
       "EN.ATM.CO2E.PC        11.981567\n",
       "EN.ATM.CO2E.SF.ZS     12.903226\n",
       "EN.CO2.BLDG.ZS       100.000000\n",
       "EN.CO2.ETOT.ZS       100.000000\n",
       "EN.CO2.MANF.ZS       100.000000\n",
       "EN.CO2.OTHX.ZS       100.000000\n",
       "EN.CO2.TRAN.ZS       100.000000\n",
       "dtype: float64"
      ]
     },
     "metadata": {},
     "output_type": "display_data"
    },
    {
     "name": "stdout",
     "output_type": "stream",
     "text": [
      "Year = 2017\n"
     ]
    },
    {
     "data": {
      "text/plain": [
       "EN.ATM.CO2E.GF.ZS    100.000000\n",
       "EN.ATM.CO2E.KT        11.981567\n",
       "EN.ATM.CO2E.LF.ZS    100.000000\n",
       "EN.ATM.CO2E.PC        11.981567\n",
       "EN.ATM.CO2E.SF.ZS    100.000000\n",
       "EN.CO2.BLDG.ZS       100.000000\n",
       "EN.CO2.ETOT.ZS       100.000000\n",
       "EN.CO2.MANF.ZS       100.000000\n",
       "EN.CO2.OTHX.ZS       100.000000\n",
       "EN.CO2.TRAN.ZS       100.000000\n",
       "dtype: float64"
      ]
     },
     "metadata": {},
     "output_type": "display_data"
    },
    {
     "name": "stdout",
     "output_type": "stream",
     "text": [
      "Year = 2018\n"
     ]
    },
    {
     "data": {
      "text/plain": [
       "EN.ATM.CO2E.GF.ZS    100.000000\n",
       "EN.ATM.CO2E.KT        11.981567\n",
       "EN.ATM.CO2E.LF.ZS    100.000000\n",
       "EN.ATM.CO2E.PC        11.981567\n",
       "EN.ATM.CO2E.SF.ZS    100.000000\n",
       "EN.CO2.BLDG.ZS       100.000000\n",
       "EN.CO2.ETOT.ZS       100.000000\n",
       "EN.CO2.MANF.ZS       100.000000\n",
       "EN.CO2.OTHX.ZS       100.000000\n",
       "EN.CO2.TRAN.ZS       100.000000\n",
       "dtype: float64"
      ]
     },
     "metadata": {},
     "output_type": "display_data"
    },
    {
     "name": "stdout",
     "output_type": "stream",
     "text": [
      "Year = 2019\n"
     ]
    },
    {
     "data": {
      "text/plain": [
       "EN.ATM.CO2E.GF.ZS    100.000000\n",
       "EN.ATM.CO2E.KT        11.981567\n",
       "EN.ATM.CO2E.LF.ZS    100.000000\n",
       "EN.ATM.CO2E.PC        11.981567\n",
       "EN.ATM.CO2E.SF.ZS    100.000000\n",
       "EN.CO2.BLDG.ZS       100.000000\n",
       "EN.CO2.ETOT.ZS       100.000000\n",
       "EN.CO2.MANF.ZS       100.000000\n",
       "EN.CO2.OTHX.ZS       100.000000\n",
       "EN.CO2.TRAN.ZS       100.000000\n",
       "dtype: float64"
      ]
     },
     "metadata": {},
     "output_type": "display_data"
    },
    {
     "name": "stdout",
     "output_type": "stream",
     "text": [
      "Year = 2020\n"
     ]
    },
    {
     "data": {
      "text/plain": [
       "EN.ATM.CO2E.GF.ZS    100.0\n",
       "EN.ATM.CO2E.KT       100.0\n",
       "EN.ATM.CO2E.LF.ZS    100.0\n",
       "EN.ATM.CO2E.PC       100.0\n",
       "EN.ATM.CO2E.SF.ZS    100.0\n",
       "EN.CO2.BLDG.ZS       100.0\n",
       "EN.CO2.ETOT.ZS       100.0\n",
       "EN.CO2.MANF.ZS       100.0\n",
       "EN.CO2.OTHX.ZS       100.0\n",
       "EN.CO2.TRAN.ZS       100.0\n",
       "dtype: float64"
      ]
     },
     "metadata": {},
     "output_type": "display_data"
    },
    {
     "name": "stdout",
     "output_type": "stream",
     "text": [
      "Year = 2021\n"
     ]
    },
    {
     "data": {
      "text/plain": [
       "EN.ATM.CO2E.GF.ZS    100.0\n",
       "EN.ATM.CO2E.KT       100.0\n",
       "EN.ATM.CO2E.LF.ZS    100.0\n",
       "EN.ATM.CO2E.PC       100.0\n",
       "EN.ATM.CO2E.SF.ZS    100.0\n",
       "EN.CO2.BLDG.ZS       100.0\n",
       "EN.CO2.ETOT.ZS       100.0\n",
       "EN.CO2.MANF.ZS       100.0\n",
       "EN.CO2.OTHX.ZS       100.0\n",
       "EN.CO2.TRAN.ZS       100.0\n",
       "dtype: float64"
      ]
     },
     "metadata": {},
     "output_type": "display_data"
    }
   ],
   "source": [
    "visualize_nulls(co2_df)"
   ]
  },
  {
   "cell_type": "markdown",
   "metadata": {},
   "source": [
    "* World Bank data only has data up to 2019 for now\n",
    "* Only CO2 Emissions and CO2 Emissions per capita has enough data after 2014 while others have a large amount of null values"
   ]
  },
  {
   "cell_type": "markdown",
   "metadata": {},
   "source": [
    "#### CO2 Emissions for each country"
   ]
  },
  {
   "cell_type": "code",
   "execution_count": 142,
   "metadata": {},
   "outputs": [],
   "source": [
    "# remove records with year 2020 and 2021\n",
    "co2_df = co2_df[~co2_df['Year'].isin([2020, 2021])]"
   ]
  },
  {
   "cell_type": "code",
   "execution_count": 143,
   "metadata": {},
   "outputs": [
    {
     "name": "stdout",
     "output_type": "stream",
     "text": [
      "['China', 'United States', 'India', 'Russian Federation', 'Japan', 'Germany', 'Korea, Rep.', 'Iran, Islamic Rep.', 'Canada', 'Saudi Arabia']\n"
     ]
    }
   ],
   "source": [
    "# Get the the top 10 countries with the highest average C02 emissions 2007-2019\n",
    "co2_em_df = co2_df[['Country', 'Year', 'EN.ATM.CO2E.KT']].dropna()\n",
    "\n",
    "co2_em_df_top10_list = co2_em_df.groupby('Country')\\\n",
    "                                .mean()\\\n",
    "                                .reset_index()\\\n",
    "                                .sort_values('EN.ATM.CO2E.KT',ascending=False)\\\n",
    "                                .head(10)['Country']\\\n",
    "                                .tolist()\n",
    "\n",
    "co2_em_df_top10 = co2_em_df[co2_em_df['Country'].isin(co2_em_df_top10_list)]\n",
    "\n",
    "print(co2_em_df_top10_list)"
   ]
  },
  {
   "cell_type": "code",
   "execution_count": 144,
   "metadata": {},
   "outputs": [
    {
     "data": {
      "text/plain": [
       "<Figure size 432x288 with 0 Axes>"
      ]
     },
     "metadata": {},
     "output_type": "display_data"
    },
    {
     "data": {
      "image/png": "[encoded data removed]",
      "text/plain": [
       "<Figure size 864x720 with 1 Axes>"
      ]
     },
     "metadata": {
      "needs_background": "light"
     },
     "output_type": "display_data"
    }
   ],
   "source": [
    "plt.clf()\n",
    "plt.figure(figsize=(12,10))\n",
    "plt.title('Top 10 Countries on C02 emissions')\n",
    "plt.ylabel('kilotons')\n",
    "ax = sns.lineplot(x='Year', y='EN.ATM.CO2E.KT', data=co2_em_df_top10, hue='Country', hue_order=co2_em_df_top10_list)\n",
    "plt.show()"
   ]
  },
  {
   "cell_type": "markdown",
   "metadata": {},
   "source": [
    "China and the United States have the most CO2 emission contribution compared to the other 8 with China trending upwards."
   ]
  },
  {
   "cell_type": "markdown",
   "metadata": {},
   "source": [
    "#### CO2 Emissions per capita for each country"
   ]
  },
  {
   "cell_type": "code",
   "execution_count": 145,
   "metadata": {},
   "outputs": [
    {
     "name": "stdout",
     "output_type": "stream",
     "text": [
      "['Qatar', 'Kuwait', 'Bahrain', 'United Arab Emirates', 'Luxembourg', 'Brunei Darussalam', 'Australia', 'United States', 'Saudi Arabia', 'Oman']\n"
     ]
    }
   ],
   "source": [
    "# Get the the top 10 countries with the highest average C02 emissions per capita 2007-2019\n",
    "co2_em_pc_df = co2_df[['Country', 'Year', 'EN.ATM.CO2E.PC']].dropna()\n",
    "\n",
    "co2_em_pc_df_top10_list = co2_em_pc_df.groupby('Country')\\\n",
    "                                      .mean()\\\n",
    "                                      .reset_index()\\\n",
    "                                      .sort_values('EN.ATM.CO2E.PC',ascending=False)\\\n",
    "                                      .head(10)['Country']\\\n",
    "                                      .tolist()\n",
    "\n",
    "co2_em_pc_df_top10 = co2_em_pc_df[co2_em_pc_df['Country'].isin(co2_em_pc_df_top10_list)]\n",
    "\n",
    "print(co2_em_pc_df_top10_list)"
   ]
  },
  {
   "cell_type": "code",
   "execution_count": 146,
   "metadata": {},
   "outputs": [
    {
     "data": {
      "text/plain": [
       "<Figure size 432x288 with 0 Axes>"
      ]
     },
     "metadata": {},
     "output_type": "display_data"
    },
    {
     "data": {
      "image/png": "[encoded data removed]",
      "text/plain": [
       "<Figure size 864x720 with 1 Axes>"
      ]
     },
     "metadata": {
      "needs_background": "light"
     },
     "output_type": "display_data"
    }
   ],
   "source": [
    "plt.clf()\n",
    "plt.figure(figsize=(12,10))\n",
    "plt.title('Top 10 Countries on C02 emissions per capita')\n",
    "plt.ylabel('Metric Tons')\n",
    "ax = sns.lineplot(x='Year', y='EN.ATM.CO2E.PC', data=co2_em_pc_df_top10, hue='Country', hue_order=co2_em_pc_df_top10_list)\n",
    "plt.show()"
   ]
  },
  {
   "cell_type": "markdown",
   "metadata": {},
   "source": [
    "On the other hand, with regards to CO2 emissions per capita, Qatar has the most with significant margin against the other top countries.  Also, the top 2 countries, Qatar and Kuwait, have their CO2 emissions per capita trending downwards."
   ]
  },
  {
   "cell_type": "markdown",
   "metadata": {},
   "source": [
    "#### CO2 emissions Summary\n",
    "\n",
    "Overall, based the viable CO2 data obtained, we can take some of the top countries on CO2 emissions and analyze those closer compared to the other data we have."
   ]
  },
  {
   "cell_type": "markdown",
   "metadata": {},
   "source": [
    "### Air Pollution"
   ]
  },
  {
   "cell_type": "markdown",
   "metadata": {},
   "source": [
    "#### Loading and checking dataset"
   ]
  },
  {
   "cell_type": "code",
   "execution_count": 147,
   "metadata": {},
   "outputs": [],
   "source": [
    "pollution_descdf, pollution_df = world_bank_file_to_df('../../01_DataSources/01_Raw/World_Bank_Pollution_World_Development_Indicators/World_Bank_Pollution_World_Development_Indicators_Data.csv')"
   ]
  },
  {
   "cell_type": "code",
   "execution_count": 148,
   "metadata": {},
   "outputs": [
    {
     "data": {
      "text/html": [
       "<div>\n",
       "<style scoped>\n",
       "    .dataframe tbody tr th:only-of-type {\n",
       "        vertical-align: middle;\n",
       "    }\n",
       "\n",
       "    .dataframe tbody tr th {\n",
       "        vertical-align: top;\n",
       "    }\n",
       "\n",
       "    .dataframe thead th {\n",
       "        text-align: right;\n",
       "    }\n",
       "</style>\n",
       "<table border=\"1\" class=\"dataframe\">\n",
       "  <thead>\n",
       "    <tr style=\"text-align: right;\">\n",
       "      <th></th>\n",
       "      <th>Series Code</th>\n",
       "      <th>Series Name</th>\n",
       "    </tr>\n",
       "  </thead>\n",
       "  <tbody>\n",
       "    <tr>\n",
       "      <th>0</th>\n",
       "      <td>EN.ATM.PM25.MC.M3</td>\n",
       "      <td>PM2.5 air pollution, mean annual exposure (micrograms per cubic meter)</td>\n",
       "    </tr>\n",
       "    <tr>\n",
       "      <th>3</th>\n",
       "      <td>EN.ATM.PM25.MC.T1.ZS</td>\n",
       "      <td>PM2.5 pollution, population exposed to levels exceeding WHO Interim Target-1 value (% of total)</td>\n",
       "    </tr>\n",
       "    <tr>\n",
       "      <th>2</th>\n",
       "      <td>EN.ATM.PM25.MC.T2.ZS</td>\n",
       "      <td>PM2.5 pollution, population exposed to levels exceeding WHO Interim Target-2 value (% of total)</td>\n",
       "    </tr>\n",
       "    <tr>\n",
       "      <th>4</th>\n",
       "      <td>EN.ATM.PM25.MC.T3.ZS</td>\n",
       "      <td>PM2.5 pollution, population exposed to levels exceeding WHO Interim Target-3 value (% of total)</td>\n",
       "    </tr>\n",
       "    <tr>\n",
       "      <th>1</th>\n",
       "      <td>EN.ATM.PM25.MC.ZS</td>\n",
       "      <td>PM2.5 air pollution, population exposed to levels exceeding WHO guideline value (% of total)</td>\n",
       "    </tr>\n",
       "  </tbody>\n",
       "</table>\n",
       "</div>"
      ],
      "text/plain": [
       "            Series Code  \\\n",
       "0     EN.ATM.PM25.MC.M3   \n",
       "3  EN.ATM.PM25.MC.T1.ZS   \n",
       "2  EN.ATM.PM25.MC.T2.ZS   \n",
       "4  EN.ATM.PM25.MC.T3.ZS   \n",
       "1     EN.ATM.PM25.MC.ZS   \n",
       "\n",
       "                                                                                       Series Name  \n",
       "0                           PM2.5 air pollution, mean annual exposure (micrograms per cubic meter)  \n",
       "3  PM2.5 pollution, population exposed to levels exceeding WHO Interim Target-1 value (% of total)  \n",
       "2  PM2.5 pollution, population exposed to levels exceeding WHO Interim Target-2 value (% of total)  \n",
       "4  PM2.5 pollution, population exposed to levels exceeding WHO Interim Target-3 value (% of total)  \n",
       "1     PM2.5 air pollution, population exposed to levels exceeding WHO guideline value (% of total)  "
      ]
     },
     "metadata": {},
     "output_type": "display_data"
    }
   ],
   "source": [
    "display(pollution_descdf.sort_values('Series Code'))"
   ]
  },
  {
   "cell_type": "code",
   "execution_count": 149,
   "metadata": {},
   "outputs": [
    {
     "data": {
      "image/png": "[encoded data removed]",
      "text/plain": [
       "<Figure size 864x720 with 1 Axes>"
      ]
     },
     "metadata": {
      "needs_background": "light"
     },
     "output_type": "display_data"
    },
    {
     "name": "stdout",
     "output_type": "stream",
     "text": [
      "Percentage of Null values in Dataset:\n"
     ]
    },
    {
     "data": {
      "text/plain": [
       "EN.ATM.PM25.MC.M3       52.319508\n",
       "EN.ATM.PM25.MC.T1.ZS    52.319508\n",
       "EN.ATM.PM25.MC.T2.ZS    52.319508\n",
       "EN.ATM.PM25.MC.T3.ZS    52.319508\n",
       "EN.ATM.PM25.MC.ZS       52.319508\n",
       "dtype: float64"
      ]
     },
     "metadata": {},
     "output_type": "display_data"
    },
    {
     "name": "stdout",
     "output_type": "stream",
     "text": [
      "Year = 2007\n"
     ]
    },
    {
     "data": {
      "text/plain": [
       "EN.ATM.PM25.MC.M3       100.0\n",
       "EN.ATM.PM25.MC.T1.ZS    100.0\n",
       "EN.ATM.PM25.MC.T2.ZS    100.0\n",
       "EN.ATM.PM25.MC.T3.ZS    100.0\n",
       "EN.ATM.PM25.MC.ZS       100.0\n",
       "dtype: float64"
      ]
     },
     "metadata": {},
     "output_type": "display_data"
    },
    {
     "name": "stdout",
     "output_type": "stream",
     "text": [
      "Year = 2008\n"
     ]
    },
    {
     "data": {
      "text/plain": [
       "EN.ATM.PM25.MC.M3       100.0\n",
       "EN.ATM.PM25.MC.T1.ZS    100.0\n",
       "EN.ATM.PM25.MC.T2.ZS    100.0\n",
       "EN.ATM.PM25.MC.T3.ZS    100.0\n",
       "EN.ATM.PM25.MC.ZS       100.0\n",
       "dtype: float64"
      ]
     },
     "metadata": {},
     "output_type": "display_data"
    },
    {
     "name": "stdout",
     "output_type": "stream",
     "text": [
      "Year = 2009\n"
     ]
    },
    {
     "data": {
      "text/plain": [
       "EN.ATM.PM25.MC.M3       100.0\n",
       "EN.ATM.PM25.MC.T1.ZS    100.0\n",
       "EN.ATM.PM25.MC.T2.ZS    100.0\n",
       "EN.ATM.PM25.MC.T3.ZS    100.0\n",
       "EN.ATM.PM25.MC.ZS       100.0\n",
       "dtype: float64"
      ]
     },
     "metadata": {},
     "output_type": "display_data"
    },
    {
     "name": "stdout",
     "output_type": "stream",
     "text": [
      "Year = 2010\n"
     ]
    },
    {
     "data": {
      "text/plain": [
       "EN.ATM.PM25.MC.M3       10.599078\n",
       "EN.ATM.PM25.MC.T1.ZS    10.599078\n",
       "EN.ATM.PM25.MC.T2.ZS    10.599078\n",
       "EN.ATM.PM25.MC.T3.ZS    10.599078\n",
       "EN.ATM.PM25.MC.ZS       10.599078\n",
       "dtype: float64"
      ]
     },
     "metadata": {},
     "output_type": "display_data"
    },
    {
     "name": "stdout",
     "output_type": "stream",
     "text": [
      "Year = 2011\n"
     ]
    },
    {
     "data": {
      "text/plain": [
       "EN.ATM.PM25.MC.M3       10.599078\n",
       "EN.ATM.PM25.MC.T1.ZS    10.599078\n",
       "EN.ATM.PM25.MC.T2.ZS    10.599078\n",
       "EN.ATM.PM25.MC.T3.ZS    10.599078\n",
       "EN.ATM.PM25.MC.ZS       10.599078\n",
       "dtype: float64"
      ]
     },
     "metadata": {},
     "output_type": "display_data"
    },
    {
     "name": "stdout",
     "output_type": "stream",
     "text": [
      "Year = 2012\n"
     ]
    },
    {
     "data": {
      "text/plain": [
       "EN.ATM.PM25.MC.M3       10.599078\n",
       "EN.ATM.PM25.MC.T1.ZS    10.599078\n",
       "EN.ATM.PM25.MC.T2.ZS    10.599078\n",
       "EN.ATM.PM25.MC.T3.ZS    10.599078\n",
       "EN.ATM.PM25.MC.ZS       10.599078\n",
       "dtype: float64"
      ]
     },
     "metadata": {},
     "output_type": "display_data"
    },
    {
     "name": "stdout",
     "output_type": "stream",
     "text": [
      "Year = 2013\n"
     ]
    },
    {
     "data": {
      "text/plain": [
       "EN.ATM.PM25.MC.M3       10.599078\n",
       "EN.ATM.PM25.MC.T1.ZS    10.599078\n",
       "EN.ATM.PM25.MC.T2.ZS    10.599078\n",
       "EN.ATM.PM25.MC.T3.ZS    10.599078\n",
       "EN.ATM.PM25.MC.ZS       10.599078\n",
       "dtype: float64"
      ]
     },
     "metadata": {},
     "output_type": "display_data"
    },
    {
     "name": "stdout",
     "output_type": "stream",
     "text": [
      "Year = 2014\n"
     ]
    },
    {
     "data": {
      "text/plain": [
       "EN.ATM.PM25.MC.M3       10.599078\n",
       "EN.ATM.PM25.MC.T1.ZS    10.599078\n",
       "EN.ATM.PM25.MC.T2.ZS    10.599078\n",
       "EN.ATM.PM25.MC.T3.ZS    10.599078\n",
       "EN.ATM.PM25.MC.ZS       10.599078\n",
       "dtype: float64"
      ]
     },
     "metadata": {},
     "output_type": "display_data"
    },
    {
     "name": "stdout",
     "output_type": "stream",
     "text": [
      "Year = 2015\n"
     ]
    },
    {
     "data": {
      "text/plain": [
       "EN.ATM.PM25.MC.M3       10.599078\n",
       "EN.ATM.PM25.MC.T1.ZS    10.599078\n",
       "EN.ATM.PM25.MC.T2.ZS    10.599078\n",
       "EN.ATM.PM25.MC.T3.ZS    10.599078\n",
       "EN.ATM.PM25.MC.ZS       10.599078\n",
       "dtype: float64"
      ]
     },
     "metadata": {},
     "output_type": "display_data"
    },
    {
     "name": "stdout",
     "output_type": "stream",
     "text": [
      "Year = 2016\n"
     ]
    },
    {
     "data": {
      "text/plain": [
       "EN.ATM.PM25.MC.M3       10.599078\n",
       "EN.ATM.PM25.MC.T1.ZS    10.599078\n",
       "EN.ATM.PM25.MC.T2.ZS    10.599078\n",
       "EN.ATM.PM25.MC.T3.ZS    10.599078\n",
       "EN.ATM.PM25.MC.ZS       10.599078\n",
       "dtype: float64"
      ]
     },
     "metadata": {},
     "output_type": "display_data"
    },
    {
     "name": "stdout",
     "output_type": "stream",
     "text": [
      "Year = 2017\n"
     ]
    },
    {
     "data": {
      "text/plain": [
       "EN.ATM.PM25.MC.M3       10.599078\n",
       "EN.ATM.PM25.MC.T1.ZS    10.599078\n",
       "EN.ATM.PM25.MC.T2.ZS    10.599078\n",
       "EN.ATM.PM25.MC.T3.ZS    10.599078\n",
       "EN.ATM.PM25.MC.ZS       10.599078\n",
       "dtype: float64"
      ]
     },
     "metadata": {},
     "output_type": "display_data"
    },
    {
     "name": "stdout",
     "output_type": "stream",
     "text": [
      "Year = 2018\n"
     ]
    },
    {
     "data": {
      "text/plain": [
       "EN.ATM.PM25.MC.M3       100.0\n",
       "EN.ATM.PM25.MC.T1.ZS    100.0\n",
       "EN.ATM.PM25.MC.T2.ZS    100.0\n",
       "EN.ATM.PM25.MC.T3.ZS    100.0\n",
       "EN.ATM.PM25.MC.ZS       100.0\n",
       "dtype: float64"
      ]
     },
     "metadata": {},
     "output_type": "display_data"
    },
    {
     "name": "stdout",
     "output_type": "stream",
     "text": [
      "Year = 2019\n"
     ]
    },
    {
     "data": {
      "text/plain": [
       "EN.ATM.PM25.MC.M3       100.0\n",
       "EN.ATM.PM25.MC.T1.ZS    100.0\n",
       "EN.ATM.PM25.MC.T2.ZS    100.0\n",
       "EN.ATM.PM25.MC.T3.ZS    100.0\n",
       "EN.ATM.PM25.MC.ZS       100.0\n",
       "dtype: float64"
      ]
     },
     "metadata": {},
     "output_type": "display_data"
    },
    {
     "name": "stdout",
     "output_type": "stream",
     "text": [
      "Year = 2020\n"
     ]
    },
    {
     "data": {
      "text/plain": [
       "EN.ATM.PM25.MC.M3       100.0\n",
       "EN.ATM.PM25.MC.T1.ZS    100.0\n",
       "EN.ATM.PM25.MC.T2.ZS    100.0\n",
       "EN.ATM.PM25.MC.T3.ZS    100.0\n",
       "EN.ATM.PM25.MC.ZS       100.0\n",
       "dtype: float64"
      ]
     },
     "metadata": {},
     "output_type": "display_data"
    },
    {
     "name": "stdout",
     "output_type": "stream",
     "text": [
      "Year = 2021\n"
     ]
    },
    {
     "data": {
      "text/plain": [
       "EN.ATM.PM25.MC.M3       100.0\n",
       "EN.ATM.PM25.MC.T1.ZS    100.0\n",
       "EN.ATM.PM25.MC.T2.ZS    100.0\n",
       "EN.ATM.PM25.MC.T3.ZS    100.0\n",
       "EN.ATM.PM25.MC.ZS       100.0\n",
       "dtype: float64"
      ]
     },
     "metadata": {},
     "output_type": "display_data"
    }
   ],
   "source": [
    "visualize_nulls(pollution_df)"
   ]
  },
  {
   "cell_type": "markdown",
   "metadata": {},
   "source": [
    "Unfortunately, this air pollution data is only available from 2010 to 2017"
   ]
  },
  {
   "cell_type": "markdown",
   "metadata": {},
   "source": [
    "#### Mean Annual Exposure to Air Pollution\n",
    "\n",
    "We check this metric out as others are more subjective as they are measured aganist WHO level."
   ]
  },
  {
   "cell_type": "code",
   "execution_count": 150,
   "metadata": {},
   "outputs": [],
   "source": [
    "pollution_df = pollution_df[pollution_df['Year'].isin(range(2010,2018))]"
   ]
  },
  {
   "cell_type": "code",
   "execution_count": 151,
   "metadata": {},
   "outputs": [
    {
     "name": "stdout",
     "output_type": "stream",
     "text": [
      "['Nepal', 'India', 'Qatar', 'Saudi Arabia', 'Egypt, Arab Rep.', 'Niger', 'Bahrain', 'Bangladesh', 'Cameroon', 'Iraq']\n"
     ]
    }
   ],
   "source": [
    "# Get the the top 10 countries with the highest average C02 emissions 2007-2019\n",
    "pollution_tot_df = pollution_df[['Country', 'Year', 'EN.ATM.PM25.MC.M3']].dropna()\n",
    "\n",
    "pollution_tot_df_top10_list = pollution_tot_df.groupby('Country')\\\n",
    "                                .mean()\\\n",
    "                                .reset_index()\\\n",
    "                                .sort_values('EN.ATM.PM25.MC.M3',ascending=False)\\\n",
    "                                .head(10)['Country']\\\n",
    "                                .tolist()\n",
    "\n",
    "pollution_tot_df_top10 = pollution_tot_df[pollution_tot_df['Country'].isin(pollution_tot_df_top10_list)]\n",
    "\n",
    "print(pollution_tot_df_top10_list)"
   ]
  },
  {
   "cell_type": "markdown",
   "metadata": {},
   "source": [
    "#### Air Pollution dataset Summary\n",
    "\n",
    "Aside from India, we can't compare this to the top countries in terms of CO2 emissions.  We may need to exclude this set on what drivers/indicators of climate change we will check."
   ]
  },
  {
   "cell_type": "markdown",
   "metadata": {},
   "source": [
    "### Other Gas Emissions"
   ]
  },
  {
   "cell_type": "markdown",
   "metadata": {},
   "source": [
    "#### Loading and checking dataset"
   ]
  },
  {
   "cell_type": "code",
   "execution_count": 152,
   "metadata": {},
   "outputs": [],
   "source": [
    "othergas_descdf, othergas_df = world_bank_file_to_df('../../01_DataSources/01_Raw/World_Bank_Othergas_World_Development_Indicators/World_Bank_Othergas_World_Development_Indicators_Data.csv')"
   ]
  },
  {
   "cell_type": "code",
   "execution_count": 153,
   "metadata": {},
   "outputs": [
    {
     "data": {
      "text/html": [
       "<div>\n",
       "<style scoped>\n",
       "    .dataframe tbody tr th:only-of-type {\n",
       "        vertical-align: middle;\n",
       "    }\n",
       "\n",
       "    .dataframe tbody tr th {\n",
       "        vertical-align: top;\n",
       "    }\n",
       "\n",
       "    .dataframe thead th {\n",
       "        text-align: right;\n",
       "    }\n",
       "</style>\n",
       "<table border=\"1\" class=\"dataframe\">\n",
       "  <thead>\n",
       "    <tr style=\"text-align: right;\">\n",
       "      <th></th>\n",
       "      <th>Series Code</th>\n",
       "      <th>Series Name</th>\n",
       "    </tr>\n",
       "  </thead>\n",
       "  <tbody>\n",
       "    <tr>\n",
       "      <th>1</th>\n",
       "      <td>EN.ATM.GHGO.KT.CE</td>\n",
       "      <td>Other greenhouse gas emissions, HFC, PFC and SF6 (thousand metric tons of CO2 equivalent)</td>\n",
       "    </tr>\n",
       "    <tr>\n",
       "      <th>4</th>\n",
       "      <td>EN.ATM.GHGT.KT.CE</td>\n",
       "      <td>Total greenhouse gas emissions (kt of CO2 equivalent)</td>\n",
       "    </tr>\n",
       "    <tr>\n",
       "      <th>2</th>\n",
       "      <td>EN.ATM.HFCG.KT.CE</td>\n",
       "      <td>HFC gas emissions (thousand metric tons of CO2 equivalent)</td>\n",
       "    </tr>\n",
       "    <tr>\n",
       "      <th>3</th>\n",
       "      <td>EN.ATM.METH.KT.CE</td>\n",
       "      <td>Methane emissions (kt of CO2 equivalent)</td>\n",
       "    </tr>\n",
       "    <tr>\n",
       "      <th>0</th>\n",
       "      <td>EN.ATM.NOXE.KT.CE</td>\n",
       "      <td>Nitrous oxide emissions (thousand metric tons of CO2 equivalent)</td>\n",
       "    </tr>\n",
       "    <tr>\n",
       "      <th>5</th>\n",
       "      <td>EN.ATM.SF6G.KT.CE</td>\n",
       "      <td>SF6 gas emissions (thousand metric tons of CO2 equivalent)</td>\n",
       "    </tr>\n",
       "  </tbody>\n",
       "</table>\n",
       "</div>"
      ],
      "text/plain": [
       "         Series Code  \\\n",
       "1  EN.ATM.GHGO.KT.CE   \n",
       "4  EN.ATM.GHGT.KT.CE   \n",
       "2  EN.ATM.HFCG.KT.CE   \n",
       "3  EN.ATM.METH.KT.CE   \n",
       "0  EN.ATM.NOXE.KT.CE   \n",
       "5  EN.ATM.SF6G.KT.CE   \n",
       "\n",
       "                                                                                 Series Name  \n",
       "1  Other greenhouse gas emissions, HFC, PFC and SF6 (thousand metric tons of CO2 equivalent)  \n",
       "4                                      Total greenhouse gas emissions (kt of CO2 equivalent)  \n",
       "2                                 HFC gas emissions (thousand metric tons of CO2 equivalent)  \n",
       "3                                                   Methane emissions (kt of CO2 equivalent)  \n",
       "0                           Nitrous oxide emissions (thousand metric tons of CO2 equivalent)  \n",
       "5                                 SF6 gas emissions (thousand metric tons of CO2 equivalent)  "
      ]
     },
     "metadata": {},
     "output_type": "display_data"
    }
   ],
   "source": [
    "display(othergas_descdf.sort_values('Series Code'))"
   ]
  },
  {
   "cell_type": "code",
   "execution_count": 154,
   "metadata": {},
   "outputs": [
    {
     "data": {
      "image/png": "[encoded data removed]",
      "text/plain": [
       "<Figure size 864x720 with 1 Axes>"
      ]
     },
     "metadata": {
      "needs_background": "light"
     },
     "output_type": "display_data"
    },
    {
     "name": "stdout",
     "output_type": "stream",
     "text": [
      "Percentage of Null values in Dataset:\n"
     ]
    },
    {
     "data": {
      "text/plain": [
       "EN.ATM.GHGO.KT.CE    44.086022\n",
       "EN.ATM.GHGT.KT.CE    23.717358\n",
       "EN.ATM.HFCG.KT.CE    91.643625\n",
       "EN.ATM.METH.KT.CE    23.717358\n",
       "EN.ATM.NOXE.KT.CE    24.116743\n",
       "EN.ATM.SF6G.KT.CE    91.643625\n",
       "dtype: float64"
      ]
     },
     "metadata": {},
     "output_type": "display_data"
    },
    {
     "name": "stdout",
     "output_type": "stream",
     "text": [
      "Year = 2007\n"
     ]
    },
    {
     "data": {
      "text/plain": [
       "EN.ATM.GHGO.KT.CE     15.668203\n",
       "EN.ATM.GHGT.KT.CE     11.981567\n",
       "EN.ATM.HFCG.KT.CE    100.000000\n",
       "EN.ATM.METH.KT.CE     11.981567\n",
       "EN.ATM.NOXE.KT.CE     12.442396\n",
       "EN.ATM.SF6G.KT.CE    100.000000\n",
       "dtype: float64"
      ]
     },
     "metadata": {},
     "output_type": "display_data"
    },
    {
     "name": "stdout",
     "output_type": "stream",
     "text": [
      "Year = 2008\n"
     ]
    },
    {
     "data": {
      "text/plain": [
       "EN.ATM.GHGO.KT.CE    15.668203\n",
       "EN.ATM.GHGT.KT.CE    11.981567\n",
       "EN.ATM.HFCG.KT.CE    37.788018\n",
       "EN.ATM.METH.KT.CE    11.981567\n",
       "EN.ATM.NOXE.KT.CE    12.442396\n",
       "EN.ATM.SF6G.KT.CE    37.788018\n",
       "dtype: float64"
      ]
     },
     "metadata": {},
     "output_type": "display_data"
    },
    {
     "name": "stdout",
     "output_type": "stream",
     "text": [
      "Year = 2009\n"
     ]
    },
    {
     "data": {
      "text/plain": [
       "EN.ATM.GHGO.KT.CE     15.668203\n",
       "EN.ATM.GHGT.KT.CE     11.981567\n",
       "EN.ATM.HFCG.KT.CE    100.000000\n",
       "EN.ATM.METH.KT.CE     11.981567\n",
       "EN.ATM.NOXE.KT.CE     12.442396\n",
       "EN.ATM.SF6G.KT.CE    100.000000\n",
       "dtype: float64"
      ]
     },
     "metadata": {},
     "output_type": "display_data"
    },
    {
     "name": "stdout",
     "output_type": "stream",
     "text": [
      "Year = 2010\n"
     ]
    },
    {
     "data": {
      "text/plain": [
       "EN.ATM.GHGO.KT.CE    15.668203\n",
       "EN.ATM.GHGT.KT.CE    11.981567\n",
       "EN.ATM.HFCG.KT.CE    36.866359\n",
       "EN.ATM.METH.KT.CE    11.981567\n",
       "EN.ATM.NOXE.KT.CE    12.442396\n",
       "EN.ATM.SF6G.KT.CE    36.866359\n",
       "dtype: float64"
      ]
     },
     "metadata": {},
     "output_type": "display_data"
    },
    {
     "name": "stdout",
     "output_type": "stream",
     "text": [
      "Year = 2011\n"
     ]
    },
    {
     "data": {
      "text/plain": [
       "EN.ATM.GHGO.KT.CE     15.207373\n",
       "EN.ATM.GHGT.KT.CE     11.981567\n",
       "EN.ATM.HFCG.KT.CE    100.000000\n",
       "EN.ATM.METH.KT.CE     11.981567\n",
       "EN.ATM.NOXE.KT.CE     12.442396\n",
       "EN.ATM.SF6G.KT.CE    100.000000\n",
       "dtype: float64"
      ]
     },
     "metadata": {},
     "output_type": "display_data"
    },
    {
     "name": "stdout",
     "output_type": "stream",
     "text": [
      "Year = 2012\n"
     ]
    },
    {
     "data": {
      "text/plain": [
       "EN.ATM.GHGO.KT.CE     15.207373\n",
       "EN.ATM.GHGT.KT.CE     11.981567\n",
       "EN.ATM.HFCG.KT.CE    100.000000\n",
       "EN.ATM.METH.KT.CE     11.981567\n",
       "EN.ATM.NOXE.KT.CE     12.442396\n",
       "EN.ATM.SF6G.KT.CE    100.000000\n",
       "dtype: float64"
      ]
     },
     "metadata": {},
     "output_type": "display_data"
    },
    {
     "name": "stdout",
     "output_type": "stream",
     "text": [
      "Year = 2013\n"
     ]
    },
    {
     "data": {
      "text/plain": [
       "EN.ATM.GHGO.KT.CE     17.050691\n",
       "EN.ATM.GHGT.KT.CE     11.981567\n",
       "EN.ATM.HFCG.KT.CE    100.000000\n",
       "EN.ATM.METH.KT.CE     11.981567\n",
       "EN.ATM.NOXE.KT.CE     12.442396\n",
       "EN.ATM.SF6G.KT.CE    100.000000\n",
       "dtype: float64"
      ]
     },
     "metadata": {},
     "output_type": "display_data"
    },
    {
     "name": "stdout",
     "output_type": "stream",
     "text": [
      "Year = 2014\n"
     ]
    },
    {
     "data": {
      "text/plain": [
       "EN.ATM.GHGO.KT.CE     17.050691\n",
       "EN.ATM.GHGT.KT.CE     11.981567\n",
       "EN.ATM.HFCG.KT.CE    100.000000\n",
       "EN.ATM.METH.KT.CE     11.981567\n",
       "EN.ATM.NOXE.KT.CE     12.442396\n",
       "EN.ATM.SF6G.KT.CE    100.000000\n",
       "dtype: float64"
      ]
     },
     "metadata": {},
     "output_type": "display_data"
    },
    {
     "name": "stdout",
     "output_type": "stream",
     "text": [
      "Year = 2015\n"
     ]
    },
    {
     "data": {
      "text/plain": [
       "EN.ATM.GHGO.KT.CE     17.050691\n",
       "EN.ATM.GHGT.KT.CE     11.981567\n",
       "EN.ATM.HFCG.KT.CE    100.000000\n",
       "EN.ATM.METH.KT.CE     11.981567\n",
       "EN.ATM.NOXE.KT.CE     12.442396\n",
       "EN.ATM.SF6G.KT.CE    100.000000\n",
       "dtype: float64"
      ]
     },
     "metadata": {},
     "output_type": "display_data"
    },
    {
     "name": "stdout",
     "output_type": "stream",
     "text": [
      "Year = 2016\n"
     ]
    },
    {
     "data": {
      "text/plain": [
       "EN.ATM.GHGO.KT.CE     17.050691\n",
       "EN.ATM.GHGT.KT.CE     11.981567\n",
       "EN.ATM.HFCG.KT.CE    100.000000\n",
       "EN.ATM.METH.KT.CE     11.981567\n",
       "EN.ATM.NOXE.KT.CE     12.442396\n",
       "EN.ATM.SF6G.KT.CE    100.000000\n",
       "dtype: float64"
      ]
     },
     "metadata": {},
     "output_type": "display_data"
    },
    {
     "name": "stdout",
     "output_type": "stream",
     "text": [
      "Year = 2017\n"
     ]
    },
    {
     "data": {
      "text/plain": [
       "EN.ATM.GHGO.KT.CE    100.000000\n",
       "EN.ATM.GHGT.KT.CE     11.981567\n",
       "EN.ATM.HFCG.KT.CE    100.000000\n",
       "EN.ATM.METH.KT.CE     11.981567\n",
       "EN.ATM.NOXE.KT.CE     12.442396\n",
       "EN.ATM.SF6G.KT.CE    100.000000\n",
       "dtype: float64"
      ]
     },
     "metadata": {},
     "output_type": "display_data"
    },
    {
     "name": "stdout",
     "output_type": "stream",
     "text": [
      "Year = 2018\n"
     ]
    },
    {
     "data": {
      "text/plain": [
       "EN.ATM.GHGO.KT.CE    100.000000\n",
       "EN.ATM.GHGT.KT.CE     11.981567\n",
       "EN.ATM.HFCG.KT.CE    100.000000\n",
       "EN.ATM.METH.KT.CE     11.981567\n",
       "EN.ATM.NOXE.KT.CE     12.442396\n",
       "EN.ATM.SF6G.KT.CE    100.000000\n",
       "dtype: float64"
      ]
     },
     "metadata": {},
     "output_type": "display_data"
    },
    {
     "name": "stdout",
     "output_type": "stream",
     "text": [
      "Year = 2019\n"
     ]
    },
    {
     "data": {
      "text/plain": [
       "EN.ATM.GHGO.KT.CE    100.000000\n",
       "EN.ATM.GHGT.KT.CE     11.981567\n",
       "EN.ATM.HFCG.KT.CE    100.000000\n",
       "EN.ATM.METH.KT.CE     11.981567\n",
       "EN.ATM.NOXE.KT.CE     12.442396\n",
       "EN.ATM.SF6G.KT.CE    100.000000\n",
       "dtype: float64"
      ]
     },
     "metadata": {},
     "output_type": "display_data"
    },
    {
     "name": "stdout",
     "output_type": "stream",
     "text": [
      "Year = 2020\n"
     ]
    },
    {
     "data": {
      "text/plain": [
       "EN.ATM.GHGO.KT.CE    100.0\n",
       "EN.ATM.GHGT.KT.CE    100.0\n",
       "EN.ATM.HFCG.KT.CE    100.0\n",
       "EN.ATM.METH.KT.CE    100.0\n",
       "EN.ATM.NOXE.KT.CE    100.0\n",
       "EN.ATM.SF6G.KT.CE    100.0\n",
       "dtype: float64"
      ]
     },
     "metadata": {},
     "output_type": "display_data"
    },
    {
     "name": "stdout",
     "output_type": "stream",
     "text": [
      "Year = 2021\n"
     ]
    },
    {
     "data": {
      "text/plain": [
       "EN.ATM.GHGO.KT.CE    100.0\n",
       "EN.ATM.GHGT.KT.CE    100.0\n",
       "EN.ATM.HFCG.KT.CE    100.0\n",
       "EN.ATM.METH.KT.CE    100.0\n",
       "EN.ATM.NOXE.KT.CE    100.0\n",
       "EN.ATM.SF6G.KT.CE    100.0\n",
       "dtype: float64"
      ]
     },
     "metadata": {},
     "output_type": "display_data"
    }
   ],
   "source": [
    "visualize_nulls(othergas_df)"
   ]
  },
  {
   "cell_type": "markdown",
   "metadata": {},
   "source": [
    "* Data is only up to 2019\n",
    "* Only Green house gases, Methane and Nitrous Oxide have significant amount of data on this set"
   ]
  },
  {
   "cell_type": "code",
   "execution_count": 155,
   "metadata": {},
   "outputs": [],
   "source": [
    "# remove records with year 2020 and 2021\n",
    "othergas_df = othergas_df[~othergas_df['Year'].isin([2020,2021])]"
   ]
  },
  {
   "cell_type": "markdown",
   "metadata": {},
   "source": [
    "#### Green house gases\n",
    "\n",
    "We check green house gases further as these do have some impact on global warming."
   ]
  },
  {
   "cell_type": "code",
   "execution_count": 156,
   "metadata": {},
   "outputs": [
    {
     "name": "stdout",
     "output_type": "stream",
     "text": [
      "['China', 'United States', 'India', 'Russian Federation', 'Japan', 'Brazil', 'Germany', 'Indonesia', 'Iran, Islamic Rep.', 'Canada']\n"
     ]
    }
   ],
   "source": [
    "# Get the the top 10 countries with the highest average C02 emissions 2007-2019\n",
    "ghg_df = othergas_df[['Country', 'Year', 'EN.ATM.GHGT.KT.CE']].dropna()\n",
    "\n",
    "ghg_df_top10_list = ghg_df.groupby('Country')\\\n",
    "                                .mean()\\\n",
    "                                .reset_index()\\\n",
    "                                .sort_values('EN.ATM.GHGT.KT.CE',ascending=False)\\\n",
    "                                .head(10)['Country']\\\n",
    "                                .tolist()\n",
    "\n",
    "ghg_df_top10 = ghg_df[ghg_df['Country'].isin(ghg_df_top10_list)]\n",
    "\n",
    "print(ghg_df_top10_list)"
   ]
  },
  {
   "cell_type": "markdown",
   "metadata": {},
   "source": [
    "#### Methane"
   ]
  },
  {
   "cell_type": "code",
   "execution_count": 157,
   "metadata": {},
   "outputs": [
    {
     "name": "stdout",
     "output_type": "stream",
     "text": [
      "['China', 'United States', 'India', 'Russian Federation', 'Brazil', 'Indonesia', 'Iran, Islamic Rep.', 'Venezuela, RB', 'Pakistan', 'Australia']\n"
     ]
    }
   ],
   "source": [
    "# Get the the top 10 countries with the highest average C02 emissions 2007-2019\n",
    "methane_df = othergas_df[['Country', 'Year', 'EN.ATM.METH.KT.CE']].dropna()\n",
    "\n",
    "methane_df_top10_list = methane_df.groupby('Country')\\\n",
    "                                .mean()\\\n",
    "                                .reset_index()\\\n",
    "                                .sort_values('EN.ATM.METH.KT.CE',ascending=False)\\\n",
    "                                .head(10)['Country']\\\n",
    "                                .tolist()\n",
    "\n",
    "methane_df_top10 = methane_df[methane_df['Country'].isin(methane_df_top10_list)]\n",
    "\n",
    "print(methane_df_top10_list)"
   ]
  },
  {
   "cell_type": "markdown",
   "metadata": {},
   "source": [
    "#### Nitrous Oxide"
   ]
  },
  {
   "cell_type": "code",
   "execution_count": 158,
   "metadata": {},
   "outputs": [
    {
     "name": "stdout",
     "output_type": "stream",
     "text": [
      "['China', 'United States', 'India', 'Brazil', 'Indonesia', 'Australia', 'Cameroon', 'Pakistan', 'Russian Federation', 'Argentina']\n"
     ]
    }
   ],
   "source": [
    "# Get the the top 10 countries with the highest average C02 emissions 2007-2019\n",
    "nox_df = othergas_df[['Country', 'Year', 'EN.ATM.NOXE.KT.CE']].dropna()\n",
    "\n",
    "nox_df_top10_list = nox_df.groupby('Country')\\\n",
    "                                .mean()\\\n",
    "                                .reset_index()\\\n",
    "                                .sort_values('EN.ATM.NOXE.KT.CE',ascending=False)\\\n",
    "                                .head(10)['Country']\\\n",
    "                                .tolist()\n",
    "\n",
    "nox_df_top10 = nox_df[nox_df['Country'].isin(nox_df_top10_list)]\n",
    "\n",
    "print(nox_df_top10_list)"
   ]
  },
  {
   "cell_type": "markdown",
   "metadata": {},
   "source": [
    "#### Other Gas Emissions Summary\n",
    "\n",
    "These countries do have a lot in common with the CO2 emissions data so we can use these together."
   ]
  },
  {
   "cell_type": "markdown",
   "metadata": {},
   "source": [
    "### Check data availability\n",
    "\n",
    "To narrow down the data points we will analyze, we will take these countries:\n",
    "* United States\n",
    "* China\n",
    "* India\n",
    "* Russia\n",
    "* Japan\n",
    "\n",
    "For the metrics:\n",
    "\n",
    "| Dataset | Series Code | Series Description/Name |\n",
    "| --- | --- | --- |\n",
    "|CO2| EN.ATM.CO2E.KT | CO2 emissions (kt)|\n",
    "|Other Gas | EN.ATM.GHGT.KT.CE | Total greenhouse gas emissions (kt of CO2 equivalent) |\n",
    "|Other Gas | EN.ATM.METH.KT.CE | Methane emissions (kt of CO2 equivalent)|\n",
    "|Other Gas | EN.ATM.NOXE.KT.CE | Nitrous oxide emissions (thousand metric tons of CO2 equivalent)|"
   ]
  },
  {
   "cell_type": "code",
   "execution_count": 159,
   "metadata": {},
   "outputs": [],
   "source": [
    "countries_list = ['China', 'United States', 'India', 'Russian Federation', 'Japan']"
   ]
  },
  {
   "cell_type": "code",
   "execution_count": 160,
   "metadata": {},
   "outputs": [
    {
     "data": {
      "image/png": "[encoded data removed]",
      "text/plain": [
       "<Figure size 864x720 with 1 Axes>"
      ]
     },
     "metadata": {
      "needs_background": "light"
     },
     "output_type": "display_data"
    },
    {
     "name": "stdout",
     "output_type": "stream",
     "text": [
      "Percentage of Null values in Dataset:\n"
     ]
    },
    {
     "data": {
      "text/plain": [
       "EN.ATM.CO2E.KT    0.0\n",
       "dtype: float64"
      ]
     },
     "metadata": {},
     "output_type": "display_data"
    },
    {
     "name": "stdout",
     "output_type": "stream",
     "text": [
      "Year = 2007\n"
     ]
    },
    {
     "data": {
      "text/plain": [
       "EN.ATM.CO2E.KT    0.0\n",
       "dtype: float64"
      ]
     },
     "metadata": {},
     "output_type": "display_data"
    },
    {
     "name": "stdout",
     "output_type": "stream",
     "text": [
      "Year = 2008\n"
     ]
    },
    {
     "data": {
      "text/plain": [
       "EN.ATM.CO2E.KT    0.0\n",
       "dtype: float64"
      ]
     },
     "metadata": {},
     "output_type": "display_data"
    },
    {
     "name": "stdout",
     "output_type": "stream",
     "text": [
      "Year = 2009\n"
     ]
    },
    {
     "data": {
      "text/plain": [
       "EN.ATM.CO2E.KT    0.0\n",
       "dtype: float64"
      ]
     },
     "metadata": {},
     "output_type": "display_data"
    },
    {
     "name": "stdout",
     "output_type": "stream",
     "text": [
      "Year = 2010\n"
     ]
    },
    {
     "data": {
      "text/plain": [
       "EN.ATM.CO2E.KT    0.0\n",
       "dtype: float64"
      ]
     },
     "metadata": {},
     "output_type": "display_data"
    },
    {
     "name": "stdout",
     "output_type": "stream",
     "text": [
      "Year = 2011\n"
     ]
    },
    {
     "data": {
      "text/plain": [
       "EN.ATM.CO2E.KT    0.0\n",
       "dtype: float64"
      ]
     },
     "metadata": {},
     "output_type": "display_data"
    },
    {
     "name": "stdout",
     "output_type": "stream",
     "text": [
      "Year = 2012\n"
     ]
    },
    {
     "data": {
      "text/plain": [
       "EN.ATM.CO2E.KT    0.0\n",
       "dtype: float64"
      ]
     },
     "metadata": {},
     "output_type": "display_data"
    },
    {
     "name": "stdout",
     "output_type": "stream",
     "text": [
      "Year = 2013\n"
     ]
    },
    {
     "data": {
      "text/plain": [
       "EN.ATM.CO2E.KT    0.0\n",
       "dtype: float64"
      ]
     },
     "metadata": {},
     "output_type": "display_data"
    },
    {
     "name": "stdout",
     "output_type": "stream",
     "text": [
      "Year = 2014\n"
     ]
    },
    {
     "data": {
      "text/plain": [
       "EN.ATM.CO2E.KT    0.0\n",
       "dtype: float64"
      ]
     },
     "metadata": {},
     "output_type": "display_data"
    },
    {
     "name": "stdout",
     "output_type": "stream",
     "text": [
      "Year = 2015\n"
     ]
    },
    {
     "data": {
      "text/plain": [
       "EN.ATM.CO2E.KT    0.0\n",
       "dtype: float64"
      ]
     },
     "metadata": {},
     "output_type": "display_data"
    },
    {
     "name": "stdout",
     "output_type": "stream",
     "text": [
      "Year = 2016\n"
     ]
    },
    {
     "data": {
      "text/plain": [
       "EN.ATM.CO2E.KT    0.0\n",
       "dtype: float64"
      ]
     },
     "metadata": {},
     "output_type": "display_data"
    },
    {
     "name": "stdout",
     "output_type": "stream",
     "text": [
      "Year = 2017\n"
     ]
    },
    {
     "data": {
      "text/plain": [
       "EN.ATM.CO2E.KT    0.0\n",
       "dtype: float64"
      ]
     },
     "metadata": {},
     "output_type": "display_data"
    },
    {
     "name": "stdout",
     "output_type": "stream",
     "text": [
      "Year = 2018\n"
     ]
    },
    {
     "data": {
      "text/plain": [
       "EN.ATM.CO2E.KT    0.0\n",
       "dtype: float64"
      ]
     },
     "metadata": {},
     "output_type": "display_data"
    },
    {
     "name": "stdout",
     "output_type": "stream",
     "text": [
      "Year = 2019\n"
     ]
    },
    {
     "data": {
      "text/plain": [
       "EN.ATM.CO2E.KT    0.0\n",
       "dtype: float64"
      ]
     },
     "metadata": {},
     "output_type": "display_data"
    }
   ],
   "source": [
    "co2_df = co2_df[['Country','Year','EN.ATM.CO2E.KT']]\n",
    "co2_df = co2_df[co2_df['Country'].isin(countries_list)]\n",
    "visualize_nulls(co2_df)"
   ]
  },
  {
   "cell_type": "code",
   "execution_count": 161,
   "metadata": {},
   "outputs": [
    {
     "data": {
      "image/png": "[encoded data removed]",
      "text/plain": [
       "<Figure size 864x720 with 1 Axes>"
      ]
     },
     "metadata": {
      "needs_background": "light"
     },
     "output_type": "display_data"
    },
    {
     "name": "stdout",
     "output_type": "stream",
     "text": [
      "Percentage of Null values in Dataset:\n"
     ]
    },
    {
     "data": {
      "text/plain": [
       "EN.ATM.GHGT.KT.CE    0.0\n",
       "EN.ATM.METH.KT.CE    0.0\n",
       "EN.ATM.NOXE.KT.CE    0.0\n",
       "dtype: float64"
      ]
     },
     "metadata": {},
     "output_type": "display_data"
    },
    {
     "name": "stdout",
     "output_type": "stream",
     "text": [
      "Year = 2007\n"
     ]
    },
    {
     "data": {
      "text/plain": [
       "EN.ATM.GHGT.KT.CE    0.0\n",
       "EN.ATM.METH.KT.CE    0.0\n",
       "EN.ATM.NOXE.KT.CE    0.0\n",
       "dtype: float64"
      ]
     },
     "metadata": {},
     "output_type": "display_data"
    },
    {
     "name": "stdout",
     "output_type": "stream",
     "text": [
      "Year = 2008\n"
     ]
    },
    {
     "data": {
      "text/plain": [
       "EN.ATM.GHGT.KT.CE    0.0\n",
       "EN.ATM.METH.KT.CE    0.0\n",
       "EN.ATM.NOXE.KT.CE    0.0\n",
       "dtype: float64"
      ]
     },
     "metadata": {},
     "output_type": "display_data"
    },
    {
     "name": "stdout",
     "output_type": "stream",
     "text": [
      "Year = 2009\n"
     ]
    },
    {
     "data": {
      "text/plain": [
       "EN.ATM.GHGT.KT.CE    0.0\n",
       "EN.ATM.METH.KT.CE    0.0\n",
       "EN.ATM.NOXE.KT.CE    0.0\n",
       "dtype: float64"
      ]
     },
     "metadata": {},
     "output_type": "display_data"
    },
    {
     "name": "stdout",
     "output_type": "stream",
     "text": [
      "Year = 2010\n"
     ]
    },
    {
     "data": {
      "text/plain": [
       "EN.ATM.GHGT.KT.CE    0.0\n",
       "EN.ATM.METH.KT.CE    0.0\n",
       "EN.ATM.NOXE.KT.CE    0.0\n",
       "dtype: float64"
      ]
     },
     "metadata": {},
     "output_type": "display_data"
    },
    {
     "name": "stdout",
     "output_type": "stream",
     "text": [
      "Year = 2011\n"
     ]
    },
    {
     "data": {
      "text/plain": [
       "EN.ATM.GHGT.KT.CE    0.0\n",
       "EN.ATM.METH.KT.CE    0.0\n",
       "EN.ATM.NOXE.KT.CE    0.0\n",
       "dtype: float64"
      ]
     },
     "metadata": {},
     "output_type": "display_data"
    },
    {
     "name": "stdout",
     "output_type": "stream",
     "text": [
      "Year = 2012\n"
     ]
    },
    {
     "data": {
      "text/plain": [
       "EN.ATM.GHGT.KT.CE    0.0\n",
       "EN.ATM.METH.KT.CE    0.0\n",
       "EN.ATM.NOXE.KT.CE    0.0\n",
       "dtype: float64"
      ]
     },
     "metadata": {},
     "output_type": "display_data"
    },
    {
     "name": "stdout",
     "output_type": "stream",
     "text": [
      "Year = 2013\n"
     ]
    },
    {
     "data": {
      "text/plain": [
       "EN.ATM.GHGT.KT.CE    0.0\n",
       "EN.ATM.METH.KT.CE    0.0\n",
       "EN.ATM.NOXE.KT.CE    0.0\n",
       "dtype: float64"
      ]
     },
     "metadata": {},
     "output_type": "display_data"
    },
    {
     "name": "stdout",
     "output_type": "stream",
     "text": [
      "Year = 2014\n"
     ]
    },
    {
     "data": {
      "text/plain": [
       "EN.ATM.GHGT.KT.CE    0.0\n",
       "EN.ATM.METH.KT.CE    0.0\n",
       "EN.ATM.NOXE.KT.CE    0.0\n",
       "dtype: float64"
      ]
     },
     "metadata": {},
     "output_type": "display_data"
    },
    {
     "name": "stdout",
     "output_type": "stream",
     "text": [
      "Year = 2015\n"
     ]
    },
    {
     "data": {
      "text/plain": [
       "EN.ATM.GHGT.KT.CE    0.0\n",
       "EN.ATM.METH.KT.CE    0.0\n",
       "EN.ATM.NOXE.KT.CE    0.0\n",
       "dtype: float64"
      ]
     },
     "metadata": {},
     "output_type": "display_data"
    },
    {
     "name": "stdout",
     "output_type": "stream",
     "text": [
      "Year = 2016\n"
     ]
    },
    {
     "data": {
      "text/plain": [
       "EN.ATM.GHGT.KT.CE    0.0\n",
       "EN.ATM.METH.KT.CE    0.0\n",
       "EN.ATM.NOXE.KT.CE    0.0\n",
       "dtype: float64"
      ]
     },
     "metadata": {},
     "output_type": "display_data"
    },
    {
     "name": "stdout",
     "output_type": "stream",
     "text": [
      "Year = 2017\n"
     ]
    },
    {
     "data": {
      "text/plain": [
       "EN.ATM.GHGT.KT.CE    0.0\n",
       "EN.ATM.METH.KT.CE    0.0\n",
       "EN.ATM.NOXE.KT.CE    0.0\n",
       "dtype: float64"
      ]
     },
     "metadata": {},
     "output_type": "display_data"
    },
    {
     "name": "stdout",
     "output_type": "stream",
     "text": [
      "Year = 2018\n"
     ]
    },
    {
     "data": {
      "text/plain": [
       "EN.ATM.GHGT.KT.CE    0.0\n",
       "EN.ATM.METH.KT.CE    0.0\n",
       "EN.ATM.NOXE.KT.CE    0.0\n",
       "dtype: float64"
      ]
     },
     "metadata": {},
     "output_type": "display_data"
    },
    {
     "name": "stdout",
     "output_type": "stream",
     "text": [
      "Year = 2019\n"
     ]
    },
    {
     "data": {
      "text/plain": [
       "EN.ATM.GHGT.KT.CE    0.0\n",
       "EN.ATM.METH.KT.CE    0.0\n",
       "EN.ATM.NOXE.KT.CE    0.0\n",
       "dtype: float64"
      ]
     },
     "metadata": {},
     "output_type": "display_data"
    }
   ],
   "source": [
    "othergas_df = othergas_df[['Country','Year','EN.ATM.GHGT.KT.CE', 'EN.ATM.METH.KT.CE', 'EN.ATM.NOXE.KT.CE']]\n",
    "othergas_df = othergas_df[othergas_df['Country'].isin(countries_list)]\n",
    "visualize_nulls(othergas_df)"
   ]
  },
  {
   "cell_type": "markdown",
   "metadata": {},
   "source": [
    "### Climate Change/Pollution Indicators Summary\n",
    "\n",
    "Based on the above datasets, we can take the following countries:\n",
    "* United States\n",
    "* China\n",
    "* India\n",
    "* Russia\n",
    "* Japan\n",
    "\n",
    "These countries are large in terms of land area and population to have significant impact to the environment for us to look into further.\n",
    "\n",
    "On the other hand, we can take the gas emissions data (CO2, GHG, Methane, Nitrous Oxide) and check them against developement indicators:\n",
    "\n",
    "| Dataset | Series Code | Series Description/Name |\n",
    "| --- | --- | --- |\n",
    "|CO2| EN.ATM.CO2E.KT | CO2 emissions (kt)|\n",
    "|Other Gas | EN.ATM.GHGT.KT.CE | Total greenhouse gas emissions (kt of CO2 equivalent) |\n",
    "|Other Gas | EN.ATM.METH.KT.CE | Methane emissions (kt of CO2 equivalent)|\n",
    "|Other Gas | EN.ATM.NOXE.KT.CE | Nitrous oxide emissions (thousand metric tons of CO2 equivalent)|"
   ]
  },
  {
   "cell_type": "markdown",
   "metadata": {},
   "source": [
    "## World Development Indicators"
   ]
  },
  {
   "cell_type": "markdown",
   "metadata": {},
   "source": [
    "We check the available data in the World Development Indicators datasets for the countries determined earlier."
   ]
  },
  {
   "cell_type": "markdown",
   "metadata": {},
   "source": [
    "### GDP"
   ]
  },
  {
   "cell_type": "markdown",
   "metadata": {},
   "source": [
    "#### Loading and checking the dataset"
   ]
  },
  {
   "cell_type": "code",
   "execution_count": 125,
   "metadata": {},
   "outputs": [],
   "source": [
    "gdp_descdf, gdp_df = world_bank_file_to_df('../../01_DataSources/01_Raw/World_Bank_GDP_World_Development_Indicators/World_Bank_GDP_World_Development_Indicators_Data.csv')"
   ]
  },
  {
   "cell_type": "code",
   "execution_count": 126,
   "metadata": {},
   "outputs": [],
   "source": [
    "gdp_df = gdp_df[gdp_df['Country'].isin(countries_list)]"
   ]
  },
  {
   "cell_type": "code",
   "execution_count": 127,
   "metadata": {},
   "outputs": [
    {
     "data": {
      "text/html": [
       "<div>\n",
       "<style scoped>\n",
       "    .dataframe tbody tr th:only-of-type {\n",
       "        vertical-align: middle;\n",
       "    }\n",
       "\n",
       "    .dataframe tbody tr th {\n",
       "        vertical-align: top;\n",
       "    }\n",
       "\n",
       "    .dataframe thead th {\n",
       "        text-align: right;\n",
       "    }\n",
       "</style>\n",
       "<table border=\"1\" class=\"dataframe\">\n",
       "  <thead>\n",
       "    <tr style=\"text-align: right;\">\n",
       "      <th></th>\n",
       "      <th>Series Code</th>\n",
       "      <th>Series Name</th>\n",
       "    </tr>\n",
       "  </thead>\n",
       "  <tbody>\n",
       "    <tr>\n",
       "      <th>0</th>\n",
       "      <td>NY.GDP.MKTP.CD</td>\n",
       "      <td>GDP (current US$)</td>\n",
       "    </tr>\n",
       "    <tr>\n",
       "      <th>3</th>\n",
       "      <td>NY.GDP.MKTP.KD.ZG</td>\n",
       "      <td>GDP growth (annual %)</td>\n",
       "    </tr>\n",
       "    <tr>\n",
       "      <th>1</th>\n",
       "      <td>NY.GDP.PCAP.CD</td>\n",
       "      <td>GDP per capita (current US$)</td>\n",
       "    </tr>\n",
       "    <tr>\n",
       "      <th>2</th>\n",
       "      <td>NY.GDP.PCAP.KD.ZG</td>\n",
       "      <td>GDP per capita growth (annual %)</td>\n",
       "    </tr>\n",
       "  </tbody>\n",
       "</table>\n",
       "</div>"
      ],
      "text/plain": [
       "         Series Code                       Series Name\n",
       "0     NY.GDP.MKTP.CD                 GDP (current US$)\n",
       "3  NY.GDP.MKTP.KD.ZG             GDP growth (annual %)\n",
       "1     NY.GDP.PCAP.CD      GDP per capita (current US$)\n",
       "2  NY.GDP.PCAP.KD.ZG  GDP per capita growth (annual %)"
      ]
     },
     "metadata": {},
     "output_type": "display_data"
    }
   ],
   "source": [
    "display(gdp_descdf.sort_values('Series Code'))"
   ]
  },
  {
   "cell_type": "code",
   "execution_count": 128,
   "metadata": {},
   "outputs": [
    {
     "data": {
      "image/png": "[encoded data removed]",
      "text/plain": [
       "<Figure size 864x720 with 1 Axes>"
      ]
     },
     "metadata": {
      "needs_background": "light"
     },
     "output_type": "display_data"
    },
    {
     "name": "stdout",
     "output_type": "stream",
     "text": [
      "Percentage of Null values in Dataset:\n"
     ]
    },
    {
     "data": {
      "text/plain": [
       "NY.GDP.MKTP.CD       0.000000\n",
       "NY.GDP.MKTP.KD.ZG    0.000000\n",
       "NY.GDP.PCAP.CD       0.000000\n",
       "NY.GDP.PCAP.KD.ZG    1.333333\n",
       "dtype: float64"
      ]
     },
     "metadata": {},
     "output_type": "display_data"
    },
    {
     "name": "stdout",
     "output_type": "stream",
     "text": [
      "Year = 2007\n"
     ]
    },
    {
     "data": {
      "text/plain": [
       "NY.GDP.MKTP.CD       0.0\n",
       "NY.GDP.MKTP.KD.ZG    0.0\n",
       "NY.GDP.PCAP.CD       0.0\n",
       "NY.GDP.PCAP.KD.ZG    0.0\n",
       "dtype: float64"
      ]
     },
     "metadata": {},
     "output_type": "display_data"
    },
    {
     "name": "stdout",
     "output_type": "stream",
     "text": [
      "Year = 2008\n"
     ]
    },
    {
     "data": {
      "text/plain": [
       "NY.GDP.MKTP.CD       0.0\n",
       "NY.GDP.MKTP.KD.ZG    0.0\n",
       "NY.GDP.PCAP.CD       0.0\n",
       "NY.GDP.PCAP.KD.ZG    0.0\n",
       "dtype: float64"
      ]
     },
     "metadata": {},
     "output_type": "display_data"
    },
    {
     "name": "stdout",
     "output_type": "stream",
     "text": [
      "Year = 2009\n"
     ]
    },
    {
     "data": {
      "text/plain": [
       "NY.GDP.MKTP.CD       0.0\n",
       "NY.GDP.MKTP.KD.ZG    0.0\n",
       "NY.GDP.PCAP.CD       0.0\n",
       "NY.GDP.PCAP.KD.ZG    0.0\n",
       "dtype: float64"
      ]
     },
     "metadata": {},
     "output_type": "display_data"
    },
    {
     "name": "stdout",
     "output_type": "stream",
     "text": [
      "Year = 2010\n"
     ]
    },
    {
     "data": {
      "text/plain": [
       "NY.GDP.MKTP.CD       0.0\n",
       "NY.GDP.MKTP.KD.ZG    0.0\n",
       "NY.GDP.PCAP.CD       0.0\n",
       "NY.GDP.PCAP.KD.ZG    0.0\n",
       "dtype: float64"
      ]
     },
     "metadata": {},
     "output_type": "display_data"
    },
    {
     "name": "stdout",
     "output_type": "stream",
     "text": [
      "Year = 2011\n"
     ]
    },
    {
     "data": {
      "text/plain": [
       "NY.GDP.MKTP.CD       0.0\n",
       "NY.GDP.MKTP.KD.ZG    0.0\n",
       "NY.GDP.PCAP.CD       0.0\n",
       "NY.GDP.PCAP.KD.ZG    0.0\n",
       "dtype: float64"
      ]
     },
     "metadata": {},
     "output_type": "display_data"
    },
    {
     "name": "stdout",
     "output_type": "stream",
     "text": [
      "Year = 2012\n"
     ]
    },
    {
     "data": {
      "text/plain": [
       "NY.GDP.MKTP.CD       0.0\n",
       "NY.GDP.MKTP.KD.ZG    0.0\n",
       "NY.GDP.PCAP.CD       0.0\n",
       "NY.GDP.PCAP.KD.ZG    0.0\n",
       "dtype: float64"
      ]
     },
     "metadata": {},
     "output_type": "display_data"
    },
    {
     "name": "stdout",
     "output_type": "stream",
     "text": [
      "Year = 2013\n"
     ]
    },
    {
     "data": {
      "text/plain": [
       "NY.GDP.MKTP.CD       0.0\n",
       "NY.GDP.MKTP.KD.ZG    0.0\n",
       "NY.GDP.PCAP.CD       0.0\n",
       "NY.GDP.PCAP.KD.ZG    0.0\n",
       "dtype: float64"
      ]
     },
     "metadata": {},
     "output_type": "display_data"
    },
    {
     "name": "stdout",
     "output_type": "stream",
     "text": [
      "Year = 2014\n"
     ]
    },
    {
     "data": {
      "text/plain": [
       "NY.GDP.MKTP.CD       0.0\n",
       "NY.GDP.MKTP.KD.ZG    0.0\n",
       "NY.GDP.PCAP.CD       0.0\n",
       "NY.GDP.PCAP.KD.ZG    0.0\n",
       "dtype: float64"
      ]
     },
     "metadata": {},
     "output_type": "display_data"
    },
    {
     "name": "stdout",
     "output_type": "stream",
     "text": [
      "Year = 2015\n"
     ]
    },
    {
     "data": {
      "text/plain": [
       "NY.GDP.MKTP.CD       0.0\n",
       "NY.GDP.MKTP.KD.ZG    0.0\n",
       "NY.GDP.PCAP.CD       0.0\n",
       "NY.GDP.PCAP.KD.ZG    0.0\n",
       "dtype: float64"
      ]
     },
     "metadata": {},
     "output_type": "display_data"
    },
    {
     "name": "stdout",
     "output_type": "stream",
     "text": [
      "Year = 2016\n"
     ]
    },
    {
     "data": {
      "text/plain": [
       "NY.GDP.MKTP.CD       0.0\n",
       "NY.GDP.MKTP.KD.ZG    0.0\n",
       "NY.GDP.PCAP.CD       0.0\n",
       "NY.GDP.PCAP.KD.ZG    0.0\n",
       "dtype: float64"
      ]
     },
     "metadata": {},
     "output_type": "display_data"
    },
    {
     "name": "stdout",
     "output_type": "stream",
     "text": [
      "Year = 2017\n"
     ]
    },
    {
     "data": {
      "text/plain": [
       "NY.GDP.MKTP.CD       0.0\n",
       "NY.GDP.MKTP.KD.ZG    0.0\n",
       "NY.GDP.PCAP.CD       0.0\n",
       "NY.GDP.PCAP.KD.ZG    0.0\n",
       "dtype: float64"
      ]
     },
     "metadata": {},
     "output_type": "display_data"
    },
    {
     "name": "stdout",
     "output_type": "stream",
     "text": [
      "Year = 2018\n"
     ]
    },
    {
     "data": {
      "text/plain": [
       "NY.GDP.MKTP.CD       0.0\n",
       "NY.GDP.MKTP.KD.ZG    0.0\n",
       "NY.GDP.PCAP.CD       0.0\n",
       "NY.GDP.PCAP.KD.ZG    0.0\n",
       "dtype: float64"
      ]
     },
     "metadata": {},
     "output_type": "display_data"
    },
    {
     "name": "stdout",
     "output_type": "stream",
     "text": [
      "Year = 2019\n"
     ]
    },
    {
     "data": {
      "text/plain": [
       "NY.GDP.MKTP.CD       0.0\n",
       "NY.GDP.MKTP.KD.ZG    0.0\n",
       "NY.GDP.PCAP.CD       0.0\n",
       "NY.GDP.PCAP.KD.ZG    0.0\n",
       "dtype: float64"
      ]
     },
     "metadata": {},
     "output_type": "display_data"
    },
    {
     "name": "stdout",
     "output_type": "stream",
     "text": [
      "Year = 2020\n"
     ]
    },
    {
     "data": {
      "text/plain": [
       "NY.GDP.MKTP.CD       0.0\n",
       "NY.GDP.MKTP.KD.ZG    0.0\n",
       "NY.GDP.PCAP.CD       0.0\n",
       "NY.GDP.PCAP.KD.ZG    0.0\n",
       "dtype: float64"
      ]
     },
     "metadata": {},
     "output_type": "display_data"
    },
    {
     "name": "stdout",
     "output_type": "stream",
     "text": [
      "Year = 2021\n"
     ]
    },
    {
     "data": {
      "text/plain": [
       "NY.GDP.MKTP.CD        0.0\n",
       "NY.GDP.MKTP.KD.ZG     0.0\n",
       "NY.GDP.PCAP.CD        0.0\n",
       "NY.GDP.PCAP.KD.ZG    20.0\n",
       "dtype: float64"
      ]
     },
     "metadata": {},
     "output_type": "display_data"
    }
   ],
   "source": [
    "visualize_nulls(gdp_df)"
   ]
  },
  {
   "cell_type": "markdown",
   "metadata": {},
   "source": [
    "#### GDP Dataset Findings\n",
    "\n",
    "We can use the GDP annual growth indicators for the given countries."
   ]
  },
  {
   "cell_type": "markdown",
   "metadata": {},
   "source": [
    "### Land Use"
   ]
  },
  {
   "cell_type": "markdown",
   "metadata": {},
   "source": [
    "#### Loading and checking the dataset"
   ]
  },
  {
   "cell_type": "code",
   "execution_count": 129,
   "metadata": {},
   "outputs": [],
   "source": [
    "landuse_descdf, landuse_df = world_bank_file_to_df('../../01_DataSources/01_Raw/World_Bank_LandUse_World_Development_Indicators/World_Bank_LandUse_World_Development_Indicators_Data.csv')"
   ]
  },
  {
   "cell_type": "code",
   "execution_count": 130,
   "metadata": {},
   "outputs": [],
   "source": [
    "landuse_df = landuse_df[landuse_df['Country'].isin(countries_list)]"
   ]
  },
  {
   "cell_type": "code",
   "execution_count": 131,
   "metadata": {},
   "outputs": [
    {
     "data": {
      "text/html": [
       "<div>\n",
       "<style scoped>\n",
       "    .dataframe tbody tr th:only-of-type {\n",
       "        vertical-align: middle;\n",
       "    }\n",
       "\n",
       "    .dataframe tbody tr th {\n",
       "        vertical-align: top;\n",
       "    }\n",
       "\n",
       "    .dataframe thead th {\n",
       "        text-align: right;\n",
       "    }\n",
       "</style>\n",
       "<table border=\"1\" class=\"dataframe\">\n",
       "  <thead>\n",
       "    <tr style=\"text-align: right;\">\n",
       "      <th></th>\n",
       "      <th>Series Code</th>\n",
       "      <th>Series Name</th>\n",
       "    </tr>\n",
       "  </thead>\n",
       "  <tbody>\n",
       "    <tr>\n",
       "      <th>7</th>\n",
       "      <td>AG.LND.AGRI.K2</td>\n",
       "      <td>Agricultural land (sq. km)</td>\n",
       "    </tr>\n",
       "    <tr>\n",
       "      <th>8</th>\n",
       "      <td>AG.LND.AGRI.ZS</td>\n",
       "      <td>Agricultural land (% of land area)</td>\n",
       "    </tr>\n",
       "    <tr>\n",
       "      <th>10</th>\n",
       "      <td>AG.LND.EL5M.RU.K2</td>\n",
       "      <td>Rural land area where elevation is below 5 meters (sq. km)</td>\n",
       "    </tr>\n",
       "    <tr>\n",
       "      <th>6</th>\n",
       "      <td>AG.LND.EL5M.RU.ZS</td>\n",
       "      <td>Rural land area where elevation is below 5 meters (% of total land area)</td>\n",
       "    </tr>\n",
       "    <tr>\n",
       "      <th>5</th>\n",
       "      <td>AG.LND.EL5M.UR.K2</td>\n",
       "      <td>Urban land area where elevation is below 5 meters (sq. km)</td>\n",
       "    </tr>\n",
       "    <tr>\n",
       "      <th>9</th>\n",
       "      <td>AG.LND.EL5M.UR.ZS</td>\n",
       "      <td>Urban land area where elevation is below 5 meters (% of total land area)</td>\n",
       "    </tr>\n",
       "    <tr>\n",
       "      <th>0</th>\n",
       "      <td>AG.LND.FRST.K2</td>\n",
       "      <td>Forest area (sq. km)</td>\n",
       "    </tr>\n",
       "    <tr>\n",
       "      <th>1</th>\n",
       "      <td>AG.LND.FRST.ZS</td>\n",
       "      <td>Forest area (% of land area)</td>\n",
       "    </tr>\n",
       "    <tr>\n",
       "      <th>2</th>\n",
       "      <td>AG.LND.PRCP.MM</td>\n",
       "      <td>Average precipitation in depth (mm per year)</td>\n",
       "    </tr>\n",
       "    <tr>\n",
       "      <th>3</th>\n",
       "      <td>AG.LND.TOTL.RU.K2</td>\n",
       "      <td>Rural land area (sq. km)</td>\n",
       "    </tr>\n",
       "    <tr>\n",
       "      <th>4</th>\n",
       "      <td>AG.LND.TOTL.UR.K2</td>\n",
       "      <td>Urban land area (sq. km)</td>\n",
       "    </tr>\n",
       "  </tbody>\n",
       "</table>\n",
       "</div>"
      ],
      "text/plain": [
       "          Series Code  \\\n",
       "7      AG.LND.AGRI.K2   \n",
       "8      AG.LND.AGRI.ZS   \n",
       "10  AG.LND.EL5M.RU.K2   \n",
       "6   AG.LND.EL5M.RU.ZS   \n",
       "5   AG.LND.EL5M.UR.K2   \n",
       "9   AG.LND.EL5M.UR.ZS   \n",
       "0      AG.LND.FRST.K2   \n",
       "1      AG.LND.FRST.ZS   \n",
       "2      AG.LND.PRCP.MM   \n",
       "3   AG.LND.TOTL.RU.K2   \n",
       "4   AG.LND.TOTL.UR.K2   \n",
       "\n",
       "                                                                 Series Name  \n",
       "7                                                 Agricultural land (sq. km)  \n",
       "8                                         Agricultural land (% of land area)  \n",
       "10                Rural land area where elevation is below 5 meters (sq. km)  \n",
       "6   Rural land area where elevation is below 5 meters (% of total land area)  \n",
       "5                 Urban land area where elevation is below 5 meters (sq. km)  \n",
       "9   Urban land area where elevation is below 5 meters (% of total land area)  \n",
       "0                                                       Forest area (sq. km)  \n",
       "1                                               Forest area (% of land area)  \n",
       "2                               Average precipitation in depth (mm per year)  \n",
       "3                                                   Rural land area (sq. km)  \n",
       "4                                                   Urban land area (sq. km)  "
      ]
     },
     "metadata": {},
     "output_type": "display_data"
    }
   ],
   "source": [
    "display(landuse_descdf.sort_values('Series Code'))"
   ]
  },
  {
   "cell_type": "code",
   "execution_count": 132,
   "metadata": {},
   "outputs": [
    {
     "data": {
      "image/png": "[encoded data removed]",
      "text/plain": [
       "<Figure size 864x720 with 1 Axes>"
      ]
     },
     "metadata": {
      "needs_background": "light"
     },
     "output_type": "display_data"
    },
    {
     "name": "stdout",
     "output_type": "stream",
     "text": [
      "Percentage of Null values in Dataset:\n"
     ]
    },
    {
     "data": {
      "text/plain": [
       "AG.LND.AGRI.K2       20.000000\n",
       "AG.LND.AGRI.ZS       20.000000\n",
       "AG.LND.EL5M.RU.K2    93.333333\n",
       "AG.LND.EL5M.RU.ZS    93.333333\n",
       "AG.LND.EL5M.UR.K2    93.333333\n",
       "AG.LND.EL5M.UR.ZS    93.333333\n",
       "AG.LND.FRST.K2        6.666667\n",
       "AG.LND.FRST.ZS        6.666667\n",
       "AG.LND.PRCP.MM       80.000000\n",
       "AG.LND.TOTL.RU.K2    93.333333\n",
       "AG.LND.TOTL.UR.K2    93.333333\n",
       "dtype: float64"
      ]
     },
     "metadata": {},
     "output_type": "display_data"
    },
    {
     "name": "stdout",
     "output_type": "stream",
     "text": [
      "Year = 2007\n"
     ]
    },
    {
     "data": {
      "text/plain": [
       "AG.LND.AGRI.K2         0.0\n",
       "AG.LND.AGRI.ZS         0.0\n",
       "AG.LND.EL5M.RU.K2    100.0\n",
       "AG.LND.EL5M.RU.ZS    100.0\n",
       "AG.LND.EL5M.UR.K2    100.0\n",
       "AG.LND.EL5M.UR.ZS    100.0\n",
       "AG.LND.FRST.K2         0.0\n",
       "AG.LND.FRST.ZS         0.0\n",
       "AG.LND.PRCP.MM         0.0\n",
       "AG.LND.TOTL.RU.K2    100.0\n",
       "AG.LND.TOTL.UR.K2    100.0\n",
       "dtype: float64"
      ]
     },
     "metadata": {},
     "output_type": "display_data"
    },
    {
     "name": "stdout",
     "output_type": "stream",
     "text": [
      "Year = 2008\n"
     ]
    },
    {
     "data": {
      "text/plain": [
       "AG.LND.AGRI.K2         0.0\n",
       "AG.LND.AGRI.ZS         0.0\n",
       "AG.LND.EL5M.RU.K2    100.0\n",
       "AG.LND.EL5M.RU.ZS    100.0\n",
       "AG.LND.EL5M.UR.K2    100.0\n",
       "AG.LND.EL5M.UR.ZS    100.0\n",
       "AG.LND.FRST.K2         0.0\n",
       "AG.LND.FRST.ZS         0.0\n",
       "AG.LND.PRCP.MM       100.0\n",
       "AG.LND.TOTL.RU.K2    100.0\n",
       "AG.LND.TOTL.UR.K2    100.0\n",
       "dtype: float64"
      ]
     },
     "metadata": {},
     "output_type": "display_data"
    },
    {
     "name": "stdout",
     "output_type": "stream",
     "text": [
      "Year = 2009\n"
     ]
    },
    {
     "data": {
      "text/plain": [
       "AG.LND.AGRI.K2         0.0\n",
       "AG.LND.AGRI.ZS         0.0\n",
       "AG.LND.EL5M.RU.K2    100.0\n",
       "AG.LND.EL5M.RU.ZS    100.0\n",
       "AG.LND.EL5M.UR.K2    100.0\n",
       "AG.LND.EL5M.UR.ZS    100.0\n",
       "AG.LND.FRST.K2         0.0\n",
       "AG.LND.FRST.ZS         0.0\n",
       "AG.LND.PRCP.MM       100.0\n",
       "AG.LND.TOTL.RU.K2    100.0\n",
       "AG.LND.TOTL.UR.K2    100.0\n",
       "dtype: float64"
      ]
     },
     "metadata": {},
     "output_type": "display_data"
    },
    {
     "name": "stdout",
     "output_type": "stream",
     "text": [
      "Year = 2010\n"
     ]
    },
    {
     "data": {
      "text/plain": [
       "AG.LND.AGRI.K2         0.0\n",
       "AG.LND.AGRI.ZS         0.0\n",
       "AG.LND.EL5M.RU.K2      0.0\n",
       "AG.LND.EL5M.RU.ZS      0.0\n",
       "AG.LND.EL5M.UR.K2      0.0\n",
       "AG.LND.EL5M.UR.ZS      0.0\n",
       "AG.LND.FRST.K2         0.0\n",
       "AG.LND.FRST.ZS         0.0\n",
       "AG.LND.PRCP.MM       100.0\n",
       "AG.LND.TOTL.RU.K2      0.0\n",
       "AG.LND.TOTL.UR.K2      0.0\n",
       "dtype: float64"
      ]
     },
     "metadata": {},
     "output_type": "display_data"
    },
    {
     "name": "stdout",
     "output_type": "stream",
     "text": [
      "Year = 2011\n"
     ]
    },
    {
     "data": {
      "text/plain": [
       "AG.LND.AGRI.K2         0.0\n",
       "AG.LND.AGRI.ZS         0.0\n",
       "AG.LND.EL5M.RU.K2    100.0\n",
       "AG.LND.EL5M.RU.ZS    100.0\n",
       "AG.LND.EL5M.UR.K2    100.0\n",
       "AG.LND.EL5M.UR.ZS    100.0\n",
       "AG.LND.FRST.K2         0.0\n",
       "AG.LND.FRST.ZS         0.0\n",
       "AG.LND.PRCP.MM       100.0\n",
       "AG.LND.TOTL.RU.K2    100.0\n",
       "AG.LND.TOTL.UR.K2    100.0\n",
       "dtype: float64"
      ]
     },
     "metadata": {},
     "output_type": "display_data"
    },
    {
     "name": "stdout",
     "output_type": "stream",
     "text": [
      "Year = 2012\n"
     ]
    },
    {
     "data": {
      "text/plain": [
       "AG.LND.AGRI.K2         0.0\n",
       "AG.LND.AGRI.ZS         0.0\n",
       "AG.LND.EL5M.RU.K2    100.0\n",
       "AG.LND.EL5M.RU.ZS    100.0\n",
       "AG.LND.EL5M.UR.K2    100.0\n",
       "AG.LND.EL5M.UR.ZS    100.0\n",
       "AG.LND.FRST.K2         0.0\n",
       "AG.LND.FRST.ZS         0.0\n",
       "AG.LND.PRCP.MM         0.0\n",
       "AG.LND.TOTL.RU.K2    100.0\n",
       "AG.LND.TOTL.UR.K2    100.0\n",
       "dtype: float64"
      ]
     },
     "metadata": {},
     "output_type": "display_data"
    },
    {
     "name": "stdout",
     "output_type": "stream",
     "text": [
      "Year = 2013\n"
     ]
    },
    {
     "data": {
      "text/plain": [
       "AG.LND.AGRI.K2         0.0\n",
       "AG.LND.AGRI.ZS         0.0\n",
       "AG.LND.EL5M.RU.K2    100.0\n",
       "AG.LND.EL5M.RU.ZS    100.0\n",
       "AG.LND.EL5M.UR.K2    100.0\n",
       "AG.LND.EL5M.UR.ZS    100.0\n",
       "AG.LND.FRST.K2         0.0\n",
       "AG.LND.FRST.ZS         0.0\n",
       "AG.LND.PRCP.MM       100.0\n",
       "AG.LND.TOTL.RU.K2    100.0\n",
       "AG.LND.TOTL.UR.K2    100.0\n",
       "dtype: float64"
      ]
     },
     "metadata": {},
     "output_type": "display_data"
    },
    {
     "name": "stdout",
     "output_type": "stream",
     "text": [
      "Year = 2014\n"
     ]
    },
    {
     "data": {
      "text/plain": [
       "AG.LND.AGRI.K2         0.0\n",
       "AG.LND.AGRI.ZS         0.0\n",
       "AG.LND.EL5M.RU.K2    100.0\n",
       "AG.LND.EL5M.RU.ZS    100.0\n",
       "AG.LND.EL5M.UR.K2    100.0\n",
       "AG.LND.EL5M.UR.ZS    100.0\n",
       "AG.LND.FRST.K2         0.0\n",
       "AG.LND.FRST.ZS         0.0\n",
       "AG.LND.PRCP.MM       100.0\n",
       "AG.LND.TOTL.RU.K2    100.0\n",
       "AG.LND.TOTL.UR.K2    100.0\n",
       "dtype: float64"
      ]
     },
     "metadata": {},
     "output_type": "display_data"
    },
    {
     "name": "stdout",
     "output_type": "stream",
     "text": [
      "Year = 2015\n"
     ]
    },
    {
     "data": {
      "text/plain": [
       "AG.LND.AGRI.K2         0.0\n",
       "AG.LND.AGRI.ZS         0.0\n",
       "AG.LND.EL5M.RU.K2    100.0\n",
       "AG.LND.EL5M.RU.ZS    100.0\n",
       "AG.LND.EL5M.UR.K2    100.0\n",
       "AG.LND.EL5M.UR.ZS    100.0\n",
       "AG.LND.FRST.K2         0.0\n",
       "AG.LND.FRST.ZS         0.0\n",
       "AG.LND.PRCP.MM       100.0\n",
       "AG.LND.TOTL.RU.K2    100.0\n",
       "AG.LND.TOTL.UR.K2    100.0\n",
       "dtype: float64"
      ]
     },
     "metadata": {},
     "output_type": "display_data"
    },
    {
     "name": "stdout",
     "output_type": "stream",
     "text": [
      "Year = 2016\n"
     ]
    },
    {
     "data": {
      "text/plain": [
       "AG.LND.AGRI.K2         0.0\n",
       "AG.LND.AGRI.ZS         0.0\n",
       "AG.LND.EL5M.RU.K2    100.0\n",
       "AG.LND.EL5M.RU.ZS    100.0\n",
       "AG.LND.EL5M.UR.K2    100.0\n",
       "AG.LND.EL5M.UR.ZS    100.0\n",
       "AG.LND.FRST.K2         0.0\n",
       "AG.LND.FRST.ZS         0.0\n",
       "AG.LND.PRCP.MM       100.0\n",
       "AG.LND.TOTL.RU.K2    100.0\n",
       "AG.LND.TOTL.UR.K2    100.0\n",
       "dtype: float64"
      ]
     },
     "metadata": {},
     "output_type": "display_data"
    },
    {
     "name": "stdout",
     "output_type": "stream",
     "text": [
      "Year = 2017\n"
     ]
    },
    {
     "data": {
      "text/plain": [
       "AG.LND.AGRI.K2         0.0\n",
       "AG.LND.AGRI.ZS         0.0\n",
       "AG.LND.EL5M.RU.K2    100.0\n",
       "AG.LND.EL5M.RU.ZS    100.0\n",
       "AG.LND.EL5M.UR.K2    100.0\n",
       "AG.LND.EL5M.UR.ZS    100.0\n",
       "AG.LND.FRST.K2         0.0\n",
       "AG.LND.FRST.ZS         0.0\n",
       "AG.LND.PRCP.MM         0.0\n",
       "AG.LND.TOTL.RU.K2    100.0\n",
       "AG.LND.TOTL.UR.K2    100.0\n",
       "dtype: float64"
      ]
     },
     "metadata": {},
     "output_type": "display_data"
    },
    {
     "name": "stdout",
     "output_type": "stream",
     "text": [
      "Year = 2018\n"
     ]
    },
    {
     "data": {
      "text/plain": [
       "AG.LND.AGRI.K2         0.0\n",
       "AG.LND.AGRI.ZS         0.0\n",
       "AG.LND.EL5M.RU.K2    100.0\n",
       "AG.LND.EL5M.RU.ZS    100.0\n",
       "AG.LND.EL5M.UR.K2    100.0\n",
       "AG.LND.EL5M.UR.ZS    100.0\n",
       "AG.LND.FRST.K2         0.0\n",
       "AG.LND.FRST.ZS         0.0\n",
       "AG.LND.PRCP.MM       100.0\n",
       "AG.LND.TOTL.RU.K2    100.0\n",
       "AG.LND.TOTL.UR.K2    100.0\n",
       "dtype: float64"
      ]
     },
     "metadata": {},
     "output_type": "display_data"
    },
    {
     "name": "stdout",
     "output_type": "stream",
     "text": [
      "Year = 2019\n"
     ]
    },
    {
     "data": {
      "text/plain": [
       "AG.LND.AGRI.K2       100.0\n",
       "AG.LND.AGRI.ZS       100.0\n",
       "AG.LND.EL5M.RU.K2    100.0\n",
       "AG.LND.EL5M.RU.ZS    100.0\n",
       "AG.LND.EL5M.UR.K2    100.0\n",
       "AG.LND.EL5M.UR.ZS    100.0\n",
       "AG.LND.FRST.K2         0.0\n",
       "AG.LND.FRST.ZS         0.0\n",
       "AG.LND.PRCP.MM       100.0\n",
       "AG.LND.TOTL.RU.K2    100.0\n",
       "AG.LND.TOTL.UR.K2    100.0\n",
       "dtype: float64"
      ]
     },
     "metadata": {},
     "output_type": "display_data"
    },
    {
     "name": "stdout",
     "output_type": "stream",
     "text": [
      "Year = 2020\n"
     ]
    },
    {
     "data": {
      "text/plain": [
       "AG.LND.AGRI.K2       100.0\n",
       "AG.LND.AGRI.ZS       100.0\n",
       "AG.LND.EL5M.RU.K2    100.0\n",
       "AG.LND.EL5M.RU.ZS    100.0\n",
       "AG.LND.EL5M.UR.K2    100.0\n",
       "AG.LND.EL5M.UR.ZS    100.0\n",
       "AG.LND.FRST.K2         0.0\n",
       "AG.LND.FRST.ZS         0.0\n",
       "AG.LND.PRCP.MM       100.0\n",
       "AG.LND.TOTL.RU.K2    100.0\n",
       "AG.LND.TOTL.UR.K2    100.0\n",
       "dtype: float64"
      ]
     },
     "metadata": {},
     "output_type": "display_data"
    },
    {
     "name": "stdout",
     "output_type": "stream",
     "text": [
      "Year = 2021\n"
     ]
    },
    {
     "data": {
      "text/plain": [
       "AG.LND.AGRI.K2       100.0\n",
       "AG.LND.AGRI.ZS       100.0\n",
       "AG.LND.EL5M.RU.K2    100.0\n",
       "AG.LND.EL5M.RU.ZS    100.0\n",
       "AG.LND.EL5M.UR.K2    100.0\n",
       "AG.LND.EL5M.UR.ZS    100.0\n",
       "AG.LND.FRST.K2       100.0\n",
       "AG.LND.FRST.ZS       100.0\n",
       "AG.LND.PRCP.MM       100.0\n",
       "AG.LND.TOTL.RU.K2    100.0\n",
       "AG.LND.TOTL.UR.K2    100.0\n",
       "dtype: float64"
      ]
     },
     "metadata": {},
     "output_type": "display_data"
    }
   ],
   "source": [
    "visualize_nulls(landuse_df)"
   ]
  },
  {
   "cell_type": "markdown",
   "metadata": {},
   "source": [
    "#### Land Use Dataset Findings\n",
    "\n",
    "We can use the Forest Area metrics for the given countries."
   ]
  },
  {
   "cell_type": "markdown",
   "metadata": {},
   "source": [
    "### Urbanization"
   ]
  },
  {
   "cell_type": "markdown",
   "metadata": {},
   "source": [
    "#### Loading and checking the dataset"
   ]
  },
  {
   "cell_type": "code",
   "execution_count": 133,
   "metadata": {},
   "outputs": [],
   "source": [
    "urb_descdf, urb_df = world_bank_file_to_df('../../01_DataSources/01_Raw/World_Bank_Urbanization_World_Development_Indicators/World_Bank_Urbanization_World_Development_Indicators_Data.csv')"
   ]
  },
  {
   "cell_type": "code",
   "execution_count": 134,
   "metadata": {},
   "outputs": [],
   "source": [
    "urb_df = urb_df[urb_df['Country'].isin(countries_list)]"
   ]
  },
  {
   "cell_type": "code",
   "execution_count": 135,
   "metadata": {},
   "outputs": [
    {
     "data": {
      "text/html": [
       "<div>\n",
       "<style scoped>\n",
       "    .dataframe tbody tr th:only-of-type {\n",
       "        vertical-align: middle;\n",
       "    }\n",
       "\n",
       "    .dataframe tbody tr th {\n",
       "        vertical-align: top;\n",
       "    }\n",
       "\n",
       "    .dataframe thead th {\n",
       "        text-align: right;\n",
       "    }\n",
       "</style>\n",
       "<table border=\"1\" class=\"dataframe\">\n",
       "  <thead>\n",
       "    <tr style=\"text-align: right;\">\n",
       "      <th></th>\n",
       "      <th>Series Code</th>\n",
       "      <th>Series Name</th>\n",
       "    </tr>\n",
       "  </thead>\n",
       "  <tbody>\n",
       "    <tr>\n",
       "      <th>6</th>\n",
       "      <td>SP.POP.GROW</td>\n",
       "      <td>Population growth (annual %)</td>\n",
       "    </tr>\n",
       "    <tr>\n",
       "      <th>7</th>\n",
       "      <td>SP.POP.TOTL</td>\n",
       "      <td>Population, total</td>\n",
       "    </tr>\n",
       "    <tr>\n",
       "      <th>0</th>\n",
       "      <td>SP.RUR.TOTL</td>\n",
       "      <td>Rural population</td>\n",
       "    </tr>\n",
       "    <tr>\n",
       "      <th>1</th>\n",
       "      <td>SP.RUR.TOTL.ZG</td>\n",
       "      <td>Rural population growth (annual %)</td>\n",
       "    </tr>\n",
       "    <tr>\n",
       "      <th>2</th>\n",
       "      <td>SP.RUR.TOTL.ZS</td>\n",
       "      <td>Rural population (% of total population)</td>\n",
       "    </tr>\n",
       "    <tr>\n",
       "      <th>4</th>\n",
       "      <td>SP.URB.GROW</td>\n",
       "      <td>Urban population growth (annual %)</td>\n",
       "    </tr>\n",
       "    <tr>\n",
       "      <th>3</th>\n",
       "      <td>SP.URB.TOTL</td>\n",
       "      <td>Urban population</td>\n",
       "    </tr>\n",
       "    <tr>\n",
       "      <th>5</th>\n",
       "      <td>SP.URB.TOTL.IN.ZS</td>\n",
       "      <td>Urban population (% of total population)</td>\n",
       "    </tr>\n",
       "  </tbody>\n",
       "</table>\n",
       "</div>"
      ],
      "text/plain": [
       "         Series Code                               Series Name\n",
       "6        SP.POP.GROW              Population growth (annual %)\n",
       "7        SP.POP.TOTL                         Population, total\n",
       "0        SP.RUR.TOTL                          Rural population\n",
       "1     SP.RUR.TOTL.ZG        Rural population growth (annual %)\n",
       "2     SP.RUR.TOTL.ZS  Rural population (% of total population)\n",
       "4        SP.URB.GROW        Urban population growth (annual %)\n",
       "3        SP.URB.TOTL                          Urban population\n",
       "5  SP.URB.TOTL.IN.ZS  Urban population (% of total population)"
      ]
     },
     "metadata": {},
     "output_type": "display_data"
    }
   ],
   "source": [
    "display(urb_descdf.sort_values('Series Code'))"
   ]
  },
  {
   "cell_type": "code",
   "execution_count": 136,
   "metadata": {},
   "outputs": [
    {
     "data": {
      "image/png": "[encoded data removed]",
      "text/plain": [
       "<Figure size 864x720 with 1 Axes>"
      ]
     },
     "metadata": {
      "needs_background": "light"
     },
     "output_type": "display_data"
    },
    {
     "name": "stdout",
     "output_type": "stream",
     "text": [
      "Percentage of Null values in Dataset:\n"
     ]
    },
    {
     "data": {
      "text/plain": [
       "SP.POP.GROW          0.0\n",
       "SP.POP.TOTL          0.0\n",
       "SP.RUR.TOTL          0.0\n",
       "SP.RUR.TOTL.ZG       0.0\n",
       "SP.RUR.TOTL.ZS       0.0\n",
       "SP.URB.GROW          0.0\n",
       "SP.URB.TOTL          0.0\n",
       "SP.URB.TOTL.IN.ZS    0.0\n",
       "dtype: float64"
      ]
     },
     "metadata": {},
     "output_type": "display_data"
    },
    {
     "name": "stdout",
     "output_type": "stream",
     "text": [
      "Year = 2007\n"
     ]
    },
    {
     "data": {
      "text/plain": [
       "SP.POP.GROW          0.0\n",
       "SP.POP.TOTL          0.0\n",
       "SP.RUR.TOTL          0.0\n",
       "SP.RUR.TOTL.ZG       0.0\n",
       "SP.RUR.TOTL.ZS       0.0\n",
       "SP.URB.GROW          0.0\n",
       "SP.URB.TOTL          0.0\n",
       "SP.URB.TOTL.IN.ZS    0.0\n",
       "dtype: float64"
      ]
     },
     "metadata": {},
     "output_type": "display_data"
    },
    {
     "name": "stdout",
     "output_type": "stream",
     "text": [
      "Year = 2008\n"
     ]
    },
    {
     "data": {
      "text/plain": [
       "SP.POP.GROW          0.0\n",
       "SP.POP.TOTL          0.0\n",
       "SP.RUR.TOTL          0.0\n",
       "SP.RUR.TOTL.ZG       0.0\n",
       "SP.RUR.TOTL.ZS       0.0\n",
       "SP.URB.GROW          0.0\n",
       "SP.URB.TOTL          0.0\n",
       "SP.URB.TOTL.IN.ZS    0.0\n",
       "dtype: float64"
      ]
     },
     "metadata": {},
     "output_type": "display_data"
    },
    {
     "name": "stdout",
     "output_type": "stream",
     "text": [
      "Year = 2009\n"
     ]
    },
    {
     "data": {
      "text/plain": [
       "SP.POP.GROW          0.0\n",
       "SP.POP.TOTL          0.0\n",
       "SP.RUR.TOTL          0.0\n",
       "SP.RUR.TOTL.ZG       0.0\n",
       "SP.RUR.TOTL.ZS       0.0\n",
       "SP.URB.GROW          0.0\n",
       "SP.URB.TOTL          0.0\n",
       "SP.URB.TOTL.IN.ZS    0.0\n",
       "dtype: float64"
      ]
     },
     "metadata": {},
     "output_type": "display_data"
    },
    {
     "name": "stdout",
     "output_type": "stream",
     "text": [
      "Year = 2010\n"
     ]
    },
    {
     "data": {
      "text/plain": [
       "SP.POP.GROW          0.0\n",
       "SP.POP.TOTL          0.0\n",
       "SP.RUR.TOTL          0.0\n",
       "SP.RUR.TOTL.ZG       0.0\n",
       "SP.RUR.TOTL.ZS       0.0\n",
       "SP.URB.GROW          0.0\n",
       "SP.URB.TOTL          0.0\n",
       "SP.URB.TOTL.IN.ZS    0.0\n",
       "dtype: float64"
      ]
     },
     "metadata": {},
     "output_type": "display_data"
    },
    {
     "name": "stdout",
     "output_type": "stream",
     "text": [
      "Year = 2011\n"
     ]
    },
    {
     "data": {
      "text/plain": [
       "SP.POP.GROW          0.0\n",
       "SP.POP.TOTL          0.0\n",
       "SP.RUR.TOTL          0.0\n",
       "SP.RUR.TOTL.ZG       0.0\n",
       "SP.RUR.TOTL.ZS       0.0\n",
       "SP.URB.GROW          0.0\n",
       "SP.URB.TOTL          0.0\n",
       "SP.URB.TOTL.IN.ZS    0.0\n",
       "dtype: float64"
      ]
     },
     "metadata": {},
     "output_type": "display_data"
    },
    {
     "name": "stdout",
     "output_type": "stream",
     "text": [
      "Year = 2012\n"
     ]
    },
    {
     "data": {
      "text/plain": [
       "SP.POP.GROW          0.0\n",
       "SP.POP.TOTL          0.0\n",
       "SP.RUR.TOTL          0.0\n",
       "SP.RUR.TOTL.ZG       0.0\n",
       "SP.RUR.TOTL.ZS       0.0\n",
       "SP.URB.GROW          0.0\n",
       "SP.URB.TOTL          0.0\n",
       "SP.URB.TOTL.IN.ZS    0.0\n",
       "dtype: float64"
      ]
     },
     "metadata": {},
     "output_type": "display_data"
    },
    {
     "name": "stdout",
     "output_type": "stream",
     "text": [
      "Year = 2013\n"
     ]
    },
    {
     "data": {
      "text/plain": [
       "SP.POP.GROW          0.0\n",
       "SP.POP.TOTL          0.0\n",
       "SP.RUR.TOTL          0.0\n",
       "SP.RUR.TOTL.ZG       0.0\n",
       "SP.RUR.TOTL.ZS       0.0\n",
       "SP.URB.GROW          0.0\n",
       "SP.URB.TOTL          0.0\n",
       "SP.URB.TOTL.IN.ZS    0.0\n",
       "dtype: float64"
      ]
     },
     "metadata": {},
     "output_type": "display_data"
    },
    {
     "name": "stdout",
     "output_type": "stream",
     "text": [
      "Year = 2014\n"
     ]
    },
    {
     "data": {
      "text/plain": [
       "SP.POP.GROW          0.0\n",
       "SP.POP.TOTL          0.0\n",
       "SP.RUR.TOTL          0.0\n",
       "SP.RUR.TOTL.ZG       0.0\n",
       "SP.RUR.TOTL.ZS       0.0\n",
       "SP.URB.GROW          0.0\n",
       "SP.URB.TOTL          0.0\n",
       "SP.URB.TOTL.IN.ZS    0.0\n",
       "dtype: float64"
      ]
     },
     "metadata": {},
     "output_type": "display_data"
    },
    {
     "name": "stdout",
     "output_type": "stream",
     "text": [
      "Year = 2015\n"
     ]
    },
    {
     "data": {
      "text/plain": [
       "SP.POP.GROW          0.0\n",
       "SP.POP.TOTL          0.0\n",
       "SP.RUR.TOTL          0.0\n",
       "SP.RUR.TOTL.ZG       0.0\n",
       "SP.RUR.TOTL.ZS       0.0\n",
       "SP.URB.GROW          0.0\n",
       "SP.URB.TOTL          0.0\n",
       "SP.URB.TOTL.IN.ZS    0.0\n",
       "dtype: float64"
      ]
     },
     "metadata": {},
     "output_type": "display_data"
    },
    {
     "name": "stdout",
     "output_type": "stream",
     "text": [
      "Year = 2016\n"
     ]
    },
    {
     "data": {
      "text/plain": [
       "SP.POP.GROW          0.0\n",
       "SP.POP.TOTL          0.0\n",
       "SP.RUR.TOTL          0.0\n",
       "SP.RUR.TOTL.ZG       0.0\n",
       "SP.RUR.TOTL.ZS       0.0\n",
       "SP.URB.GROW          0.0\n",
       "SP.URB.TOTL          0.0\n",
       "SP.URB.TOTL.IN.ZS    0.0\n",
       "dtype: float64"
      ]
     },
     "metadata": {},
     "output_type": "display_data"
    },
    {
     "name": "stdout",
     "output_type": "stream",
     "text": [
      "Year = 2017\n"
     ]
    },
    {
     "data": {
      "text/plain": [
       "SP.POP.GROW          0.0\n",
       "SP.POP.TOTL          0.0\n",
       "SP.RUR.TOTL          0.0\n",
       "SP.RUR.TOTL.ZG       0.0\n",
       "SP.RUR.TOTL.ZS       0.0\n",
       "SP.URB.GROW          0.0\n",
       "SP.URB.TOTL          0.0\n",
       "SP.URB.TOTL.IN.ZS    0.0\n",
       "dtype: float64"
      ]
     },
     "metadata": {},
     "output_type": "display_data"
    },
    {
     "name": "stdout",
     "output_type": "stream",
     "text": [
      "Year = 2018\n"
     ]
    },
    {
     "data": {
      "text/plain": [
       "SP.POP.GROW          0.0\n",
       "SP.POP.TOTL          0.0\n",
       "SP.RUR.TOTL          0.0\n",
       "SP.RUR.TOTL.ZG       0.0\n",
       "SP.RUR.TOTL.ZS       0.0\n",
       "SP.URB.GROW          0.0\n",
       "SP.URB.TOTL          0.0\n",
       "SP.URB.TOTL.IN.ZS    0.0\n",
       "dtype: float64"
      ]
     },
     "metadata": {},
     "output_type": "display_data"
    },
    {
     "name": "stdout",
     "output_type": "stream",
     "text": [
      "Year = 2019\n"
     ]
    },
    {
     "data": {
      "text/plain": [
       "SP.POP.GROW          0.0\n",
       "SP.POP.TOTL          0.0\n",
       "SP.RUR.TOTL          0.0\n",
       "SP.RUR.TOTL.ZG       0.0\n",
       "SP.RUR.TOTL.ZS       0.0\n",
       "SP.URB.GROW          0.0\n",
       "SP.URB.TOTL          0.0\n",
       "SP.URB.TOTL.IN.ZS    0.0\n",
       "dtype: float64"
      ]
     },
     "metadata": {},
     "output_type": "display_data"
    },
    {
     "name": "stdout",
     "output_type": "stream",
     "text": [
      "Year = 2020\n"
     ]
    },
    {
     "data": {
      "text/plain": [
       "SP.POP.GROW          0.0\n",
       "SP.POP.TOTL          0.0\n",
       "SP.RUR.TOTL          0.0\n",
       "SP.RUR.TOTL.ZG       0.0\n",
       "SP.RUR.TOTL.ZS       0.0\n",
       "SP.URB.GROW          0.0\n",
       "SP.URB.TOTL          0.0\n",
       "SP.URB.TOTL.IN.ZS    0.0\n",
       "dtype: float64"
      ]
     },
     "metadata": {},
     "output_type": "display_data"
    },
    {
     "name": "stdout",
     "output_type": "stream",
     "text": [
      "Year = 2021\n"
     ]
    },
    {
     "data": {
      "text/plain": [
       "SP.POP.GROW          0.0\n",
       "SP.POP.TOTL          0.0\n",
       "SP.RUR.TOTL          0.0\n",
       "SP.RUR.TOTL.ZG       0.0\n",
       "SP.RUR.TOTL.ZS       0.0\n",
       "SP.URB.GROW          0.0\n",
       "SP.URB.TOTL          0.0\n",
       "SP.URB.TOTL.IN.ZS    0.0\n",
       "dtype: float64"
      ]
     },
     "metadata": {},
     "output_type": "display_data"
    }
   ],
   "source": [
    "visualize_nulls(urb_df)"
   ]
  },
  {
   "cell_type": "markdown",
   "metadata": {},
   "source": [
    "#### Urbanization Dataset Findings\n",
    "\n",
    "We can use the all metrics here for the given countries.  However, we can use the annual growth percentages to see some trends."
   ]
  },
  {
   "cell_type": "markdown",
   "metadata": {},
   "source": [
    "### World Development Indicators Summary\n",
    "\n",
    "On checking the datasets, we decided to take these mertics/indicators and how they relate to the Climate Change data we checked before this.\n",
    "\n",
    "| Dataset | Series Code | Series Description/Name |\n",
    "| --- | --- | --- |\n",
    "| GDP | NY.GDP.MKTP.KD.ZG | GDP growth (annual %) |\n",
    "| GDP | NY.GDP.PCAP.KD.ZG | GDP per capita growth (annual %) |\n",
    "| Land Use | AG.LND.FRST.K2 | Forest area (sq. km) |\n",
    "| Land Use | AG.LND.FRST.ZS | Forest area (% of land area) |\n",
    "| Urbanization | SP.POP.GROW | Population growth (annual %) |\n",
    "| Urbanization | SP.RUR.TOTL.ZG | Rural population growth (annual %) |\n",
    "| Urbanization | SP.URB.GROW | Urban population growth (annual %) |"
   ]
  },
  {
   "cell_type": "markdown",
   "metadata": {},
   "source": []
  }
 ],
 "metadata": {
  "kernelspec": {
   "display_name": "Python 3.9.12 ('google_analytics_cert')",
   "language": "python",
   "name": "python3"
  },
  "language_info": {
   "codemirror_mode": {
    "name": "ipython",
    "version": 3
   },
   "file_extension": ".py",
   "mimetype": "text/x-python",
   "name": "python",
   "nbconvert_exporter": "python",
   "pygments_lexer": "ipython3",
   "version": "3.9.12"
  },
  "vscode": {
   "interpreter": {
    "hash": "ed7670ed09755f587c04ad1d640d15a134edbfe4ad5359d9b1d26866f39a2661"
   }
  }
 },
 "nbformat": 4,
 "nbformat_minor": 4
}
