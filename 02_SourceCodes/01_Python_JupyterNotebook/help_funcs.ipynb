{
 "cells": [
  {
   "cell_type": "markdown",
   "metadata": {},
   "source": [
    "# Helper Functions\n",
    "\n",
    "| Date | Description |\n",
    "| --- | --- |\n",
    "| 2022-08-05 | Initial Creation |"
   ]
  },
  {
   "cell_type": "markdown",
   "metadata": {},
   "source": [
    "## Load Libraries"
   ]
  },
  {
   "cell_type": "code",
   "execution_count": null,
   "metadata": {},
   "outputs": [],
   "source": [
    "import numpy as np\n",
    "import pandas as pd"
   ]
  },
  {
   "cell_type": "markdown",
   "metadata": {},
   "source": [
    "## Functions"
   ]
  },
  {
   "cell_type": "markdown",
   "metadata": {},
   "source": [
    "### world_bank_file_to_df()"
   ]
  },
  {
   "cell_type": "code",
   "execution_count": 1,
   "metadata": {},
   "outputs": [],
   "source": [
    "def world_bank_file_to_df(filepath):\n",
    "    # read the file and then drop NA to remove extra rows\n",
    "    # only headers and actual rows remain (blank cells are marked by '..' so they won't be NULL)\n",
    "    outdf = pd.read_csv(filepath).dropna()\n",
    "\n",
    "    # Unpivot the 'year' columns so that they would just have one column\n",
    "    # Set the indicator under the column \"value\" for now\n",
    "    col_list = list(outdf.columns)\n",
    "    # First 4 columns is always Country, Country Code, Series Code, Series Name\n",
    "    idcols = col_list[:4]\n",
    "    varcols = col_list[4:]\n",
    "\n",
    "    outdf = pd.melt(outdf, id_vars=idcols, value_vars=varcols, var_name='Year', value_name='value')\n",
    "\n",
    "    outdf['value'] = outdf['value'].replace(r'\\.\\.',np.nan,regex=True)\n",
    "\n",
    "    # create a data frame to have the series code and its name\n",
    "    desc_df = outdf.copy()\n",
    "    desc_df = desc_df[['Series Code', 'Series Name']].drop_duplicates()\n",
    "\n",
    "    # now we pivot the table so that the 'series'/indicator be shown as columns \n",
    "    outdf = pd.pivot(outdf, index=['Country Name', 'Country Code', 'Year'], columns=['Series Code'], values='value')\n",
    "    outdf = outdf.reset_index()\n",
    "    outdf.columns.name = None\n",
    "\n",
    "    outdf = outdf.drop('Country Code',axis=1)\n",
    "    outdf.rename(columns={'Country Name':'Country'},inplace=True)\n",
    "\n",
    "    outdf['Year']=outdf['Year'].str.replace('\\s\\[.*\\]', '', regex=True).astype(int)\n",
    "\n",
    "    for col in list(outdf.columns)[2:]:\n",
    "        outdf[col] = outdf[col].astype(float)\n",
    "\n",
    "    return desc_df, outdf\n",
    "\n",
    "\n",
    "\n"
   ]
  },
  {
   "cell_type": "code",
   "execution_count": null,
   "metadata": {},
   "outputs": [],
   "source": [
    "def visualize_nulls(df):\n",
    "    plt.figure(figsize=(12,10))\n",
    "    ax = sns.heatmap(df[list(df.columns)[2:]].isnull(),cbar=False)\n",
    "    ax.set_xlabel('Indicators')\n",
    "    plt.show()\n",
    "\n",
    "    print('Percentage of Null values in Dataset:')\n",
    "    display(df[list(df.columns)[2:]].isnull().sum()/df.shape[0] *100)\n",
    "\n",
    "    yr_list = sorted(list(set(df['Year'].tolist())))\n",
    "    \n",
    "    for yr in yr_list:\n",
    "        tempdf = df[df['Year'] == yr]\n",
    "        print('Year =', yr)\n",
    "        display(tempdf[list(tempdf.columns)[2:]].isnull().sum()/tempdf.shape[0]*100)\n",
    "\n",
    "    "
   ]
  },
  {
   "cell_type": "code",
   "execution_count": null,
   "metadata": {},
   "outputs": [],
   "source": [
    "def get_yoy_change_df(df, colname, changecolname):\n",
    "    tempdf = df[['Country', 'Year', colname]].copy()\n",
    "    yr_list = sorted(list(set(tempdf['Year'].tolist())))\n",
    "    outdf = pd.pivot(tempdf, index='Country', columns='Year', values=colname)\n",
    "    for yr in yr_list[1:]:\n",
    "        outdf[str(yr)+'_chg'] = (outdf[yr]-outdf[yr-1])/outdf[yr-1]*100\n",
    "        outdf = outdf.drop(yr-1,axis='columns')\n",
    "    outdf = outdf.drop(yr,axis='columns')\n",
    "    \n",
    "    outdf = outdf.reset_index()\n",
    "    outdf.columns.name = None\n",
    "    outdf = pd.melt(outdf, id_vars='Country', value_vars=list(outdf.columns)[1:], var_name='Year', value_name=changecolname)\n",
    "    outdf['Year']=outdf['Year'].str.replace('_.*', '', regex=True).astype(int)\n",
    "\n",
    "    return outdf"
   ]
  }
 ],
 "metadata": {
  "kernelspec": {
   "display_name": "Python 3.9.12 ('google_analytics_cert')",
   "language": "python",
   "name": "python3"
  },
  "language_info": {
   "codemirror_mode": {
    "name": "ipython",
    "version": 3
   },
   "file_extension": ".py",
   "mimetype": "text/x-python",
   "name": "python",
   "nbconvert_exporter": "python",
   "pygments_lexer": "ipython3",
   "version": "3.9.12"
  },
  "orig_nbformat": 4,
  "vscode": {
   "interpreter": {
    "hash": "ed7670ed09755f587c04ad1d640d15a134edbfe4ad5359d9b1d26866f39a2661"
   }
  }
 },
 "nbformat": 4,
 "nbformat_minor": 2
}
