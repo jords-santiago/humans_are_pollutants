{
 "cells": [
  {
   "cell_type": "markdown",
   "metadata": {},
   "source": [
    "# World Bank's World Development Indicators vs. Environment Analysis"
   ]
  },
  {
   "cell_type": "code",
   "execution_count": null,
   "metadata": {},
   "outputs": [],
   "source": [
    "import numpy as np\n",
    "import pandas as pd\n",
    "import seaborn as sns\n",
    "import matplotlib.pyplot as plt\n",
    "\n",
    "pd.set_option('display.max_colwidth', None)"
   ]
  },
  {
   "cell_type": "code",
   "execution_count": null,
   "metadata": {},
   "outputs": [],
   "source": [
    "%run ./help_funcs.ipynb"
   ]
  },
  {
   "cell_type": "markdown",
   "metadata": {},
   "source": [
    "## Load all datasets"
   ]
  },
  {
   "cell_type": "code",
   "execution_count": null,
   "metadata": {},
   "outputs": [],
   "source": [
    "co2_descdf, co2_df = world_bank_file_to_df('../../01_DataSources/01_Raw/World_Bank_CO2_World_Development_Indicators/World_Bank_CO2_World_Development_Indicators_Data.csv')\n",
    "othergas_descdf, othergas_df = world_bank_file_to_df('../../01_DataSources/01_Raw/World_Bank_Othergas_World_Development_Indicators/World_Bank_Othergas_World_Development_Indicators_Data.csv')\n",
    "pollution_descdf, pollution_df = world_bank_file_to_df('../../01_DataSources/01_Raw/World_Bank_Pollution_World_Development_Indicators/World_Bank_Pollution_World_Development_Indicators_Data.csv')\n",
    "gdp_descdf, gdp_df = world_bank_file_to_df('../../01_DataSources/01_Raw/World_Bank_GDP_World_Development_Indicators/World_Bank_GDP_World_Development_Indicators_Data.csv')\n",
    "landuse_descdf, landuse_df = world_bank_file_to_df('../../01_DataSources/01_Raw/World_Bank_LandUse_World_Development_Indicators/World_Bank_LandUse_World_Development_Indicators_Data.csv')\n",
    "urb_descdf, urb_df = world_bank_file_to_df('../../01_DataSources/01_Raw/World_Bank_Urbanization_World_Development_Indicators/World_Bank_Urbanization_World_Development_Indicators_Data.csv')\n"
   ]
  },
  {
   "cell_type": "markdown",
   "metadata": {},
   "source": [
    "## Preparation/Exploratory Data Analysis (EDA)"
   ]
  },
  {
   "cell_type": "markdown",
   "metadata": {},
   "source": [
    "### Climate Change/Pollution Indicators\n",
    "\n",
    "We now check out the data from the World Banks that we know direcly impact the environment adversely"
   ]
  },
  {
   "cell_type": "markdown",
   "metadata": {},
   "source": [
    "#### CO2 Emissions"
   ]
  },
  {
   "cell_type": "code",
   "execution_count": null,
   "metadata": {},
   "outputs": [],
   "source": [
    "display(co2_descdf.sort_values('Series Code'))"
   ]
  },
  {
   "cell_type": "code",
   "execution_count": null,
   "metadata": {},
   "outputs": [],
   "source": [
    "visualize_nulls(co2_df)"
   ]
  },
  {
   "cell_type": "markdown",
   "metadata": {},
   "source": [
    "* World Bank data only has data from 2007 to 2019\n",
    "* Only CO2 Emissions and CO2 Emissions per capita has enough data after 2014 while others have a large amount of null values"
   ]
  },
  {
   "cell_type": "markdown",
   "metadata": {},
   "source": [
    "##### CO2 Emissions for each country"
   ]
  },
  {
   "cell_type": "code",
   "execution_count": null,
   "metadata": {},
   "outputs": [],
   "source": [
    "# remove records with year 2020 and 2021\n",
    "co2_df = co2_df[~co2_df['Year'].isin([2020, 2021])]"
   ]
  },
  {
   "cell_type": "code",
   "execution_count": null,
   "metadata": {},
   "outputs": [],
   "source": [
    "# Get the the top 10 countries with the highest average C02 emissions 2007-2019\n",
    "co2_em_df = co2_df[['Country', 'Year', 'EN.ATM.CO2E.KT']].dropna()\n",
    "\n",
    "co2_em_df_top10_list = co2_em_df.groupby('Country')\\\n",
    "                                .mean()\\\n",
    "                                .reset_index()\\\n",
    "                                .sort_values('EN.ATM.CO2E.KT',ascending=False)\\\n",
    "                                .head(10)['Country']\\\n",
    "                                .tolist()\n",
    "\n",
    "co2_em_df_top10 = co2_em_df[co2_em_df['Country'].isin(co2_em_df_top10_list)]\n",
    "\n",
    "print(co2_em_df_top10_list)"
   ]
  },
  {
   "cell_type": "code",
   "execution_count": null,
   "metadata": {},
   "outputs": [],
   "source": [
    "plt.clf()\n",
    "plt.figure(figsize=(12,10))\n",
    "plt.title('Top 10 Countries on C02 emissions')\n",
    "plt.ylabel('kilotons')\n",
    "ax = sns.lineplot(x='Year', y='EN.ATM.CO2E.KT', data=co2_em_df_top10, hue='Country', hue_order=co2_em_df_top10_list)\n",
    "plt.show()"
   ]
  },
  {
   "cell_type": "markdown",
   "metadata": {},
   "source": [
    "##### CO2 Emissions per capita for each country"
   ]
  },
  {
   "cell_type": "code",
   "execution_count": null,
   "metadata": {},
   "outputs": [],
   "source": [
    "# Get the the top 10 countries with the highest average C02 emissions per capita 2007-2019\n",
    "co2_em_pc_df = co2_df[['Country', 'Year', 'EN.ATM.CO2E.PC']].dropna()\n",
    "\n",
    "co2_em_pc_df_top10_list = co2_em_pc_df.groupby('Country')\\\n",
    "                                      .mean()\\\n",
    "                                      .reset_index()\\\n",
    "                                      .sort_values('EN.ATM.CO2E.PC',ascending=False)\\\n",
    "                                      .head(10)['Country']\\\n",
    "                                      .tolist()\n",
    "\n",
    "co2_em_pc_df_top10 = co2_em_pc_df[co2_em_pc_df['Country'].isin(co2_em_pc_df_top10_list)]\n",
    "\n",
    "print(co2_em_pc_df_top10_list)"
   ]
  },
  {
   "cell_type": "code",
   "execution_count": null,
   "metadata": {},
   "outputs": [],
   "source": [
    "plt.clf()\n",
    "plt.figure(figsize=(12,10))\n",
    "plt.title('Top 10 Countries on C02 emissions per capita')\n",
    "plt.ylabel('Metric Tons')\n",
    "ax = sns.lineplot(x='Year', y='EN.ATM.CO2E.PC', data=co2_em_pc_df_top10, hue='Country', hue_order=co2_em_pc_df_top10_list)\n",
    "plt.show()"
   ]
  },
  {
   "cell_type": "markdown",
   "metadata": {},
   "source": [
    "On the other hand, with regards to CO2 emissions per capita, Qatar has the most with significant margin against the other top countries.  Also, the top 2 countries, Qatar and Kuwait, have their CO2 emissions per capita trending downwards."
   ]
  },
  {
   "cell_type": "markdown",
   "metadata": {},
   "source": [
    "##### CO2 emissions Summary\n",
    "\n",
    "Overall, based the viable CO2 data obtained, we can take some of the top countries on CO2 emissions and analyze those closer compared to the other data we have.\n",
    "\n",
    "Based on CO2 emissions data, we can take the following countries:\n",
    "* United States\n",
    "* China\n",
    "* India\n",
    "* Russia\n",
    "* Japan\n",
    "\n",
    "These countries are large in terms of land area and population to have significant impact to the environment for us to look into further."
   ]
  },
  {
   "cell_type": "code",
   "execution_count": null,
   "metadata": {},
   "outputs": [],
   "source": [
    "countries_list = ['China', 'United States', 'India', 'Russian Federation', 'Japan']"
   ]
  },
  {
   "cell_type": "code",
   "execution_count": null,
   "metadata": {},
   "outputs": [],
   "source": [
    "co2_df = co2_df[co2_df['Country'].isin(countries_list)]"
   ]
  },
  {
   "cell_type": "code",
   "execution_count": null,
   "metadata": {},
   "outputs": [],
   "source": [
    "plt.clf()\n",
    "plt.figure(figsize=(12,10))\n",
    "plt.title('CO2 Emission')\n",
    "plt.ylabel('kilotons')\n",
    "ax = sns.lineplot(x='Year', y='EN.ATM.CO2E.KT', data=co2_df, hue='Country')\n",
    "plt.show()"
   ]
  },
  {
   "cell_type": "markdown",
   "metadata": {},
   "source": [
    "These countries have their emissions either trending upwards or somewhat steady with China clearly increaing."
   ]
  },
  {
   "cell_type": "markdown",
   "metadata": {},
   "source": [
    "#### Other Gas Emissions"
   ]
  },
  {
   "cell_type": "code",
   "execution_count": null,
   "metadata": {},
   "outputs": [],
   "source": [
    "display(othergas_descdf.sort_values('Series Code'))"
   ]
  },
  {
   "cell_type": "code",
   "execution_count": null,
   "metadata": {},
   "outputs": [],
   "source": [
    "othergas_df = othergas_df[othergas_df['Country'].isin(countries_list)]\n",
    "visualize_nulls(othergas_df)"
   ]
  },
  {
   "cell_type": "markdown",
   "metadata": {},
   "source": [
    "* Data is only up to 2019\n",
    "* Only Green house gases, Methane and Nitrous Oxide have significant amount of data on this set"
   ]
  },
  {
   "cell_type": "code",
   "execution_count": null,
   "metadata": {},
   "outputs": [],
   "source": [
    "othergas_df = othergas_df[~othergas_df['Year'].isin([2020,2021])]"
   ]
  },
  {
   "cell_type": "markdown",
   "metadata": {},
   "source": [
    "##### Green house gases\n",
    "\n",
    "We check green house gases further as these do have some impact on global warming."
   ]
  },
  {
   "cell_type": "code",
   "execution_count": null,
   "metadata": {},
   "outputs": [],
   "source": [
    "plt.clf()\n",
    "plt.figure(figsize=(12,10))\n",
    "plt.title('GHG Emission')\n",
    "plt.ylabel('kilotons (CO2 equivalent)')\n",
    "ax = sns.lineplot(x='Year', y='EN.ATM.GHGT.KT.CE', data=othergas_df, hue='Country')\n",
    "plt.show()"
   ]
  },
  {
   "cell_type": "markdown",
   "metadata": {},
   "source": [
    "##### Methane"
   ]
  },
  {
   "cell_type": "code",
   "execution_count": null,
   "metadata": {},
   "outputs": [],
   "source": [
    "plt.clf()\n",
    "plt.figure(figsize=(12,10))\n",
    "plt.title('Methane Emission')\n",
    "plt.ylabel('kilotons (CO2 equivalent)')\n",
    "ax = sns.lineplot(x='Year', y='EN.ATM.METH.KT.CE', data=othergas_df, hue='Country')\n",
    "plt.show()"
   ]
  },
  {
   "cell_type": "markdown",
   "metadata": {},
   "source": [
    "##### Nitrous Oxide"
   ]
  },
  {
   "cell_type": "code",
   "execution_count": null,
   "metadata": {},
   "outputs": [],
   "source": [
    "plt.clf()\n",
    "plt.figure(figsize=(12,10))\n",
    "plt.title('Nitrous Oxide Emission')\n",
    "plt.ylabel('kilotons (CO2 equivalent)')\n",
    "ax = sns.lineplot(x='Year', y='EN.ATM.NOXE.KT.CE', data=othergas_df, hue='Country')\n",
    "plt.show()"
   ]
  },
  {
   "cell_type": "markdown",
   "metadata": {},
   "source": [
    "##### Other Gas Emissions Summary\n",
    "\n",
    "These countries do have a lot in common with the CO2 emissions data so we can use these together.  China and the United States are in the top 2 where China is mostly trending upwards on emission."
   ]
  },
  {
   "cell_type": "code",
   "execution_count": null,
   "metadata": {},
   "outputs": [],
   "source": [
    "countries_list = ['China', 'United States', 'India', 'Russian Federation', 'Japan']"
   ]
  },
  {
   "cell_type": "markdown",
   "metadata": {},
   "source": [
    "#### Air Pollution"
   ]
  },
  {
   "cell_type": "code",
   "execution_count": null,
   "metadata": {},
   "outputs": [],
   "source": [
    "display(pollution_descdf.sort_values('Series Code'))"
   ]
  },
  {
   "cell_type": "code",
   "execution_count": null,
   "metadata": {},
   "outputs": [],
   "source": [
    "pollution_df = pollution_df[pollution_df['Country'].isin(countries_list)]\n",
    "visualize_nulls(pollution_df)"
   ]
  },
  {
   "cell_type": "markdown",
   "metadata": {},
   "source": [
    "We can use data from 2010 to 2017"
   ]
  },
  {
   "cell_type": "code",
   "execution_count": null,
   "metadata": {},
   "outputs": [],
   "source": [
    "pollution_df = pollution_df[pollution_df['Year'].isin(range(2010,2018))]"
   ]
  },
  {
   "cell_type": "code",
   "execution_count": null,
   "metadata": {},
   "outputs": [],
   "source": [
    "plt.clf()\n",
    "fig, axes = plt.subplots(1, 2, figsize=(24,12))\n",
    "axes[0].set_ylabel('micrograms per cubic meter')\n",
    "axes[1].set_ylabel('% population')\n",
    "\n",
    "axes[0].set_title('PM2.5 air pollution, mean annual exposure')\n",
    "axes[1].set_title('PM2.5 air pollution, population exposed to levels exceeding WHO guideline value')\n",
    "\n",
    "sns.lineplot(x='Year', y='EN.ATM.PM25.MC.M3', data=pollution_df, hue='Country', ax=axes[0])\n",
    "sns.lineplot(x='Year', y='EN.ATM.PM25.MC.ZS', data=pollution_df, hue='Country', ax=axes[1])\n",
    "plt.show()"
   ]
  },
  {
   "cell_type": "markdown",
   "metadata": {},
   "source": [
    "China and India are already at 100% on population exposed to pollution levels.  However, for all 5 countries, the mean annual exposure is decreasing or level (none are increasing).  Clearly, United States and Japan have severely reduced the amount of their population subjected to significant air pollution."
   ]
  },
  {
   "cell_type": "markdown",
   "metadata": {},
   "source": [
    "#### Climate Change/Pollution Indicators Summary\n",
    "\n",
    "On the other hand, we can take the gas emissions data (CO2, GHG, Methane, Nitrous Oxide) and air pollution data.\n",
    "\n",
    "| Dataset | Series Code | Series Description/Name |\n",
    "| --- | --- | --- |\n",
    "|CO2| EN.ATM.CO2E.KT | CO2 emissions (kt)|\n",
    "|Other Gas | EN.ATM.GHGT.KT.CE | Total greenhouse gas emissions (kt of CO2 equivalent) |\n",
    "|Other Gas | EN.ATM.METH.KT.CE | Methane emissions (kt of CO2 equivalent)|\n",
    "|Other Gas | EN.ATM.NOXE.KT.CE | Nitrous oxide emissions (thousand metric tons of CO2 equivalent)|\n",
    "|Pollution | EN.ATM.PM25.MC.M3 | PM2.5 air pollution, mean annual exposure (micrograms per cubic meter)|\n",
    "|Pollution | EN.ATM.PM25.MC.ZS | PM2.5 air pollution, population exposed to levels exceeding WHO guideline value (% of total)|\n",
    "\n",
    "In general, even if gas emissions have been level or increasing for the 5 countries, air pollution has been decreasing."
   ]
  },
  {
   "cell_type": "markdown",
   "metadata": {},
   "source": [
    "### World Development Indicators\n",
    "\n",
    "We check the available data in the World Development Indicators datasets for the countries determined earlier."
   ]
  },
  {
   "cell_type": "markdown",
   "metadata": {},
   "source": [
    "#### GDP"
   ]
  },
  {
   "cell_type": "code",
   "execution_count": null,
   "metadata": {},
   "outputs": [],
   "source": [
    "gdp_df = gdp_df[gdp_df['Country'].isin(countries_list)]"
   ]
  },
  {
   "cell_type": "code",
   "execution_count": null,
   "metadata": {},
   "outputs": [],
   "source": [
    "display(gdp_descdf.sort_values('Series Code'))"
   ]
  },
  {
   "cell_type": "code",
   "execution_count": null,
   "metadata": {},
   "outputs": [],
   "source": [
    "visualize_nulls(gdp_df)"
   ]
  },
  {
   "cell_type": "code",
   "execution_count": null,
   "metadata": {},
   "outputs": [],
   "source": [
    "gdp_df = gdp_df[~gdp_df['Year'].isin([2020,2021])]"
   ]
  },
  {
   "cell_type": "code",
   "execution_count": null,
   "metadata": {},
   "outputs": [],
   "source": [
    "plt.clf()\n",
    "fig, axes = plt.subplots(1, 2, figsize=(24,12))\n",
    "axes[0].set_ylabel('% change')\n",
    "axes[1].set_ylabel('% change')\n",
    "\n",
    "axes[0].set_title('GDP growth (annual %)')\n",
    "axes[1].set_title('GDP per capita growth (annual %)')\n",
    "\n",
    "sns.lineplot(x='Year', y='NY.GDP.MKTP.KD.ZG', data=gdp_df, hue='Country', ax=axes[0])\n",
    "sns.lineplot(x='Year', y='NY.GDP.PCAP.KD.ZG', data=gdp_df, hue='Country', ax=axes[1])\n",
    "plt.show()"
   ]
  },
  {
   "cell_type": "code",
   "execution_count": null,
   "metadata": {},
   "outputs": [],
   "source": [
    "plt.clf()\n",
    "fig, axes = plt.subplots(1, 2, figsize=(24,12))\n",
    "axes[0].set_ylabel('US $')\n",
    "axes[1].set_ylabel('US $')\n",
    "\n",
    "axes[0].set_title('GDP')\n",
    "axes[1].set_title('GDP per capita')\n",
    "\n",
    "sns.lineplot(x='Year', y='NY.GDP.MKTP.CD', data=gdp_df, hue='Country', ax=axes[0])\n",
    "sns.lineplot(x='Year', y='NY.GDP.PCAP.CD', data=gdp_df, hue='Country', ax=axes[1])\n",
    "plt.show()"
   ]
  },
  {
   "cell_type": "markdown",
   "metadata": {},
   "source": [
    "##### GDP Dataset Findings\n",
    "\n",
    "We can use the GDP metrics graphs are basically the same as expectated (per capita is just divided by population on that year).  Growth numbers show that it is stabilizing out through the years.  In GDP/GDP per capita, aside from Russia and Japan which have up and downs, GDP is trending upwards."
   ]
  },
  {
   "cell_type": "markdown",
   "metadata": {},
   "source": [
    "#### Land Use"
   ]
  },
  {
   "cell_type": "code",
   "execution_count": null,
   "metadata": {},
   "outputs": [],
   "source": [
    "landuse_df = landuse_df[landuse_df['Country'].isin(countries_list)]"
   ]
  },
  {
   "cell_type": "code",
   "execution_count": null,
   "metadata": {},
   "outputs": [],
   "source": [
    "display(landuse_descdf.sort_values('Series Code'))"
   ]
  },
  {
   "cell_type": "code",
   "execution_count": null,
   "metadata": {},
   "outputs": [],
   "source": [
    "visualize_nulls(landuse_df)"
   ]
  },
  {
   "cell_type": "code",
   "execution_count": null,
   "metadata": {},
   "outputs": [],
   "source": [
    "landuse_df = landuse_df[~landuse_df['Year'].isin([2020,2021])]"
   ]
  },
  {
   "cell_type": "code",
   "execution_count": null,
   "metadata": {},
   "outputs": [],
   "source": [
    "plt.clf()\n",
    "fig, axes = plt.subplots(1, 2, figsize=(24,12))\n",
    "axes[0].set_ylabel('sq. km')\n",
    "axes[1].set_ylabel('% land area')\n",
    "\n",
    "axes[0].set_title('Forest area (sq. km)')\n",
    "axes[1].set_title('Forest area (% of land area)')\n",
    "\n",
    "sns.lineplot(x='Year', y='AG.LND.FRST.K2', data=landuse_df, hue='Country', ax=axes[0])\n",
    "sns.lineplot(x='Year', y='AG.LND.FRST.ZS', data=landuse_df, hue='Country', ax=axes[1])\n",
    "plt.show()"
   ]
  },
  {
   "cell_type": "markdown",
   "metadata": {},
   "source": [
    "We get the year on year change to see how these increase/decrease."
   ]
  },
  {
   "cell_type": "code",
   "execution_count": null,
   "metadata": {},
   "outputs": [],
   "source": [
    "forest_change_df = get_yoy_change_df(landuse_df, 'AG.LND.FRST.K2', 'AG.LND.FRST.K2.CHG')"
   ]
  },
  {
   "cell_type": "code",
   "execution_count": null,
   "metadata": {},
   "outputs": [],
   "source": [
    "plt.clf()\n",
    "plt.figure(figsize=(12,12))\n",
    "\n",
    "plt.title('Forest Area % Change')\n",
    "plt.ylabel('% change')\n",
    "sns.lineplot(x='Year', y='AG.LND.FRST.K2.CHG', data=forest_change_df, hue='Country')\n",
    "plt.show()"
   ]
  },
  {
   "cell_type": "markdown",
   "metadata": {},
   "source": [
    "##### Land Use Dataset Findings\n",
    "\n",
    "When the annual change graph was derived, it showed that all 5 countries don't have much change in their forest area but are trending upwards in general."
   ]
  },
  {
   "cell_type": "markdown",
   "metadata": {},
   "source": [
    "#### Urbanization"
   ]
  },
  {
   "cell_type": "markdown",
   "metadata": {},
   "source": [
    "##### Loading and checking the dataset"
   ]
  },
  {
   "cell_type": "code",
   "execution_count": null,
   "metadata": {},
   "outputs": [],
   "source": [
    "urb_df = urb_df[urb_df['Country'].isin(countries_list)]"
   ]
  },
  {
   "cell_type": "code",
   "execution_count": null,
   "metadata": {},
   "outputs": [],
   "source": [
    "display(urb_descdf.sort_values('Series Code'))"
   ]
  },
  {
   "cell_type": "code",
   "execution_count": null,
   "metadata": {},
   "outputs": [],
   "source": [
    "visualize_nulls(urb_df)"
   ]
  },
  {
   "cell_type": "code",
   "execution_count": null,
   "metadata": {},
   "outputs": [],
   "source": [
    "urb_df = urb_df[~urb_df['Year'].isin([2020,2021])]"
   ]
  },
  {
   "cell_type": "code",
   "execution_count": null,
   "metadata": {},
   "outputs": [],
   "source": [
    "plt.clf()\n",
    "fig, axes = plt.subplots(1, 3, figsize=(36,12))\n",
    "axes[0].set_ylabel('% change')\n",
    "axes[1].set_ylabel('% change')\n",
    "axes[2].set_ylabel('% change')\n",
    "\n",
    "axes[0].set_title('Population growth (annual %)')\n",
    "axes[1].set_title('Rural population growth (annual %)')\n",
    "axes[2].set_title('Urban population growth (annual %)')\n",
    "\n",
    "sns.lineplot(x='Year', y='SP.POP.GROW', data=urb_df, hue='Country', ax=axes[0])\n",
    "sns.lineplot(x='Year', y='SP.RUR.TOTL.ZG', data=urb_df, hue='Country', ax=axes[1])\n",
    "sns.lineplot(x='Year', y='SP.URB.GROW', data=urb_df, hue='Country', ax=axes[2])\n",
    "\n",
    "plt.show()"
   ]
  },
  {
   "cell_type": "markdown",
   "metadata": {},
   "source": [
    "##### Urbanization Dataset Findings\n",
    "\n",
    "We can use the all metrics here for the given countries.  However, we can use the annual growth percentages to see some trends.  Based on annual growth, population growth is slowing down with Japan shows increase in rural population and decrease in urban population."
   ]
  },
  {
   "cell_type": "markdown",
   "metadata": {},
   "source": [
    "#### World Development Indicators Summary\n",
    "\n",
    "On checking the datasets, we decided to take these mertics/indicators and how they relate to the Climate Change data we checked before this.\n",
    "\n",
    "| Dataset | Series Code | Series Description/Name |\n",
    "| --- | --- | --- |\n",
    "| GDP | NY.GDP.MKTP.KD.ZG | GDP growth (annual %) |\n",
    "| GDP | NY.GDP.PCAP.CD | GDP per capita (current US$) |\n",
    "| Land Use | AG.LND.FRST.ZS | Forest area (% of land area) |\n",
    "| Land Use | AG.LND.FRST.K2.CHG | Forest area annual change |\n",
    "| Urbanization | SP.POP.GROW | Population growth (annual %) |\n",
    "| Urbanization | SP.RUR.TOTL.ZG | Rural population growth (annual %) |\n",
    "| Urbanization | SP.URB.GROW | Urban population growth (annual %) |"
   ]
  },
  {
   "cell_type": "markdown",
   "metadata": {},
   "source": [
    "### EDA Summary\n",
    "\n",
    "We know have an initial list of metrics both from Gas Emissions/Pollution Data and World Development Indicators.  However, it would be better to normalize the emissions data so that large/small values won't affect further analysis."
   ]
  },
  {
   "cell_type": "code",
   "execution_count": null,
   "metadata": {},
   "outputs": [],
   "source": [
    "landarea_df = landuse_df[['Country', 'Year', 'AG.LND.TOTL.K2']].copy()\n",
    "landarea_df = landarea_df[landarea_df['Year'].isin(range(2010,2018))]\n",
    "\n",
    "co2_df = co2_df[co2_df['Country'].isin(countries_list)]\n",
    "co2_df = co2_df[co2_df['Year'].isin(range(2010,2018))]\n",
    "co2_df = co2_df[['Country', 'Year', 'EN.ATM.CO2E.KT']]\n",
    "\n",
    "co2_per_area_df = co2_df.merge(landarea_df, how='left', on=['Country', 'Year'])\n",
    "co2_per_area_df['EN.ATM.CO2E.KT.AREA'] = co2_per_area_df['EN.ATM.CO2E.KT']/co2_per_area_df['AG.LND.TOTL.K2']"
   ]
  },
  {
   "cell_type": "code",
   "execution_count": null,
   "metadata": {},
   "outputs": [],
   "source": [
    "plt.clf()\n",
    "plt.figure(figsize=(12,10))\n",
    "plt.title('CO2 Emission per land area')\n",
    "plt.ylabel('kilotons per sq. km')\n",
    "ax = sns.lineplot(x='Year', y='EN.ATM.CO2E.KT.AREA', data=co2_per_area_df, hue='Country')\n",
    "plt.show()"
   ]
  },
  {
   "cell_type": "code",
   "execution_count": null,
   "metadata": {},
   "outputs": [],
   "source": [
    "othergas_per_area_df = othergas_df.merge(landarea_df, how='left', on=['Country', 'Year'])\n",
    "othergas_per_area_df['EN.ATM.GHGT.KT.CE.AREA'] = othergas_per_area_df['EN.ATM.GHGT.KT.CE']/othergas_per_area_df['AG.LND.TOTL.K2']\n",
    "othergas_per_area_df['EN.ATM.METH.KT.CE.AREA'] = othergas_per_area_df['EN.ATM.METH.KT.CE']/othergas_per_area_df['AG.LND.TOTL.K2']\n",
    "othergas_per_area_df['EN.ATM.NOXE.KT.CE.AREA'] = othergas_per_area_df['EN.ATM.NOXE.KT.CE']/othergas_per_area_df['AG.LND.TOTL.K2']"
   ]
  },
  {
   "cell_type": "code",
   "execution_count": null,
   "metadata": {},
   "outputs": [],
   "source": [
    "fig, axes = plt.subplots(1, 3, figsize=(36,12))\n",
    "axes[0].set_ylabel('kilotons per sq. km (CO2 equivalent)')\n",
    "axes[1].set_ylabel('kilotons per sq. km (CO2 equivalent')\n",
    "axes[2].set_ylabel('kilotons per sq. km (CO2 equivalent')\n",
    "\n",
    "axes[0].set_title('Greenhouse Gas Emissions per land area')\n",
    "axes[1].set_title('Methane Emissions per land area')\n",
    "axes[2].set_title('Nitrous Oxide Emissions per land area')\n",
    "\n",
    "sns.lineplot(x='Year', y='EN.ATM.GHGT.KT.CE.AREA', data=othergas_per_area_df, hue='Country', ax=axes[0])\n",
    "sns.lineplot(x='Year', y='EN.ATM.METH.KT.CE.AREA', data=othergas_per_area_df, hue='Country', ax=axes[1])\n",
    "sns.lineplot(x='Year', y='EN.ATM.NOXE.KT.CE.AREA', data=othergas_per_area_df, hue='Country', ax=axes[2])\n",
    "plt.show()"
   ]
  },
  {
   "cell_type": "markdown",
   "metadata": {},
   "source": [
    "Now that emissions data has been normalized, it now shows Japan being top in emission per their land area with China coming up next."
   ]
  },
  {
   "cell_type": "markdown",
   "metadata": {},
   "source": [
    "Overall, we would use the following:\n",
    "\n",
    "Gas Emissions/Pollution Indicators\n",
    "\n",
    "| Dataset | Series Code | Series Description/Name |\n",
    "| --- | --- | --- |\n",
    "|CO2| EN.ATM.CO2E.KT.AREA | CO2 emissions per land area (kt/sq. km)|\n",
    "|Other Gas | EN.ATM.GHGT.KT.CE.AREA | Total greenhouse gas emissions per land area (kt/sq. km of CO2 equivalent) |\n",
    "|Other Gas | EN.ATM.METH.KT.CE.AREA | Methane emissions per land area (kt/sq. km of CO2 equivalent)|\n",
    "|Other Gas | EN.ATM.NOXE.KT.CE.AREA | Nitrous oxide emissions per land area (thousand metric tons/sq. km of CO2 equivalent)|\n",
    "|Pollution | EN.ATM.PM25.MC.M3 | PM2.5 air pollution, mean annual exposure (micrograms per cubic meter)|\n",
    "|Pollution | EN.ATM.PM25.MC.ZS | PM2.5 air pollution, population exposed to levels exceeding WHO guideline value (% of total) |\n",
    "\n",
    "World Development Indicators\n",
    "\n",
    "| Dataset | Series Code | Series Description/Name |\n",
    "| --- | --- | --- |\n",
    "| GDP | NY.GDP.MKTP.KD.ZG | GDP growth (annual %) |\n",
    "| GDP | NY.GDP.PCAP.CD | GDP per capita (current US$) |\n",
    "| Land Use | AG.LND.FRST.ZS | Forest area (% of land area) |\n",
    "| Land Use | AG.LND.FRST.K2.CHG | Forest area annual change |\n",
    "| Urbanization | SP.POP.GROW | Population growth (annual %) |\n",
    "| Urbanization | SP.RUR.TOTL.ZG | Rural population growth (annual %) |\n",
    "| Urbanization | SP.URB.GROW | Urban population growth (annual %) |\n",
    "\n",
    "Year 2010 to 2017 can be used"
   ]
  },
  {
   "cell_type": "markdown",
   "metadata": {},
   "source": [
    "## Analysis Proper"
   ]
  },
  {
   "cell_type": "markdown",
   "metadata": {},
   "source": [
    "### Data Frame Assembly"
   ]
  },
  {
   "cell_type": "code",
   "execution_count": null,
   "metadata": {},
   "outputs": [],
   "source": [
    "co2_per_area_df = co2_per_area_df[co2_per_area_df['Country'].isin(countries_list)]\n",
    "co2_per_area_df = co2_per_area_df[co2_per_area_df['Year'].isin(range(2010,2018))]\n",
    "co2_per_area_df = co2_per_area_df[['Country', 'Year', 'EN.ATM.CO2E.KT.AREA']]\n",
    "print('CO2 per area df shape', co2_per_area_df.shape)"
   ]
  },
  {
   "cell_type": "code",
   "execution_count": null,
   "metadata": {},
   "outputs": [],
   "source": [
    "othergas_per_area_df = othergas_per_area_df[othergas_per_area_df['Country'].isin(countries_list)]\n",
    "othergas_per_area_df = othergas_per_area_df[othergas_per_area_df['Year'].isin(range(2010,2018))]\n",
    "othergas_per_area_df = othergas_per_area_df[['Country', 'Year', 'EN.ATM.GHGT.KT.CE.AREA', 'EN.ATM.METH.KT.CE.AREA', 'EN.ATM.NOXE.KT.CE.AREA']]\n",
    "print('Other Gas per area df shape', othergas_per_area_df.shape)"
   ]
  },
  {
   "cell_type": "code",
   "execution_count": null,
   "metadata": {},
   "outputs": [],
   "source": [
    "pollution_df = pollution_df[pollution_df['Country'].isin(countries_list)]\n",
    "pollution_df = pollution_df[pollution_df['Year'].isin(range(2010,2018))]\n",
    "pollution_df = pollution_df[['Country', 'Year', 'EN.ATM.PM25.MC.M3', 'EN.ATM.PM25.MC.ZS']]\n",
    "print('Pollution df shape', pollution_df.shape)"
   ]
  },
  {
   "cell_type": "code",
   "execution_count": null,
   "metadata": {},
   "outputs": [],
   "source": [
    "gdp_df = gdp_df[gdp_df['Country'].isin(countries_list)]\n",
    "gdp_df = gdp_df[gdp_df['Year'].isin(range(2010,2018))]\n",
    "gdp_df = gdp_df[['Country', 'Year', 'NY.GDP.MKTP.KD.ZG', 'NY.GDP.PCAP.KD.ZG']]\n",
    "print('GDP df shape', gdp_df.shape)"
   ]
  },
  {
   "cell_type": "code",
   "execution_count": null,
   "metadata": {},
   "outputs": [],
   "source": [
    "forest_change_df = forest_change_df[forest_change_df['Country'].isin(countries_list)]\n",
    "forest_change_df = forest_change_df[forest_change_df['Year'].isin(range(2010,2018))]\n",
    "forest_change_df = forest_change_df[['Country', 'Year', 'AG.LND.FRST.K2.CHG']]\n",
    "print('Forest df shape', forest_change_df.shape)"
   ]
  },
  {
   "cell_type": "code",
   "execution_count": null,
   "metadata": {},
   "outputs": [],
   "source": [
    "landuse_df = landuse_df[landuse_df['Country'].isin(countries_list)]\n",
    "landuse_df = landuse_df[landuse_df['Year'].isin(range(2010,2018))]\n",
    "landuse_df = landuse_df[['Country', 'Year', 'AG.LND.FRST.ZS']]\n",
    "print('Forest df shape', landuse_df.shape)"
   ]
  },
  {
   "cell_type": "code",
   "execution_count": null,
   "metadata": {},
   "outputs": [],
   "source": [
    "urb_df = urb_df[urb_df['Country'].isin(countries_list)]\n",
    "urb_df = urb_df[urb_df['Year'].isin(range(2010,2018))]\n",
    "urb_df = urb_df[['Country', 'Year', 'SP.POP.GROW', 'SP.RUR.TOTL.ZG', 'SP.URB.GROW']]\n",
    "print('Urbanization df shape', urb_df.shape)"
   ]
  },
  {
   "cell_type": "code",
   "execution_count": null,
   "metadata": {},
   "outputs": [],
   "source": [
    "resdf = co2_per_area_df.merge(othergas_per_area_df, how='left', on=['Country', 'Year'])\\\n",
    "        .merge(pollution_df, how='left', on=['Country', 'Year'])\\\n",
    "        .merge(forest_change_df, how='left', on=['Country', 'Year'])\\\n",
    "        .merge(gdp_df, how='left', on=['Country', 'Year'])\\\n",
    "        .merge(landuse_df, how='left', on=['Country', 'Year'])\\\n",
    "        .merge(urb_df, how='left', on=['Country', 'Year'])\n",
    "\n",
    "print('Result df shape =', resdf.shape)"
   ]
  },
  {
   "cell_type": "code",
   "execution_count": null,
   "metadata": {},
   "outputs": [],
   "source": [
    "value_cols = list(resdf.columns)[2:]\n",
    "wdi_cols = list(resdf.columns)[8:]\n",
    "\n",
    "resdf[value_cols].describe()"
   ]
  },
  {
   "cell_type": "markdown",
   "metadata": {},
   "source": [
    "### Correlation\n",
    "\n",
    "We take the correlation of the metrics we have gathered and check how the gas emissions data relate to the given World Development Indicators."
   ]
  },
  {
   "cell_type": "code",
   "execution_count": null,
   "metadata": {},
   "outputs": [],
   "source": [
    "corrdata = resdf[value_cols].corr()\n",
    "plt.figure(figsize=(12,10))\n",
    "sns.heatmap(data=corrdata, annot=True)"
   ]
  },
  {
   "cell_type": "markdown",
   "metadata": {},
   "source": [
    "#### CO2 Emissions"
   ]
  },
  {
   "cell_type": "code",
   "execution_count": null,
   "metadata": {},
   "outputs": [],
   "source": [
    "plot_corr_on_col(resdf, 'EN.ATM.CO2E.KT.AREA', wdi_cols)"
   ]
  },
  {
   "cell_type": "markdown",
   "metadata": {},
   "source": [
    "#### Green House Gases Emissions"
   ]
  },
  {
   "cell_type": "code",
   "execution_count": null,
   "metadata": {},
   "outputs": [],
   "source": [
    "plot_corr_on_col(resdf, 'EN.ATM.GHGT.KT.CE.AREA', wdi_cols)"
   ]
  },
  {
   "cell_type": "markdown",
   "metadata": {},
   "source": [
    "#### Methane Emissions"
   ]
  },
  {
   "cell_type": "code",
   "execution_count": null,
   "metadata": {},
   "outputs": [],
   "source": [
    "plot_corr_on_col(resdf, 'EN.ATM.METH.KT.CE.AREA', wdi_cols)"
   ]
  },
  {
   "cell_type": "markdown",
   "metadata": {},
   "source": [
    "#### Nitrous Oxide Emissions"
   ]
  },
  {
   "cell_type": "code",
   "execution_count": null,
   "metadata": {},
   "outputs": [],
   "source": [
    "plot_corr_on_col(resdf, 'EN.ATM.NOXE.KT.CE.AREA', wdi_cols)"
   ]
  },
  {
   "cell_type": "markdown",
   "metadata": {},
   "source": [
    "#### Air Pollution Mean Annual Exposure"
   ]
  },
  {
   "cell_type": "code",
   "execution_count": null,
   "metadata": {},
   "outputs": [],
   "source": [
    "plot_corr_on_col(resdf, 'EN.ATM.PM25.MC.M3', wdi_cols)"
   ]
  },
  {
   "cell_type": "markdown",
   "metadata": {},
   "source": [
    "#### Air Pollution Percent Population exposed to levels exceeding WHO guideline"
   ]
  },
  {
   "cell_type": "code",
   "execution_count": null,
   "metadata": {},
   "outputs": [],
   "source": [
    "plot_corr_on_col(resdf, 'EN.ATM.PM25.MC.ZS', wdi_cols)"
   ]
  },
  {
   "cell_type": "markdown",
   "metadata": {},
   "source": [
    "#### Summary\n",
    "\n",
    "For the 5 countries:\n",
    "* Gas Emissions are in general positively correlated with population growth and GDP\n",
    "* CO2 emissions showed to be negatively correlated with population growth and positively correlated with Forest Area\n",
    "* Air Pollution Mean Exposure is negatively correlated with the Forest Land Area\n",
    "\n",
    "These seems to be counter-intuitive to common knowledge as these imply that as the population rate increase would reduce CO2 and increasing forest area will also increase CO2 emissions.  Though correlation does not equate to causation, maybe this relation is not as simple as being shown.\n",
    "\n",
    "However, we may see correlation changes per country, specifically for India, Japan and the United States and just take the CO2 emission and Air Pollution Mean Annual Exposure."
   ]
  },
  {
   "cell_type": "markdown",
   "metadata": {},
   "source": [
    "### Correlation - United States"
   ]
  },
  {
   "cell_type": "code",
   "execution_count": null,
   "metadata": {},
   "outputs": [],
   "source": [
    "res_usa_df = resdf[resdf['Country'] == 'United States']\n",
    "\n",
    "corrdata_usa = res_usa_df[value_cols].corr()\n",
    "plt.figure(figsize=(12,10))\n",
    "sns.heatmap(data=corrdata_usa, annot=True)"
   ]
  },
  {
   "cell_type": "code",
   "execution_count": null,
   "metadata": {},
   "outputs": [],
   "source": [
    "plot_corr_on_col(res_usa_df, 'EN.ATM.CO2E.KT.AREA', wdi_cols)"
   ]
  },
  {
   "cell_type": "code",
   "execution_count": null,
   "metadata": {},
   "outputs": [],
   "source": [
    "plot_corr_on_col(res_usa_df, 'EN.ATM.PM25.MC.M3', wdi_cols)"
   ]
  },
  {
   "cell_type": "markdown",
   "metadata": {},
   "source": [
    "#### Summary (United States)\n",
    "\n",
    "CO2 Emissions and Air Pollution are correlated with relatively the same items.  However, this showed that both are negatively correlated with Forest Area."
   ]
  },
  {
   "cell_type": "markdown",
   "metadata": {},
   "source": [
    "### Correlation - Japan"
   ]
  },
  {
   "cell_type": "code",
   "execution_count": null,
   "metadata": {},
   "outputs": [],
   "source": [
    "res_jpn_df = resdf[resdf['Country'] == 'Japan']\n",
    "\n",
    "corrdata_jpn = res_jpn_df[value_cols].corr()\n",
    "plt.figure(figsize=(12,10))\n",
    "sns.heatmap(data=corrdata_jpn, annot=True)"
   ]
  },
  {
   "cell_type": "code",
   "execution_count": null,
   "metadata": {},
   "outputs": [],
   "source": [
    "plot_corr_on_col(res_jpn_df, 'EN.ATM.CO2E.KT.AREA', wdi_cols)"
   ]
  },
  {
   "cell_type": "code",
   "execution_count": null,
   "metadata": {},
   "outputs": [],
   "source": [
    "plot_corr_on_col(res_jpn_df, 'EN.ATM.PM25.MC.M3', wdi_cols)"
   ]
  },
  {
   "cell_type": "markdown",
   "metadata": {},
   "source": [
    "#### Summary (Japan)\n",
    "\n",
    "For Japan, it showed CO2 emissions and air pollution to be negatively correlated with Rural Population Growth.  Based on earlier graphs, Japan did show a significant increase in rural population for a time that reflected on this correlation."
   ]
  },
  {
   "cell_type": "markdown",
   "metadata": {},
   "source": [
    "### Correlation - India"
   ]
  },
  {
   "cell_type": "code",
   "execution_count": null,
   "metadata": {},
   "outputs": [],
   "source": [
    "res_ind_df = resdf[resdf['Country'] == 'India']\n",
    "\n",
    "corrdata_ind = res_ind_df[value_cols].corr()\n",
    "plt.figure(figsize=(12,10))\n",
    "sns.heatmap(data=corrdata_ind, annot=True)"
   ]
  },
  {
   "cell_type": "code",
   "execution_count": null,
   "metadata": {},
   "outputs": [],
   "source": [
    "plot_corr_on_col(res_ind_df, 'EN.ATM.CO2E.KT.AREA', wdi_cols)"
   ]
  },
  {
   "cell_type": "code",
   "execution_count": null,
   "metadata": {},
   "outputs": [],
   "source": [
    "plot_corr_on_col(res_ind_df, 'EN.ATM.PM25.MC.M3', wdi_cols)"
   ]
  },
  {
   "cell_type": "markdown",
   "metadata": {},
   "source": [
    "#### Summary (India)\n",
    "\n",
    "For India, it is only on Air Pollution that showed the negative correlation with Forest Area."
   ]
  },
  {
   "cell_type": "markdown",
   "metadata": {},
   "source": [
    "## Analysis Summary\n",
    "\n",
    "In general, the data shows that gas emissions and air pollution increase along with the development indicators like population growth and GDP.  These 5 countries are among the most developed in the world thus the GDP and population.  Also, the data only span from 2010 to 2017 as this the time period that the data gathered have in common but seems not enough to find a significant trend.\n",
    "\n",
    "On the other hand, Forest Area being negatively correlated with gas emissions and pollution may be something worth looking further into as most countries in the set have this trend."
   ]
  },
  {
   "cell_type": "markdown",
   "metadata": {},
   "source": [
    "## Takeaways\n",
    "\n",
    "Overall, it may be better to find trends on this on a per country basis instead of finding out trends on multiple countries.  Cultures may play a role on how each country address any environment issues and natural calamities are not the same in all countries.\n",
    "\n",
    "At this analysis, however, Forest Area seems to be significant to having less gas emissions and pollution.  Looking further into data on reforestation and even tree conditions (e.g. there maybe a lot of forests in California but significant parts of those are \"dead trees\" that would just be fuel to forest fires) would give further detail if those definitely help address the environment.  This kind of data are usually found in GIS (Geographic Information System) databases which have a different way of processing/preparation before it can be analyzed in this manner."
   ]
  },
  {
   "cell_type": "markdown",
   "metadata": {},
   "source": []
  }
 ],
 "metadata": {
  "kernelspec": {
   "display_name": "Python 3.9.12 ('google_analytics_cert')",
   "language": "python",
   "name": "python3"
  },
  "language_info": {
   "codemirror_mode": {
    "name": "ipython",
    "version": 3
   },
   "file_extension": ".py",
   "mimetype": "text/x-python",
   "name": "python",
   "nbconvert_exporter": "python",
   "pygments_lexer": "ipython3",
   "version": "3.9.12"
  },
  "vscode": {
   "interpreter": {
    "hash": "ed7670ed09755f587c04ad1d640d15a134edbfe4ad5359d9b1d26866f39a2661"
   }
  }
 },
 "nbformat": 4,
 "nbformat_minor": 4
}
